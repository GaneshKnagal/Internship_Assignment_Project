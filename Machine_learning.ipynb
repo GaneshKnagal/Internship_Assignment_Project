{
 "cells": [
  {
   "cell_type": "markdown",
   "id": "77922538-aaa0-44ee-9cc8-a9e0144dc187",
   "metadata": {},
   "source": [
    "Machine_learning Worksheet 1"
   ]
  },
  {
   "cell_type": "markdown",
   "id": "15b600c7-c46d-4293-9166-c424bb9c63b8",
   "metadata": {},
   "source": [
    "Answer "
   ]
  },
  {
   "cell_type": "markdown",
   "id": "c1471801-2bc5-4c51-bb4b-1d6e8cd2c90d",
   "metadata": {},
   "source": [
    "1. d\n",
    "2. a\n",
    "3. b\n",
    "4. b\n",
    "5. c\n",
    "6. b\n",
    "7. d\n",
    "8. d\n",
    "9. a\n",
    "10. b\n",
    "11. a\n",
    "12. a,b,c"
   ]
  },
  {
   "cell_type": "markdown",
   "id": "3c9e511a-45e3-4512-b4be-789cfd44174e",
   "metadata": {},
   "source": [
    "# Question 13:Explain the term regularization?\n",
    "Answer: Regularization is a technique used to prevent overfitting in a model. \n",
    " It adds a penalty term to the cost function that shrinks the parameter estimates towards zero.\n",
    " This technique is used when the model is too complex and has too many features. \n",
    " Regularization helps to reduce the variance of the model and improve its generalization performance."
   ]
  },
  {
   "cell_type": "markdown",
   "id": "5231f903-8d49-4188-a9b4-afd5a24c08ff",
   "metadata": {},
   "source": [
    "# Question 14:Which particular algorithms are used for regularization? \n",
    "Answer: There are many different regularization algorithms that can be used in machine learning.\n",
    "  The best regularization algorithm to use will depend on the specific machine learning problem that is being solved.\n",
    "  Elastic net regularization is a combination of ridge regression and lasso regression.\n",
    "  It adds a penalty to the loss function that is proportional to a linear combination of the square of the magnitude of the coefficients   and the absolute value of the coefficients.This can be helpful for models that have both high-cardinality features and features with     strong correlations.\n"
   ]
  },
  {
   "cell_type": "markdown",
   "id": "df6c3569-deb9-427c-b447-7ae70e90110c",
   "metadata": {},
   "source": [
    "# Question 15:Explain the term error present in linear regression equation?\n",
    "Answer: The error present in linear regression equation is the difference between the predicted value and the actual value. \n",
    " The goal of linear regression is to minimize this error by finding the best fit line that passes through the data points.\n",
    " The error can be measured using various metrics such as Mean Squared Error (MSE), Root Mean Squared Error (RMSE), \n",
    " Mean Absolute Error (MAE), etc.\n",
    " "
   ]
  },
  {
   "cell_type": "code",
   "execution_count": null,
   "id": "cfc2a2e4-e96e-401a-a523-30c8dc7128e8",
   "metadata": {},
   "outputs": [],
   "source": []
  }
 ],
 "metadata": {
  "kernelspec": {
   "display_name": "Python 3 (ipykernel)",
   "language": "python",
   "name": "python3"
  },
  "language_info": {
   "codemirror_mode": {
    "name": "ipython",
    "version": 3
   },
   "file_extension": ".py",
   "mimetype": "text/x-python",
   "name": "python",
   "nbconvert_exporter": "python",
   "pygments_lexer": "ipython3",
   "version": "3.10.6"
  }
 },
 "nbformat": 4,
 "nbformat_minor": 5
}
