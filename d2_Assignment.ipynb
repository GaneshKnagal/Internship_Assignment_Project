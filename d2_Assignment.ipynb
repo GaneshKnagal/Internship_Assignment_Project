{
 "cells": [
  {
   "cell_type": "markdown",
   "id": "13eaf73d-8a62-4b55-aff8-de2967b10109",
   "metadata": {},
   "source": [
    "Answer of d2 Assignment "
   ]
  },
  {
   "cell_type": "markdown",
   "id": "5cabdcad-e96f-44f6-a274-a3a22e5372ff",
   "metadata": {},
   "source": [
    "21. d\n",
    "22. d\n",
    "23. b\n",
    "24. d\n",
    "25. c\n",
    "26. b,c,d,e\n",
    "27. c\n",
    "28. a,b,c,d\n",
    "29. b\n",
    "30. b "
   ]
  },
  {
   "cell_type": "code",
   "execution_count": null,
   "id": "b76e3c6a-a363-49d7-a32e-75798f03e105",
   "metadata": {},
   "outputs": [],
   "source": []
  },
  {
   "cell_type": "code",
   "execution_count": null,
   "id": "d3edf1a9-eea2-4122-b6a9-2a79e094025c",
   "metadata": {},
   "outputs": [],
   "source": []
  }
 ],
 "metadata": {
  "kernelspec": {
   "display_name": "Python 3 (ipykernel)",
   "language": "python",
   "name": "python3"
  },
  "language_info": {
   "codemirror_mode": {
    "name": "ipython",
    "version": 3
   },
   "file_extension": ".py",
   "mimetype": "text/x-python",
   "name": "python",
   "nbconvert_exporter": "python",
   "pygments_lexer": "ipython3",
   "version": "3.10.6"
  }
 },
 "nbformat": 4,
 "nbformat_minor": 5
}
