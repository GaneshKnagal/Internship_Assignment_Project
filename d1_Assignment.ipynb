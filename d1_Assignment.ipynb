{
 "cells": [
  {
   "cell_type": "markdown",
   "id": "e1d7ecff-4c52-4412-8ba8-fe56c43112e9",
   "metadata": {},
   "source": [
    "Answer of d1 Assignment "
   ]
  },
  {
   "cell_type": "markdown",
   "id": "32b13503-7c37-4fda-828f-8464740d7d49",
   "metadata": {},
   "source": [
    "1. c\n",
    "2. b\n",
    "3. a\n",
    "4. d\n",
    "5. a\n",
    "6. c\n",
    "7. c\n",
    "8. a\n",
    "9. b \n",
    "10. a"
   ]
  },
  {
   "cell_type": "markdown",
   "id": "d75c1b57-250c-4a07-bafa-db4904236e5e",
   "metadata": {},
   "source": [
    "11. c\n",
    "12. c\n",
    "13. b\n",
    "14. b\n",
    "15. d\n",
    "16. d\n",
    "17. d\n",
    "18. c\n",
    "19. b\n",
    "20. c"
   ]
  },
  {
   "cell_type": "code",
   "execution_count": null,
   "id": "63fe05fc-1107-4827-a31f-66f64607eda8",
   "metadata": {},
   "outputs": [],
   "source": []
  },
  {
   "cell_type": "code",
   "execution_count": null,
   "id": "99485086-0fea-49f0-ac30-01d70b162f4e",
   "metadata": {},
   "outputs": [],
   "source": []
  },
  {
   "cell_type": "code",
   "execution_count": null,
   "id": "54223e75-a160-42dd-a566-565c96047794",
   "metadata": {},
   "outputs": [],
   "source": []
  },
  {
   "cell_type": "code",
   "execution_count": null,
   "id": "168ac2e2-5eb8-4d88-82e3-65afbe9c37a7",
   "metadata": {},
   "outputs": [],
   "source": []
  }
 ],
 "metadata": {
  "kernelspec": {
   "display_name": "Python 3 (ipykernel)",
   "language": "python",
   "name": "python3"
  },
  "language_info": {
   "codemirror_mode": {
    "name": "ipython",
    "version": 3
   },
   "file_extension": ".py",
   "mimetype": "text/x-python",
   "name": "python",
   "nbconvert_exporter": "python",
   "pygments_lexer": "ipython3",
   "version": "3.10.6"
  }
 },
 "nbformat": 4,
 "nbformat_minor": 5
}
