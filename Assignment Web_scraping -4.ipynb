{
 "cells": [
  {
   "cell_type": "markdown",
   "id": "7ac83acc-7b3e-42de-8986-496b54214927",
   "metadata": {},
   "source": [
    "Assignment Web_scraping -4"
   ]
  },
  {
   "cell_type": "code",
   "execution_count": 15,
   "id": "e9028660-aaf8-450c-a3b3-5c12fffc12f7",
   "metadata": {},
   "outputs": [],
   "source": [
    "# importing librarys \n",
    "import selenium\n",
    "import pandas as pd \n",
    "from selenium import webdriver\n",
    "import warnings \n",
    "warnings.filterwarnings('ignore')\n",
    "from selenium.webdriver.common.by import By \n",
    "import time\n",
    "import requests\n",
    "import base64\n",
    "import re\n",
    "from selenium.common.exceptions import NoSuchElementException \n",
    "from selenium.webdriver.common.keys import Keys"
   ]
  },
  {
   "cell_type": "code",
   "execution_count": null,
   "id": "b7247f68-4445-446a-8cce-db9d6278b595",
   "metadata": {},
   "outputs": [],
   "source": []
  },
  {
   "cell_type": "code",
   "execution_count": 2,
   "id": "cdc95173-b892-431c-98ac-96aecaf3a4d9",
   "metadata": {},
   "outputs": [],
   "source": [
    "# connecting to chrome driver \n",
    "driver = webdriver.Chrome(r\"C:\\Users\\ganes\\Downloads\\Internship_assignment\\Chrome_Driver\\chromedriver_win32\\chromedriver.exe\")"
   ]
  },
  {
   "cell_type": "code",
   "execution_count": null,
   "id": "9ba16b9a-7c9f-4ae5-909d-99699e3ffa9a",
   "metadata": {},
   "outputs": [],
   "source": []
  },
  {
   "cell_type": "markdown",
   "id": "87a0a12c-b42b-41dd-bc72-2f56976cf974",
   "metadata": {},
   "source": [
    "Question 1. Scrape the details of most viewed videos on YouTube from Wikipedia.\n",
    "           Url = https://en.wikipedia.org/wiki/List_of_most-viewed_YouTube_videos"
   ]
  },
  {
   "cell_type": "code",
   "execution_count": 3,
   "id": "60789bd8-14cb-4622-b2fb-940ad3e413ac",
   "metadata": {},
   "outputs": [],
   "source": [
    "# connecting the webpage according to Question \n",
    "driver.get('https://en.wikipedia.org/wiki/List_of_most-viewed_YouTube_videos')"
   ]
  },
  {
   "cell_type": "code",
   "execution_count": null,
   "id": "fa6eb3f1-136f-4f65-b3b3-dc965d573282",
   "metadata": {},
   "outputs": [],
   "source": []
  },
  {
   "cell_type": "code",
   "execution_count": 4,
   "id": "a0ee7dc3-3e03-417a-a50a-13078128f6d2",
   "metadata": {},
   "outputs": [
    {
     "data": {
      "text/plain": [
       "30"
      ]
     },
     "execution_count": 4,
     "metadata": {},
     "output_type": "execute_result"
    }
   ],
   "source": [
    "rank=[]\n",
    "rank_list= driver.find_elements(By.XPATH,'/html/body/div[2]/div/div[3]/main/div[3]/div[3]/div[1]/table[2]/tbody/tr/td[1]')\n",
    "for i in rank_list:\n",
    "    rank_lis=i.text\n",
    "    rank.append(rank_lis)\n",
    "len(rank)"
   ]
  },
  {
   "cell_type": "code",
   "execution_count": 7,
   "id": "3822c242-14a8-41b7-88a4-5f7d94617666",
   "metadata": {},
   "outputs": [
    {
     "data": {
      "text/plain": [
       "30"
      ]
     },
     "execution_count": 7,
     "metadata": {},
     "output_type": "execute_result"
    }
   ],
   "source": [
    "video_name=[]\n",
    "video_names= driver.find_elements(By.XPATH,'/html/body/div[2]/div/div[3]/main/div[3]/div[3]/div[1]/table[2]/tbody/tr/td[2]')\n",
    "for i in video_names:\n",
    "    video_nam=i.text\n",
    "    modified_string = video_nam[:-4]\n",
    "    video_name.append(modified_string)\n",
    "len(video_name)"
   ]
  },
  {
   "cell_type": "code",
   "execution_count": null,
   "id": "d310966d-b145-4f01-b499-d6ed15062308",
   "metadata": {},
   "outputs": [],
   "source": []
  },
  {
   "cell_type": "code",
   "execution_count": null,
   "id": "3f0df013-5670-4554-bbd4-05e60b2dcae1",
   "metadata": {},
   "outputs": [],
   "source": []
  },
  {
   "cell_type": "code",
   "execution_count": 8,
   "id": "fcf539df-631c-4b33-9744-201d5f4fc760",
   "metadata": {},
   "outputs": [
    {
     "data": {
      "text/plain": [
       "30"
      ]
     },
     "execution_count": 8,
     "metadata": {},
     "output_type": "execute_result"
    }
   ],
   "source": [
    "uploader_name=[]\n",
    "uploader_names= driver.find_elements(By.XPATH,'/html/body/div[2]/div/div[3]/main/div[3]/div[3]/div[1]/table[2]/tbody/tr/td[3]')\n",
    "for i in uploader_names:\n",
    "    uploader_nam=i.text\n",
    "    uploader_name.append(uploader_nam)\n",
    "len(uploader_name)"
   ]
  },
  {
   "cell_type": "code",
   "execution_count": 9,
   "id": "b3566853-336b-4a30-b53f-b47e0569bef7",
   "metadata": {},
   "outputs": [
    {
     "data": {
      "text/plain": [
       "30"
      ]
     },
     "execution_count": 9,
     "metadata": {},
     "output_type": "execute_result"
    }
   ],
   "source": [
    "views_in_billions=[]\n",
    "views_in_billion= driver.find_elements(By.XPATH,'/html/body/div[2]/div/div[3]/main/div[3]/div[3]/div[1]/table[2]/tbody/tr/td[4]')\n",
    "for i in views_in_billion:\n",
    "    views_in_billio=i.text\n",
    "    views_in_billions.append(views_in_billio)\n",
    "len(views_in_billions)"
   ]
  },
  {
   "cell_type": "code",
   "execution_count": 10,
   "id": "e0397035-fbe3-48b5-ac68-47049677d19d",
   "metadata": {},
   "outputs": [
    {
     "data": {
      "text/plain": [
       "30"
      ]
     },
     "execution_count": 10,
     "metadata": {},
     "output_type": "execute_result"
    }
   ],
   "source": [
    "publication_date=[]\n",
    "publication_dates= driver.find_elements(By.XPATH,'/html/body/div[2]/div/div[3]/main/div[3]/div[3]/div[1]/table[2]/tbody/tr/td[5]')\n",
    "for i in publication_dates:\n",
    "    publication_dat=i.text\n",
    "    publication_date.append(publication_dat)\n",
    "len(publication_date)"
   ]
  },
  {
   "cell_type": "code",
   "execution_count": 11,
   "id": "a0d192e4-2195-42d4-ae60-256539b1c25a",
   "metadata": {},
   "outputs": [
    {
     "data": {
      "text/html": [
       "<div>\n",
       "<style scoped>\n",
       "    .dataframe tbody tr th:only-of-type {\n",
       "        vertical-align: middle;\n",
       "    }\n",
       "\n",
       "    .dataframe tbody tr th {\n",
       "        vertical-align: top;\n",
       "    }\n",
       "\n",
       "    .dataframe thead th {\n",
       "        text-align: right;\n",
       "    }\n",
       "</style>\n",
       "<table border=\"1\" class=\"dataframe\">\n",
       "  <thead>\n",
       "    <tr style=\"text-align: right;\">\n",
       "      <th></th>\n",
       "      <th>Rank</th>\n",
       "      <th>Video Name</th>\n",
       "      <th>Uploader Name</th>\n",
       "      <th>Views In Billions</th>\n",
       "      <th>Publication Date</th>\n",
       "    </tr>\n",
       "  </thead>\n",
       "  <tbody>\n",
       "    <tr>\n",
       "      <th>0</th>\n",
       "      <td>1.</td>\n",
       "      <td>\"Baby Shark Dance</td>\n",
       "      <td>Pinkfong Baby Shark - Kids' Songs &amp; Stories</td>\n",
       "      <td>12.85</td>\n",
       "      <td>June 17, 2016</td>\n",
       "    </tr>\n",
       "    <tr>\n",
       "      <th>1</th>\n",
       "      <td>2.</td>\n",
       "      <td>\"Despacito</td>\n",
       "      <td>Luis Fonsi</td>\n",
       "      <td>8.16</td>\n",
       "      <td>January 12, 2017</td>\n",
       "    </tr>\n",
       "    <tr>\n",
       "      <th>2</th>\n",
       "      <td>3.</td>\n",
       "      <td>\"Johny Johny Yes Papa\"</td>\n",
       "      <td>LooLoo Kids</td>\n",
       "      <td>6.70</td>\n",
       "      <td>October 8, 2016</td>\n",
       "    </tr>\n",
       "    <tr>\n",
       "      <th>3</th>\n",
       "      <td>4.</td>\n",
       "      <td>\"Bath Song\"</td>\n",
       "      <td>Cocomelon – Nursery Rhymes</td>\n",
       "      <td>6.20</td>\n",
       "      <td>May 2, 2018</td>\n",
       "    </tr>\n",
       "    <tr>\n",
       "      <th>4</th>\n",
       "      <td>5.</td>\n",
       "      <td>\"Shape of You\"</td>\n",
       "      <td>Ed Sheeran</td>\n",
       "      <td>6.00</td>\n",
       "      <td>January 30, 2017</td>\n",
       "    </tr>\n",
       "    <tr>\n",
       "      <th>5</th>\n",
       "      <td>6.</td>\n",
       "      <td>\"See You Again\"</td>\n",
       "      <td>Wiz Khalifa</td>\n",
       "      <td>5.89</td>\n",
       "      <td>April 6, 2015</td>\n",
       "    </tr>\n",
       "    <tr>\n",
       "      <th>6</th>\n",
       "      <td>7.</td>\n",
       "      <td>\"Phonics Song with Two Words\"</td>\n",
       "      <td>ChuChu TV</td>\n",
       "      <td>5.30</td>\n",
       "      <td>March 6, 2014</td>\n",
       "    </tr>\n",
       "    <tr>\n",
       "      <th>7</th>\n",
       "      <td>8.</td>\n",
       "      <td>\"Wheels on the Bus\"</td>\n",
       "      <td>Cocomelon – Nursery Rhymes</td>\n",
       "      <td>5.24</td>\n",
       "      <td>May 24, 2018</td>\n",
       "    </tr>\n",
       "    <tr>\n",
       "      <th>8</th>\n",
       "      <td>9.</td>\n",
       "      <td>\"Uptown Funk\"</td>\n",
       "      <td>Mark Ronson</td>\n",
       "      <td>4.92</td>\n",
       "      <td>November 19, 2014</td>\n",
       "    </tr>\n",
       "    <tr>\n",
       "      <th>9</th>\n",
       "      <td>10.</td>\n",
       "      <td>\"Learning Colors – Colorful Eggs on a Farm\"</td>\n",
       "      <td>Miroshka TV</td>\n",
       "      <td>4.89</td>\n",
       "      <td>February 27, 2018</td>\n",
       "    </tr>\n",
       "    <tr>\n",
       "      <th>10</th>\n",
       "      <td>11.</td>\n",
       "      <td>\"Gangnam Style\"</td>\n",
       "      <td>Psy</td>\n",
       "      <td>4.80</td>\n",
       "      <td>July 15, 2012</td>\n",
       "    </tr>\n",
       "    <tr>\n",
       "      <th>11</th>\n",
       "      <td>12.</td>\n",
       "      <td>\"Masha and the Bear – Recipe for Disaster\"</td>\n",
       "      <td>Get Movies</td>\n",
       "      <td>4.55</td>\n",
       "      <td>January 31, 2012</td>\n",
       "    </tr>\n",
       "    <tr>\n",
       "      <th>12</th>\n",
       "      <td>13.</td>\n",
       "      <td>\"Dame Tu Cosita\"</td>\n",
       "      <td>El Chombo</td>\n",
       "      <td>4.35</td>\n",
       "      <td>April 5, 2018</td>\n",
       "    </tr>\n",
       "    <tr>\n",
       "      <th>13</th>\n",
       "      <td>14.</td>\n",
       "      <td>\"Axel F\"</td>\n",
       "      <td>Crazy Frog</td>\n",
       "      <td>3.91</td>\n",
       "      <td>June 16, 2009</td>\n",
       "    </tr>\n",
       "    <tr>\n",
       "      <th>14</th>\n",
       "      <td>15.</td>\n",
       "      <td>\"Sugar\"</td>\n",
       "      <td>Maroon 5</td>\n",
       "      <td>3.87</td>\n",
       "      <td>January 14, 2015</td>\n",
       "    </tr>\n",
       "    <tr>\n",
       "      <th>15</th>\n",
       "      <td>16.</td>\n",
       "      <td>\"Roar\"</td>\n",
       "      <td>Katy Perry</td>\n",
       "      <td>3.80</td>\n",
       "      <td>September 5, 2013</td>\n",
       "    </tr>\n",
       "    <tr>\n",
       "      <th>16</th>\n",
       "      <td>17.</td>\n",
       "      <td>\"Counting Stars\"</td>\n",
       "      <td>OneRepublic</td>\n",
       "      <td>3.79</td>\n",
       "      <td>May 31, 2013</td>\n",
       "    </tr>\n",
       "    <tr>\n",
       "      <th>17</th>\n",
       "      <td>18.</td>\n",
       "      <td>\"Sorry\"</td>\n",
       "      <td>Justin Bieber</td>\n",
       "      <td>3.66</td>\n",
       "      <td>October 22, 2015</td>\n",
       "    </tr>\n",
       "    <tr>\n",
       "      <th>18</th>\n",
       "      <td>19.</td>\n",
       "      <td>\"Baa Baa Black Sheep\"</td>\n",
       "      <td>Cocomelon – Nursery Rhymes</td>\n",
       "      <td>3.64</td>\n",
       "      <td>June 25, 2018</td>\n",
       "    </tr>\n",
       "    <tr>\n",
       "      <th>19</th>\n",
       "      <td>20.</td>\n",
       "      <td>\"Thinking Out Loud\"</td>\n",
       "      <td>Ed Sheeran</td>\n",
       "      <td>3.60</td>\n",
       "      <td>October 7, 2014</td>\n",
       "    </tr>\n",
       "    <tr>\n",
       "      <th>20</th>\n",
       "      <td>21.</td>\n",
       "      <td>\"Waka Waka (This Time for Africa)\"</td>\n",
       "      <td>Shakira</td>\n",
       "      <td>3.59</td>\n",
       "      <td>June 4, 2010</td>\n",
       "    </tr>\n",
       "    <tr>\n",
       "      <th>21</th>\n",
       "      <td>22.</td>\n",
       "      <td>\"Dark Horse\"</td>\n",
       "      <td>Katy Perry</td>\n",
       "      <td>3.52</td>\n",
       "      <td>February 20, 2014</td>\n",
       "    </tr>\n",
       "    <tr>\n",
       "      <th>22</th>\n",
       "      <td>23.</td>\n",
       "      <td>\"Lakdi Ki Kathi\"</td>\n",
       "      <td>Jingle Toons</td>\n",
       "      <td>3.48</td>\n",
       "      <td>June 14, 2018</td>\n",
       "    </tr>\n",
       "    <tr>\n",
       "      <th>23</th>\n",
       "      <td>24.</td>\n",
       "      <td>\"Faded\"</td>\n",
       "      <td>Alan Walker</td>\n",
       "      <td>3.45</td>\n",
       "      <td>December 3, 2015</td>\n",
       "    </tr>\n",
       "    <tr>\n",
       "      <th>24</th>\n",
       "      <td>25.</td>\n",
       "      <td>\"Perfect\"</td>\n",
       "      <td>Ed Sheeran</td>\n",
       "      <td>3.45</td>\n",
       "      <td>November 9, 2017</td>\n",
       "    </tr>\n",
       "    <tr>\n",
       "      <th>25</th>\n",
       "      <td>26.</td>\n",
       "      <td>\"Let Her Go\"</td>\n",
       "      <td>Passenger</td>\n",
       "      <td>3.44</td>\n",
       "      <td>July 25, 2012</td>\n",
       "    </tr>\n",
       "    <tr>\n",
       "      <th>26</th>\n",
       "      <td>27.</td>\n",
       "      <td>\"Girls Like You\"</td>\n",
       "      <td>Maroon 5</td>\n",
       "      <td>3.42</td>\n",
       "      <td>May 31, 2018</td>\n",
       "    </tr>\n",
       "    <tr>\n",
       "      <th>27</th>\n",
       "      <td>28.</td>\n",
       "      <td>\"Humpty the train on a fruits ride\"</td>\n",
       "      <td>Kiddiestv Hindi – Nursery Rhymes &amp; Kids Songs</td>\n",
       "      <td>3.41</td>\n",
       "      <td>January 26, 2018</td>\n",
       "    </tr>\n",
       "    <tr>\n",
       "      <th>28</th>\n",
       "      <td>29.</td>\n",
       "      <td>\"Lean On\"</td>\n",
       "      <td>Major Lazer</td>\n",
       "      <td>3.38</td>\n",
       "      <td>March 22, 2015</td>\n",
       "    </tr>\n",
       "    <tr>\n",
       "      <th>29</th>\n",
       "      <td>30.</td>\n",
       "      <td>\"Bailando\"</td>\n",
       "      <td>Enrique Iglesias</td>\n",
       "      <td>3.38</td>\n",
       "      <td>April 11, 2014</td>\n",
       "    </tr>\n",
       "  </tbody>\n",
       "</table>\n",
       "</div>"
      ],
      "text/plain": [
       "   Rank                                   Video Name  \\\n",
       "0    1.                            \"Baby Shark Dance   \n",
       "1    2.                                   \"Despacito   \n",
       "2    3.                       \"Johny Johny Yes Papa\"   \n",
       "3    4.                                  \"Bath Song\"   \n",
       "4    5.                               \"Shape of You\"   \n",
       "5    6.                              \"See You Again\"   \n",
       "6    7.                \"Phonics Song with Two Words\"   \n",
       "7    8.                          \"Wheels on the Bus\"   \n",
       "8    9.                                \"Uptown Funk\"   \n",
       "9   10.  \"Learning Colors – Colorful Eggs on a Farm\"   \n",
       "10  11.                              \"Gangnam Style\"   \n",
       "11  12.   \"Masha and the Bear – Recipe for Disaster\"   \n",
       "12  13.                             \"Dame Tu Cosita\"   \n",
       "13  14.                                     \"Axel F\"   \n",
       "14  15.                                      \"Sugar\"   \n",
       "15  16.                                       \"Roar\"   \n",
       "16  17.                             \"Counting Stars\"   \n",
       "17  18.                                      \"Sorry\"   \n",
       "18  19.                        \"Baa Baa Black Sheep\"   \n",
       "19  20.                          \"Thinking Out Loud\"   \n",
       "20  21.           \"Waka Waka (This Time for Africa)\"   \n",
       "21  22.                                 \"Dark Horse\"   \n",
       "22  23.                             \"Lakdi Ki Kathi\"   \n",
       "23  24.                                      \"Faded\"   \n",
       "24  25.                                    \"Perfect\"   \n",
       "25  26.                                 \"Let Her Go\"   \n",
       "26  27.                             \"Girls Like You\"   \n",
       "27  28.          \"Humpty the train on a fruits ride\"   \n",
       "28  29.                                    \"Lean On\"   \n",
       "29  30.                                   \"Bailando\"   \n",
       "\n",
       "                                    Uploader Name Views In Billions  \\\n",
       "0     Pinkfong Baby Shark - Kids' Songs & Stories             12.85   \n",
       "1                                      Luis Fonsi              8.16   \n",
       "2                                     LooLoo Kids              6.70   \n",
       "3                      Cocomelon – Nursery Rhymes              6.20   \n",
       "4                                      Ed Sheeran              6.00   \n",
       "5                                     Wiz Khalifa              5.89   \n",
       "6                                       ChuChu TV              5.30   \n",
       "7                      Cocomelon – Nursery Rhymes              5.24   \n",
       "8                                     Mark Ronson              4.92   \n",
       "9                                     Miroshka TV              4.89   \n",
       "10                                            Psy              4.80   \n",
       "11                                     Get Movies              4.55   \n",
       "12                                      El Chombo              4.35   \n",
       "13                                     Crazy Frog              3.91   \n",
       "14                                       Maroon 5              3.87   \n",
       "15                                     Katy Perry              3.80   \n",
       "16                                    OneRepublic              3.79   \n",
       "17                                  Justin Bieber              3.66   \n",
       "18                     Cocomelon – Nursery Rhymes              3.64   \n",
       "19                                     Ed Sheeran              3.60   \n",
       "20                                        Shakira              3.59   \n",
       "21                                     Katy Perry              3.52   \n",
       "22                                   Jingle Toons              3.48   \n",
       "23                                    Alan Walker              3.45   \n",
       "24                                     Ed Sheeran              3.45   \n",
       "25                                      Passenger              3.44   \n",
       "26                                       Maroon 5              3.42   \n",
       "27  Kiddiestv Hindi – Nursery Rhymes & Kids Songs              3.41   \n",
       "28                                    Major Lazer              3.38   \n",
       "29                               Enrique Iglesias              3.38   \n",
       "\n",
       "     Publication Date  \n",
       "0       June 17, 2016  \n",
       "1    January 12, 2017  \n",
       "2     October 8, 2016  \n",
       "3         May 2, 2018  \n",
       "4    January 30, 2017  \n",
       "5       April 6, 2015  \n",
       "6       March 6, 2014  \n",
       "7        May 24, 2018  \n",
       "8   November 19, 2014  \n",
       "9   February 27, 2018  \n",
       "10      July 15, 2012  \n",
       "11   January 31, 2012  \n",
       "12      April 5, 2018  \n",
       "13      June 16, 2009  \n",
       "14   January 14, 2015  \n",
       "15  September 5, 2013  \n",
       "16       May 31, 2013  \n",
       "17   October 22, 2015  \n",
       "18      June 25, 2018  \n",
       "19    October 7, 2014  \n",
       "20       June 4, 2010  \n",
       "21  February 20, 2014  \n",
       "22      June 14, 2018  \n",
       "23   December 3, 2015  \n",
       "24   November 9, 2017  \n",
       "25      July 25, 2012  \n",
       "26       May 31, 2018  \n",
       "27   January 26, 2018  \n",
       "28     March 22, 2015  \n",
       "29     April 11, 2014  "
      ]
     },
     "execution_count": 11,
     "metadata": {},
     "output_type": "execute_result"
    }
   ],
   "source": [
    "import pandas as pd\n",
    "df = pd.DataFrame({'Rank':rank,'Video Name':video_name,'Uploader Name':uploader_name,'Views In Billions':views_in_billions,'Publication Date':publication_date})\n",
    "df"
   ]
  },
  {
   "cell_type": "code",
   "execution_count": null,
   "id": "d1866df1-6ec3-48fc-9fb0-b0f306275b8d",
   "metadata": {},
   "outputs": [],
   "source": []
  },
  {
   "cell_type": "code",
   "execution_count": null,
   "id": "bbea834a-95a8-4bb7-a7a5-8ec590469598",
   "metadata": {},
   "outputs": [],
   "source": []
  },
  {
   "cell_type": "markdown",
   "id": "d20e0069-e918-4ff3-8b25-ad17ab45e2ad",
   "metadata": {},
   "source": [
    "Question 2. Scrape the details team India’s international fixtures from bcci.tv.\n",
    "Url = https://www.bcci.tv/."
   ]
  },
  {
   "cell_type": "code",
   "execution_count": 2,
   "id": "7b499ec1-af7f-4d45-90fb-e1e8ac98def4",
   "metadata": {},
   "outputs": [],
   "source": [
    "# connecting to chrome driver \n",
    "driver = webdriver.Chrome(r\"C:\\Users\\ganes\\Downloads\\Internship_assignment\\Chrome_Driver\\chromedriver_win32\\chromedriver.exe\")"
   ]
  },
  {
   "cell_type": "code",
   "execution_count": 3,
   "id": "b61a7a35-9410-40de-8dc1-8b3ac7506471",
   "metadata": {},
   "outputs": [],
   "source": [
    "# connecting the webpage according to Question \n",
    "driver.get('https://www.bcci.tv/')"
   ]
  },
  {
   "cell_type": "code",
   "execution_count": 4,
   "id": "e9a3ce25-7532-4f72-aa73-831723029cd7",
   "metadata": {},
   "outputs": [],
   "source": [
    "search = driver.find_element(By.XPATH,'/html/body/nav/div[1]/div[2]/ul[1]/li[2]/a')\n",
    "search.click()"
   ]
  },
  {
   "cell_type": "code",
   "execution_count": 5,
   "id": "63ec2145-d32b-44c4-95c3-997b5796c9e2",
   "metadata": {},
   "outputs": [
    {
     "data": {
      "text/plain": [
       "8"
      ]
     },
     "execution_count": 5,
     "metadata": {},
     "output_type": "execute_result"
    }
   ],
   "source": [
    "Match_title=[]\n",
    "Match_titles= driver.find_elements(By.XPATH,'/html/body/div[2]/div[2]/div/div/div/div[2]/div[3]/div[1]/div/div/div[3]/div/span[1]')\n",
    "for i in Match_titles:\n",
    "    Match_titl=i.text\n",
    "    Match_title.append(Match_titl[:-2])\n",
    "len(Match_title)"
   ]
  },
  {
   "cell_type": "code",
   "execution_count": 6,
   "id": "d95ab7ac-d47b-48a6-9dce-f3f0232c5d13",
   "metadata": {},
   "outputs": [
    {
     "data": {
      "text/plain": [
       "8"
      ]
     },
     "execution_count": 6,
     "metadata": {},
     "output_type": "execute_result"
    }
   ],
   "source": [
    "Series_name=[]\n",
    "Series_names= driver.find_elements(By.XPATH,'/html/body/div[2]/div[2]/div/div/div/div[2]/div[3]/div[1]/div/div/div[1]/h5')\n",
    "for i in Series_names:\n",
    "    Series_nam=i.text\n",
    "    Series_name.append(Series_nam)\n",
    "len(Series_name)"
   ]
  },
  {
   "cell_type": "code",
   "execution_count": 11,
   "id": "b26f5256-6da0-44de-b1f1-e75c70b98470",
   "metadata": {},
   "outputs": [
    {
     "data": {
      "text/plain": [
       "8"
      ]
     },
     "execution_count": 11,
     "metadata": {},
     "output_type": "execute_result"
    }
   ],
   "source": [
    "Place_name=[]\n",
    "\n",
    "Place_names1= driver.find_elements(By.XPATH,'/html/body/div[2]/div[2]/div/div/div/div[2]/div[3]/div[1]/div/div/div[3]/div/span[2]')\n",
    "Place_names2= driver.find_elements(By.XPATH,'/html/body/div[2]/div[2]/div/div/div/div[2]/div[3]/div[1]/div/div/div[3]/div/span[3]')\n",
    "\n",
    "for item1, item2 in zip(Place_names1, Place_names2):\n",
    "    \n",
    "    Place_nam1=item1.text\n",
    "    Place_nam2=item2.text\n",
    "    \n",
    "    result = ' '.join([Place_nam1, Place_nam2])\n",
    "    Place_name.append(result)\n",
    "     \n",
    "len(Place_name)"
   ]
  },
  {
   "cell_type": "code",
   "execution_count": 13,
   "id": "c2442d41-1cca-4a75-b282-ce471256fe05",
   "metadata": {},
   "outputs": [
    {
     "data": {
      "text/plain": [
       "8"
      ]
     },
     "execution_count": 13,
     "metadata": {},
     "output_type": "execute_result"
    }
   ],
   "source": [
    "date=[]\n",
    "dates= driver.find_elements(By.XPATH,'/html/body/div[2]/div[2]/div/div/div/div[2]/div[3]/div[1]/div/div/div[1]/div/div[1]')\n",
    "for i in dates:\n",
    "    dat=i.text\n",
    "    date.append(dat)\n",
    "len(date)"
   ]
  },
  {
   "cell_type": "code",
   "execution_count": 15,
   "id": "acea46af-4075-4ce7-bdfc-9c466462b4ef",
   "metadata": {},
   "outputs": [
    {
     "data": {
      "text/plain": [
       "8"
      ]
     },
     "execution_count": 15,
     "metadata": {},
     "output_type": "execute_result"
    }
   ],
   "source": [
    "time=[]\n",
    "times= driver.find_elements(By.XPATH,'/html/body/div[2]/div[2]/div/div/div/div[2]/div[3]/div[1]/div/div/div[1]/div/div[2]')\n",
    "for i in times:\n",
    "    tim=i.text\n",
    "    time.append(tim)\n",
    "len(time)"
   ]
  },
  {
   "cell_type": "code",
   "execution_count": 18,
   "id": "cce159dc-7b5e-4807-b9a6-630b6c524b8c",
   "metadata": {},
   "outputs": [
    {
     "data": {
      "text/html": [
       "<div>\n",
       "<style scoped>\n",
       "    .dataframe tbody tr th:only-of-type {\n",
       "        vertical-align: middle;\n",
       "    }\n",
       "\n",
       "    .dataframe tbody tr th {\n",
       "        vertical-align: top;\n",
       "    }\n",
       "\n",
       "    .dataframe thead th {\n",
       "        text-align: right;\n",
       "    }\n",
       "</style>\n",
       "<table border=\"1\" class=\"dataframe\">\n",
       "  <thead>\n",
       "    <tr style=\"text-align: right;\">\n",
       "      <th></th>\n",
       "      <th>Match Title</th>\n",
       "      <th>Time</th>\n",
       "      <th>Date</th>\n",
       "      <th>Place Name</th>\n",
       "      <th>Series Name</th>\n",
       "    </tr>\n",
       "  </thead>\n",
       "  <tbody>\n",
       "    <tr>\n",
       "      <th>0</th>\n",
       "      <td>1st Test</td>\n",
       "      <td>7:30 PM IST</td>\n",
       "      <td>12 JUL 2023</td>\n",
       "      <td>Windsor Park, Dominica</td>\n",
       "      <td>INDIA TOUR OF WEST INDIES 2023</td>\n",
       "    </tr>\n",
       "    <tr>\n",
       "      <th>1</th>\n",
       "      <td>2nd Test</td>\n",
       "      <td>7:30 PM IST</td>\n",
       "      <td>20 JUL 2023</td>\n",
       "      <td>Queen's Park Oval, Trinidad</td>\n",
       "      <td>INDIA TOUR OF WEST INDIES 2023</td>\n",
       "    </tr>\n",
       "    <tr>\n",
       "      <th>2</th>\n",
       "      <td>1st ODI</td>\n",
       "      <td>7:00 PM IST</td>\n",
       "      <td>27 JUL 2023</td>\n",
       "      <td>Kensington Oval, Barbados</td>\n",
       "      <td>INDIA TOUR OF WEST INDIES 2023</td>\n",
       "    </tr>\n",
       "    <tr>\n",
       "      <th>3</th>\n",
       "      <td>2nd ODI</td>\n",
       "      <td>7:00 PM IST</td>\n",
       "      <td>29 JUL 2023</td>\n",
       "      <td>Kensington Oval, Barbados</td>\n",
       "      <td>INDIA TOUR OF WEST INDIES 2023</td>\n",
       "    </tr>\n",
       "    <tr>\n",
       "      <th>4</th>\n",
       "      <td>3rd ODI</td>\n",
       "      <td>7:00 PM IST</td>\n",
       "      <td>1 AUG 2023</td>\n",
       "      <td>Brian Lara Stadium, Trinidad</td>\n",
       "      <td>INDIA TOUR OF WEST INDIES 2023</td>\n",
       "    </tr>\n",
       "    <tr>\n",
       "      <th>5</th>\n",
       "      <td>1st T20I</td>\n",
       "      <td>8:00 PM IST</td>\n",
       "      <td>3 AUG 2023</td>\n",
       "      <td>Brian Lara Stadium, Trinidad</td>\n",
       "      <td>INDIA TOUR OF WEST INDIES 2023</td>\n",
       "    </tr>\n",
       "    <tr>\n",
       "      <th>6</th>\n",
       "      <td>2nd T20I</td>\n",
       "      <td>8:00 PM IST</td>\n",
       "      <td>6 AUG 2023</td>\n",
       "      <td>National Stadium, Guyana</td>\n",
       "      <td>INDIA TOUR OF WEST INDIES 2023</td>\n",
       "    </tr>\n",
       "    <tr>\n",
       "      <th>7</th>\n",
       "      <td>3rd T20I</td>\n",
       "      <td>8:00 PM IST</td>\n",
       "      <td>8 AUG 2023</td>\n",
       "      <td>National Stadium, Guyana</td>\n",
       "      <td>INDIA TOUR OF WEST INDIES 2023</td>\n",
       "    </tr>\n",
       "  </tbody>\n",
       "</table>\n",
       "</div>"
      ],
      "text/plain": [
       "  Match Title         Time         Date                    Place Name  \\\n",
       "0    1st Test  7:30 PM IST  12 JUL 2023        Windsor Park, Dominica   \n",
       "1    2nd Test  7:30 PM IST  20 JUL 2023   Queen's Park Oval, Trinidad   \n",
       "2     1st ODI  7:00 PM IST  27 JUL 2023     Kensington Oval, Barbados   \n",
       "3     2nd ODI  7:00 PM IST  29 JUL 2023     Kensington Oval, Barbados   \n",
       "4     3rd ODI  7:00 PM IST   1 AUG 2023  Brian Lara Stadium, Trinidad   \n",
       "5    1st T20I  8:00 PM IST   3 AUG 2023  Brian Lara Stadium, Trinidad   \n",
       "6    2nd T20I  8:00 PM IST   6 AUG 2023      National Stadium, Guyana   \n",
       "7    3rd T20I  8:00 PM IST   8 AUG 2023      National Stadium, Guyana   \n",
       "\n",
       "                      Series Name  \n",
       "0  INDIA TOUR OF WEST INDIES 2023  \n",
       "1  INDIA TOUR OF WEST INDIES 2023  \n",
       "2  INDIA TOUR OF WEST INDIES 2023  \n",
       "3  INDIA TOUR OF WEST INDIES 2023  \n",
       "4  INDIA TOUR OF WEST INDIES 2023  \n",
       "5  INDIA TOUR OF WEST INDIES 2023  \n",
       "6  INDIA TOUR OF WEST INDIES 2023  \n",
       "7  INDIA TOUR OF WEST INDIES 2023  "
      ]
     },
     "execution_count": 18,
     "metadata": {},
     "output_type": "execute_result"
    }
   ],
   "source": [
    "import pandas as pd\n",
    "df = pd.DataFrame({'Match Title':Match_title,'Time':time,'Date':date,'Place Name':Place_name,'Series Name':Series_name})\n",
    "df"
   ]
  },
  {
   "cell_type": "code",
   "execution_count": null,
   "id": "71086ca2-3c1a-47a3-ba05-c78a692aa0d5",
   "metadata": {},
   "outputs": [],
   "source": []
  },
  {
   "cell_type": "code",
   "execution_count": null,
   "id": "e36d9b3d-37bc-4b47-be36-6a8764cae5ed",
   "metadata": {},
   "outputs": [],
   "source": []
  },
  {
   "cell_type": "markdown",
   "id": "336440f8-71fe-4572-8137-f6a3bacac830",
   "metadata": {},
   "source": [
    "Question 3. Scrape the details of State-wise GDP of India from statisticstime.com.\n",
    "Url = http://statisticstimes.com/"
   ]
  },
  {
   "cell_type": "code",
   "execution_count": null,
   "id": "e1f95af0-6056-4562-a698-dcb480e68bc7",
   "metadata": {},
   "outputs": [],
   "source": [
    "# connecting to chrome driver \n",
    "driver = webdriver.Chrome(r\"C:\\Users\\ganes\\Downloads\\Internship_assignment\\Chrome_Driver\\chromedriver_win32\\chromedriver.exe\")"
   ]
  },
  {
   "cell_type": "code",
   "execution_count": 19,
   "id": "f29fbbfb-65ab-45f6-b662-7384fa6d4b76",
   "metadata": {},
   "outputs": [],
   "source": [
    "# connecting the webpage according to Question \n",
    "driver.get('https://statisticstimes.com/')"
   ]
  },
  {
   "cell_type": "code",
   "execution_count": 22,
   "id": "28c5cfbb-71f7-40a6-babc-90ce1d3f7b9f",
   "metadata": {},
   "outputs": [],
   "source": [
    "search = driver.find_element(By.XPATH,'/html/body/div[2]/div[1]/div[2]/div[2]/button')\n",
    "search.click()"
   ]
  },
  {
   "cell_type": "code",
   "execution_count": 23,
   "id": "387e7739-6f2e-4b20-8d53-c3b39da476c6",
   "metadata": {},
   "outputs": [],
   "source": [
    "search = driver.find_element(By.XPATH,'/html/body/div[2]/div[1]/div[2]/div[2]/div/a[3]')\n",
    "search.click()"
   ]
  },
  {
   "cell_type": "code",
   "execution_count": 24,
   "id": "1f947300-f76a-4869-84f1-491476f24f68",
   "metadata": {},
   "outputs": [],
   "source": [
    "search = driver.find_element(By.XPATH,'/html/body/div[2]/div[2]/div[2]/ul/li[1]/a')\n",
    "search.click()"
   ]
  },
  {
   "cell_type": "code",
   "execution_count": 30,
   "id": "38df7a28-aacf-4e6e-9922-9dfba5adb538",
   "metadata": {},
   "outputs": [],
   "source": [
    "for _ in range(4):\n",
    "    driver.execute_script(\"window.scrollBy(0,500)\")"
   ]
  },
  {
   "cell_type": "code",
   "execution_count": 32,
   "id": "a2bf7e26-b791-4b21-9594-7945aec539e6",
   "metadata": {},
   "outputs": [
    {
     "data": {
      "text/plain": [
       "33"
      ]
     },
     "execution_count": 32,
     "metadata": {},
     "output_type": "execute_result"
    }
   ],
   "source": [
    "Rank=[]\n",
    "Ranks= driver.find_elements(By.XPATH,'/html/body/div[3]/div[2]/div[5]/div[1]/div/table/tbody/tr/td[1]')\n",
    "for i in Ranks:\n",
    "    Ran=i.text\n",
    "    Rank.append(Ran)\n",
    "len(Rank)"
   ]
  },
  {
   "cell_type": "code",
   "execution_count": 34,
   "id": "0f8e73be-05c3-4f15-b93e-9f1744428097",
   "metadata": {},
   "outputs": [
    {
     "data": {
      "text/plain": [
       "33"
      ]
     },
     "execution_count": 34,
     "metadata": {},
     "output_type": "execute_result"
    }
   ],
   "source": [
    "State=[]\n",
    "States= driver.find_elements(By.XPATH,'/html/body/div[3]/div[2]/div[5]/div[1]/div/table/tbody/tr/td[2]')\n",
    "for i in States:\n",
    "    Stat=i.text\n",
    "    State.append(Stat)\n",
    "len(State)"
   ]
  },
  {
   "cell_type": "code",
   "execution_count": 41,
   "id": "c200d653-dc9f-43bd-b95f-7b7e25bc8c41",
   "metadata": {},
   "outputs": [
    {
     "data": {
      "text/plain": [
       "33"
      ]
     },
     "execution_count": 41,
     "metadata": {},
     "output_type": "execute_result"
    }
   ],
   "source": [
    "GSDP_18_19_at_current_prices=[]\n",
    "GSDP_18_19_at_current_price= driver.find_elements(By.XPATH,'/html/body/div[3]/div[2]/div[5]/div[1]/div/table/tbody/tr/td[3]')\n",
    "for i in GSDP_18_19_at_current_price:\n",
    "    GSDP_18_19_at_current_pric=i.text\n",
    "    GSDP_18_19_at_current_prices.append(GSDP_18_19_at_current_pric)\n",
    "len(GSDP_18_19_at_current_prices)"
   ]
  },
  {
   "cell_type": "code",
   "execution_count": 42,
   "id": "b171ddcc-8856-4eb0-8424-4407643a833a",
   "metadata": {},
   "outputs": [
    {
     "data": {
      "text/plain": [
       "33"
      ]
     },
     "execution_count": 42,
     "metadata": {},
     "output_type": "execute_result"
    }
   ],
   "source": [
    "GSDP_19_20_at_current_prices=[]\n",
    "GSDP_19_20_at_current_price= driver.find_elements(By.XPATH,'/html/body/div[3]/div[2]/div[5]/div[1]/div/table/tbody/tr/td[4]')\n",
    "for i in GSDP_19_20_at_current_price:\n",
    "    GSDP_19_20_at_current_pric=i.text\n",
    "    GSDP_19_20_at_current_prices.append(GSDP_19_20_at_current_pric)\n",
    "len(GSDP_19_20_at_current_prices)"
   ]
  },
  {
   "cell_type": "code",
   "execution_count": 44,
   "id": "7be74871-c15e-4aa6-b683-7028cd076234",
   "metadata": {},
   "outputs": [
    {
     "data": {
      "text/plain": [
       "33"
      ]
     },
     "execution_count": 44,
     "metadata": {},
     "output_type": "execute_result"
    }
   ],
   "source": [
    "Share_18_19=[]\n",
    "Share_18_19_= driver.find_elements(By.XPATH,'/html/body/div[3]/div[2]/div[5]/div[1]/div/table/tbody/tr/td[5]')\n",
    "for i in Share_18_19_:\n",
    "    Share_18_19__=i.text\n",
    "    Share_18_19.append(Share_18_19__)\n",
    "len(Share_18_19)"
   ]
  },
  {
   "cell_type": "code",
   "execution_count": 47,
   "id": "fb327385-4984-4c8c-9650-c2502a89e8a4",
   "metadata": {},
   "outputs": [
    {
     "data": {
      "text/plain": [
       "33"
      ]
     },
     "execution_count": 47,
     "metadata": {},
     "output_type": "execute_result"
    }
   ],
   "source": [
    "GDP_doller_billion=[]\n",
    "GDP_doller_billions= driver.find_elements(By.XPATH,'/html/body/div[3]/div[2]/div[5]/div[1]/div/table/tbody/tr/td[6]')\n",
    "for i in GDP_doller_billions:\n",
    "    GDP_doller_billio=i.text\n",
    "    GDP_doller_billion.append(GDP_doller_billio)\n",
    "len(GDP_doller_billion)"
   ]
  },
  {
   "cell_type": "code",
   "execution_count": 49,
   "id": "51a761c7-5ef2-4481-829c-11de07832dbf",
   "metadata": {},
   "outputs": [
    {
     "data": {
      "text/html": [
       "<div>\n",
       "<style scoped>\n",
       "    .dataframe tbody tr th:only-of-type {\n",
       "        vertical-align: middle;\n",
       "    }\n",
       "\n",
       "    .dataframe tbody tr th {\n",
       "        vertical-align: top;\n",
       "    }\n",
       "\n",
       "    .dataframe thead th {\n",
       "        text-align: right;\n",
       "    }\n",
       "</style>\n",
       "<table border=\"1\" class=\"dataframe\">\n",
       "  <thead>\n",
       "    <tr style=\"text-align: right;\">\n",
       "      <th></th>\n",
       "      <th>Rank</th>\n",
       "      <th>State</th>\n",
       "      <th>GSDP(18-19)- at current prices</th>\n",
       "      <th>GSDP(19-20)- at current prices</th>\n",
       "      <th>Share(18-19)</th>\n",
       "      <th>GDP($ billion)</th>\n",
       "    </tr>\n",
       "  </thead>\n",
       "  <tbody>\n",
       "    <tr>\n",
       "      <th>0</th>\n",
       "      <td>1</td>\n",
       "      <td>Maharashtra</td>\n",
       "      <td>-</td>\n",
       "      <td>2,632,792</td>\n",
       "      <td>13.94%</td>\n",
       "      <td>399.921</td>\n",
       "    </tr>\n",
       "    <tr>\n",
       "      <th>1</th>\n",
       "      <td>2</td>\n",
       "      <td>Tamil Nadu</td>\n",
       "      <td>1,845,853</td>\n",
       "      <td>1,630,208</td>\n",
       "      <td>8.63%</td>\n",
       "      <td>247.629</td>\n",
       "    </tr>\n",
       "    <tr>\n",
       "      <th>2</th>\n",
       "      <td>3</td>\n",
       "      <td>Uttar Pradesh</td>\n",
       "      <td>1,687,818</td>\n",
       "      <td>1,584,764</td>\n",
       "      <td>8.39%</td>\n",
       "      <td>240.726</td>\n",
       "    </tr>\n",
       "    <tr>\n",
       "      <th>3</th>\n",
       "      <td>4</td>\n",
       "      <td>Gujarat</td>\n",
       "      <td>-</td>\n",
       "      <td>1,502,899</td>\n",
       "      <td>7.96%</td>\n",
       "      <td>228.290</td>\n",
       "    </tr>\n",
       "    <tr>\n",
       "      <th>4</th>\n",
       "      <td>5</td>\n",
       "      <td>Karnataka</td>\n",
       "      <td>1,631,977</td>\n",
       "      <td>1,493,127</td>\n",
       "      <td>7.91%</td>\n",
       "      <td>226.806</td>\n",
       "    </tr>\n",
       "    <tr>\n",
       "      <th>5</th>\n",
       "      <td>6</td>\n",
       "      <td>West Bengal</td>\n",
       "      <td>1,253,832</td>\n",
       "      <td>1,089,898</td>\n",
       "      <td>5.77%</td>\n",
       "      <td>165.556</td>\n",
       "    </tr>\n",
       "    <tr>\n",
       "      <th>6</th>\n",
       "      <td>7</td>\n",
       "      <td>Rajasthan</td>\n",
       "      <td>1,020,989</td>\n",
       "      <td>942,586</td>\n",
       "      <td>4.99%</td>\n",
       "      <td>143.179</td>\n",
       "    </tr>\n",
       "    <tr>\n",
       "      <th>7</th>\n",
       "      <td>8</td>\n",
       "      <td>Andhra Pradesh</td>\n",
       "      <td>972,782</td>\n",
       "      <td>862,957</td>\n",
       "      <td>4.57%</td>\n",
       "      <td>131.083</td>\n",
       "    </tr>\n",
       "    <tr>\n",
       "      <th>8</th>\n",
       "      <td>9</td>\n",
       "      <td>Telangana</td>\n",
       "      <td>969,604</td>\n",
       "      <td>861,031</td>\n",
       "      <td>4.56%</td>\n",
       "      <td>130.791</td>\n",
       "    </tr>\n",
       "    <tr>\n",
       "      <th>9</th>\n",
       "      <td>10</td>\n",
       "      <td>Madhya Pradesh</td>\n",
       "      <td>906,672</td>\n",
       "      <td>809,592</td>\n",
       "      <td>4.29%</td>\n",
       "      <td>122.977</td>\n",
       "    </tr>\n",
       "    <tr>\n",
       "      <th>10</th>\n",
       "      <td>11</td>\n",
       "      <td>Kerala</td>\n",
       "      <td>-</td>\n",
       "      <td>781,653</td>\n",
       "      <td>4.14%</td>\n",
       "      <td>118.733</td>\n",
       "    </tr>\n",
       "    <tr>\n",
       "      <th>11</th>\n",
       "      <td>12</td>\n",
       "      <td>Delhi</td>\n",
       "      <td>856,112</td>\n",
       "      <td>774,870</td>\n",
       "      <td>4.10%</td>\n",
       "      <td>117.703</td>\n",
       "    </tr>\n",
       "    <tr>\n",
       "      <th>12</th>\n",
       "      <td>13</td>\n",
       "      <td>Haryana</td>\n",
       "      <td>831,610</td>\n",
       "      <td>734,163</td>\n",
       "      <td>3.89%</td>\n",
       "      <td>111.519</td>\n",
       "    </tr>\n",
       "    <tr>\n",
       "      <th>13</th>\n",
       "      <td>14</td>\n",
       "      <td>Bihar</td>\n",
       "      <td>611,804</td>\n",
       "      <td>530,363</td>\n",
       "      <td>2.81%</td>\n",
       "      <td>80.562</td>\n",
       "    </tr>\n",
       "    <tr>\n",
       "      <th>14</th>\n",
       "      <td>15</td>\n",
       "      <td>Punjab</td>\n",
       "      <td>574,760</td>\n",
       "      <td>526,376</td>\n",
       "      <td>2.79%</td>\n",
       "      <td>79.957</td>\n",
       "    </tr>\n",
       "    <tr>\n",
       "      <th>15</th>\n",
       "      <td>16</td>\n",
       "      <td>Odisha</td>\n",
       "      <td>521,275</td>\n",
       "      <td>487,805</td>\n",
       "      <td>2.58%</td>\n",
       "      <td>74.098</td>\n",
       "    </tr>\n",
       "    <tr>\n",
       "      <th>16</th>\n",
       "      <td>17</td>\n",
       "      <td>Assam</td>\n",
       "      <td>-</td>\n",
       "      <td>315,881</td>\n",
       "      <td>1.67%</td>\n",
       "      <td>47.982</td>\n",
       "    </tr>\n",
       "    <tr>\n",
       "      <th>17</th>\n",
       "      <td>18</td>\n",
       "      <td>Chhattisgarh</td>\n",
       "      <td>329,180</td>\n",
       "      <td>304,063</td>\n",
       "      <td>1.61%</td>\n",
       "      <td>46.187</td>\n",
       "    </tr>\n",
       "    <tr>\n",
       "      <th>18</th>\n",
       "      <td>19</td>\n",
       "      <td>Jharkhand</td>\n",
       "      <td>328,598</td>\n",
       "      <td>297,204</td>\n",
       "      <td>1.57%</td>\n",
       "      <td>45.145</td>\n",
       "    </tr>\n",
       "    <tr>\n",
       "      <th>19</th>\n",
       "      <td>20</td>\n",
       "      <td>Uttarakhand</td>\n",
       "      <td>-</td>\n",
       "      <td>245,895</td>\n",
       "      <td>1.30%</td>\n",
       "      <td>37.351</td>\n",
       "    </tr>\n",
       "    <tr>\n",
       "      <th>20</th>\n",
       "      <td>21</td>\n",
       "      <td>Jammu &amp; Kashmir</td>\n",
       "      <td>-</td>\n",
       "      <td>155,956</td>\n",
       "      <td>0.83%</td>\n",
       "      <td>23.690</td>\n",
       "    </tr>\n",
       "    <tr>\n",
       "      <th>21</th>\n",
       "      <td>22</td>\n",
       "      <td>Himachal Pradesh</td>\n",
       "      <td>165,472</td>\n",
       "      <td>153,845</td>\n",
       "      <td>0.81%</td>\n",
       "      <td>23.369</td>\n",
       "    </tr>\n",
       "    <tr>\n",
       "      <th>22</th>\n",
       "      <td>23</td>\n",
       "      <td>Goa</td>\n",
       "      <td>80,449</td>\n",
       "      <td>73,170</td>\n",
       "      <td>0.39%</td>\n",
       "      <td>11.115</td>\n",
       "    </tr>\n",
       "    <tr>\n",
       "      <th>23</th>\n",
       "      <td>24</td>\n",
       "      <td>Tripura</td>\n",
       "      <td>55,984</td>\n",
       "      <td>49,845</td>\n",
       "      <td>0.26%</td>\n",
       "      <td>7.571</td>\n",
       "    </tr>\n",
       "    <tr>\n",
       "      <th>24</th>\n",
       "      <td>25</td>\n",
       "      <td>Chandigarh</td>\n",
       "      <td>-</td>\n",
       "      <td>42,114</td>\n",
       "      <td>0.22%</td>\n",
       "      <td>6.397</td>\n",
       "    </tr>\n",
       "    <tr>\n",
       "      <th>25</th>\n",
       "      <td>26</td>\n",
       "      <td>Puducherry</td>\n",
       "      <td>38,253</td>\n",
       "      <td>34,433</td>\n",
       "      <td>0.18%</td>\n",
       "      <td>5.230</td>\n",
       "    </tr>\n",
       "    <tr>\n",
       "      <th>26</th>\n",
       "      <td>27</td>\n",
       "      <td>Meghalaya</td>\n",
       "      <td>36,572</td>\n",
       "      <td>33,481</td>\n",
       "      <td>0.18%</td>\n",
       "      <td>5.086</td>\n",
       "    </tr>\n",
       "    <tr>\n",
       "      <th>27</th>\n",
       "      <td>28</td>\n",
       "      <td>Sikkim</td>\n",
       "      <td>32,496</td>\n",
       "      <td>28,723</td>\n",
       "      <td>0.15%</td>\n",
       "      <td>4.363</td>\n",
       "    </tr>\n",
       "    <tr>\n",
       "      <th>28</th>\n",
       "      <td>29</td>\n",
       "      <td>Manipur</td>\n",
       "      <td>31,790</td>\n",
       "      <td>27,870</td>\n",
       "      <td>0.15%</td>\n",
       "      <td>4.233</td>\n",
       "    </tr>\n",
       "    <tr>\n",
       "      <th>29</th>\n",
       "      <td>30</td>\n",
       "      <td>Nagaland</td>\n",
       "      <td>-</td>\n",
       "      <td>27,283</td>\n",
       "      <td>0.14%</td>\n",
       "      <td>4.144</td>\n",
       "    </tr>\n",
       "    <tr>\n",
       "      <th>30</th>\n",
       "      <td>31</td>\n",
       "      <td>Arunachal Pradesh</td>\n",
       "      <td>-</td>\n",
       "      <td>24,603</td>\n",
       "      <td>0.13%</td>\n",
       "      <td>3.737</td>\n",
       "    </tr>\n",
       "    <tr>\n",
       "      <th>31</th>\n",
       "      <td>32</td>\n",
       "      <td>Mizoram</td>\n",
       "      <td>26,503</td>\n",
       "      <td>22,287</td>\n",
       "      <td>0.12%</td>\n",
       "      <td>3.385</td>\n",
       "    </tr>\n",
       "    <tr>\n",
       "      <th>32</th>\n",
       "      <td>33</td>\n",
       "      <td>Andaman &amp; Nicobar Islands</td>\n",
       "      <td>-</td>\n",
       "      <td>-</td>\n",
       "      <td>-</td>\n",
       "      <td>-</td>\n",
       "    </tr>\n",
       "  </tbody>\n",
       "</table>\n",
       "</div>"
      ],
      "text/plain": [
       "   Rank                      State GSDP(18-19)- at current prices  \\\n",
       "0     1                Maharashtra                              -   \n",
       "1     2                 Tamil Nadu                      1,845,853   \n",
       "2     3              Uttar Pradesh                      1,687,818   \n",
       "3     4                    Gujarat                              -   \n",
       "4     5                  Karnataka                      1,631,977   \n",
       "5     6                West Bengal                      1,253,832   \n",
       "6     7                  Rajasthan                      1,020,989   \n",
       "7     8             Andhra Pradesh                        972,782   \n",
       "8     9                  Telangana                        969,604   \n",
       "9    10             Madhya Pradesh                        906,672   \n",
       "10   11                     Kerala                              -   \n",
       "11   12                      Delhi                        856,112   \n",
       "12   13                    Haryana                        831,610   \n",
       "13   14                      Bihar                        611,804   \n",
       "14   15                     Punjab                        574,760   \n",
       "15   16                     Odisha                        521,275   \n",
       "16   17                      Assam                              -   \n",
       "17   18               Chhattisgarh                        329,180   \n",
       "18   19                  Jharkhand                        328,598   \n",
       "19   20                Uttarakhand                              -   \n",
       "20   21            Jammu & Kashmir                              -   \n",
       "21   22           Himachal Pradesh                        165,472   \n",
       "22   23                        Goa                         80,449   \n",
       "23   24                    Tripura                         55,984   \n",
       "24   25                 Chandigarh                              -   \n",
       "25   26                 Puducherry                         38,253   \n",
       "26   27                  Meghalaya                         36,572   \n",
       "27   28                     Sikkim                         32,496   \n",
       "28   29                    Manipur                         31,790   \n",
       "29   30                   Nagaland                              -   \n",
       "30   31          Arunachal Pradesh                              -   \n",
       "31   32                    Mizoram                         26,503   \n",
       "32   33  Andaman & Nicobar Islands                              -   \n",
       "\n",
       "   GSDP(19-20)- at current prices Share(18-19) GDP($ billion)  \n",
       "0                       2,632,792       13.94%        399.921  \n",
       "1                       1,630,208        8.63%        247.629  \n",
       "2                       1,584,764        8.39%        240.726  \n",
       "3                       1,502,899        7.96%        228.290  \n",
       "4                       1,493,127        7.91%        226.806  \n",
       "5                       1,089,898        5.77%        165.556  \n",
       "6                         942,586        4.99%        143.179  \n",
       "7                         862,957        4.57%        131.083  \n",
       "8                         861,031        4.56%        130.791  \n",
       "9                         809,592        4.29%        122.977  \n",
       "10                        781,653        4.14%        118.733  \n",
       "11                        774,870        4.10%        117.703  \n",
       "12                        734,163        3.89%        111.519  \n",
       "13                        530,363        2.81%         80.562  \n",
       "14                        526,376        2.79%         79.957  \n",
       "15                        487,805        2.58%         74.098  \n",
       "16                        315,881        1.67%         47.982  \n",
       "17                        304,063        1.61%         46.187  \n",
       "18                        297,204        1.57%         45.145  \n",
       "19                        245,895        1.30%         37.351  \n",
       "20                        155,956        0.83%         23.690  \n",
       "21                        153,845        0.81%         23.369  \n",
       "22                         73,170        0.39%         11.115  \n",
       "23                         49,845        0.26%          7.571  \n",
       "24                         42,114        0.22%          6.397  \n",
       "25                         34,433        0.18%          5.230  \n",
       "26                         33,481        0.18%          5.086  \n",
       "27                         28,723        0.15%          4.363  \n",
       "28                         27,870        0.15%          4.233  \n",
       "29                         27,283        0.14%          4.144  \n",
       "30                         24,603        0.13%          3.737  \n",
       "31                         22,287        0.12%          3.385  \n",
       "32                              -            -              -  "
      ]
     },
     "execution_count": 49,
     "metadata": {},
     "output_type": "execute_result"
    }
   ],
   "source": [
    "import pandas as pd\n",
    "df = pd.DataFrame({'Rank':Rank,'State':State,'GSDP(18-19)- at current prices':GSDP_18_19_at_current_prices,'GSDP(19-20)- at current prices':GSDP_19_20_at_current_prices,'Share(18-19)':Share_18_19,'GDP($ billion)':GDP_doller_billion})\n",
    "df"
   ]
  },
  {
   "cell_type": "code",
   "execution_count": null,
   "id": "3f5b56d4-b327-4f99-861c-e3ceed49255a",
   "metadata": {},
   "outputs": [],
   "source": []
  },
  {
   "cell_type": "code",
   "execution_count": null,
   "id": "1ed6cf9e-8256-467d-96d3-c631c0b34f1c",
   "metadata": {},
   "outputs": [],
   "source": []
  },
  {
   "cell_type": "markdown",
   "id": "754a5445-a702-4ffa-9afb-73dab39175e8",
   "metadata": {},
   "source": [
    "Question 4. Scrape the details of trending repositories on Github.com.\n",
    "Url = https://github.com/"
   ]
  },
  {
   "cell_type": "code",
   "execution_count": null,
   "id": "8d5f8907-84a1-4501-aded-a2df8e9d329d",
   "metadata": {},
   "outputs": [],
   "source": [
    "# connecting to chrome driver \n",
    "driver = webdriver.Chrome(r\"C:\\Users\\ganes\\Downloads\\Internship_assignment\\Chrome_Driver\\chromedriver_win32\\chromedriver.exe\")"
   ]
  },
  {
   "cell_type": "code",
   "execution_count": 51,
   "id": "9af49577-cf50-4b01-851d-f1ac147e00c4",
   "metadata": {},
   "outputs": [],
   "source": [
    "# connecting the webpage according to Question \n",
    "driver.get('https://github.com/')"
   ]
  },
  {
   "cell_type": "code",
   "execution_count": 53,
   "id": "7213625e-44af-4b27-a4f2-dbfb1c296246",
   "metadata": {},
   "outputs": [],
   "source": [
    "search = driver.find_element(By.XPATH,'/html/body/div[1]/div[1]/header/div/div[2]/div/nav/ul/li[3]/button')\n",
    "search.click()"
   ]
  },
  {
   "cell_type": "code",
   "execution_count": 54,
   "id": "4338cf1b-1bf1-482f-afcc-91a5683cfd67",
   "metadata": {},
   "outputs": [],
   "source": [
    "search = driver.find_element(By.XPATH,'/html/body/div[1]/div[1]/header/div/div[2]/div/nav/ul/li[3]/div/div[3]/ul/li[2]/a')\n",
    "search.click()"
   ]
  },
  {
   "cell_type": "code",
   "execution_count": 55,
   "id": "ed545307-20e7-4b25-bcd0-f2faafb0a804",
   "metadata": {},
   "outputs": [
    {
     "data": {
      "text/plain": [
       "25"
      ]
     },
     "execution_count": 55,
     "metadata": {},
     "output_type": "execute_result"
    }
   ],
   "source": [
    "Repository_title=[]\n",
    "Repository_titles= driver.find_elements(By.XPATH,'/html/body/div[1]/div[4]/main/div[3]/div/div[2]/article/h2/a')\n",
    "for i in Repository_titles:\n",
    "    Repository_titl=i.text\n",
    "    Repository_title.append(Repository_titl)\n",
    "len(Repository_title)"
   ]
  },
  {
   "cell_type": "code",
   "execution_count": 61,
   "id": "2a0f558a-39c1-4558-9da0-91233fe168d9",
   "metadata": {},
   "outputs": [
    {
     "data": {
      "text/plain": [
       "25"
      ]
     },
     "execution_count": 61,
     "metadata": {},
     "output_type": "execute_result"
    }
   ],
   "source": [
    "Repository_description=[]\n",
    "base_xpath = \"/html/body/div[1]/div[4]/main/div[3]/div/div[2]/article\"\n",
    "for i in range(1, 26):  \n",
    "    xpath = base_xpath + f\"[{i}]/p\"\n",
    "        \n",
    "    try:\n",
    "        result= driver.find_element(By.XPATH,xpath)\n",
    "        Repository_descriptio=result.text\n",
    "        Repository_description.append(Repository_descriptio)\n",
    "    except NoSuchElementException :\n",
    "        Repository_description.append('-')\n",
    "    \n",
    "len(Repository_description)"
   ]
  },
  {
   "cell_type": "code",
   "execution_count": 63,
   "id": "128d440e-b73b-4e8a-a0fc-c01893cf04ab",
   "metadata": {},
   "outputs": [
    {
     "data": {
      "text/plain": [
       "25"
      ]
     },
     "execution_count": 63,
     "metadata": {},
     "output_type": "execute_result"
    }
   ],
   "source": [
    "Contributors_count=[]\n",
    "Contributors_counts= driver.find_elements(By.XPATH,'/html/body/div[1]/div[4]/main/div[3]/div/div[2]/article/div[2]/a[2]')\n",
    "for i in Contributors_counts:\n",
    "    Contributors_coun=i.text\n",
    "    Contributors_count.append(Contributors_coun)\n",
    "len(Contributors_count)"
   ]
  },
  {
   "cell_type": "code",
   "execution_count": 67,
   "id": "dc0431e6-7291-4cc3-80f0-83be520e98b0",
   "metadata": {},
   "outputs": [
    {
     "data": {
      "text/plain": [
       "25"
      ]
     },
     "execution_count": 67,
     "metadata": {},
     "output_type": "execute_result"
    }
   ],
   "source": [
    "Language_used=[]\n",
    "base_xpath = \"/html/body/div[1]/div[4]/main/div[3]/div/div[2]/article\"\n",
    "for i in range(1, 26):  \n",
    "    xpath = base_xpath + f\"[{i}]/div[2]/span[1]/span[2]\"\n",
    "    \n",
    "    try:\n",
    "        Language_useds= driver.find_element(By.XPATH,xpath)\n",
    "        Language_use=Language_useds.text\n",
    "        Language_used.append(Language_use)\n",
    "    except NoSuchElementException :\n",
    "        Language_used.append('-')\n",
    "    \n",
    "len(Language_used)"
   ]
  },
  {
   "cell_type": "code",
   "execution_count": 69,
   "id": "9ef65e23-f53c-4aa8-9d9f-4e3c91884b8d",
   "metadata": {},
   "outputs": [],
   "source": [
    "list_no=list(range(1,len(Repository_title)+1))"
   ]
  },
  {
   "cell_type": "code",
   "execution_count": 70,
   "id": "1a41f4b1-f707-4c3b-86e7-b641ba145dd8",
   "metadata": {},
   "outputs": [
    {
     "data": {
      "text/html": [
       "<div>\n",
       "<style scoped>\n",
       "    .dataframe tbody tr th:only-of-type {\n",
       "        vertical-align: middle;\n",
       "    }\n",
       "\n",
       "    .dataframe tbody tr th {\n",
       "        vertical-align: top;\n",
       "    }\n",
       "\n",
       "    .dataframe thead th {\n",
       "        text-align: right;\n",
       "    }\n",
       "</style>\n",
       "<table border=\"1\" class=\"dataframe\">\n",
       "  <thead>\n",
       "    <tr style=\"text-align: right;\">\n",
       "      <th></th>\n",
       "      <th>List No</th>\n",
       "      <th>Repository Title</th>\n",
       "      <th>Language Used</th>\n",
       "      <th>Contributors Count</th>\n",
       "      <th>Repository Description</th>\n",
       "    </tr>\n",
       "  </thead>\n",
       "  <tbody>\n",
       "    <tr>\n",
       "      <th>0</th>\n",
       "      <td>1</td>\n",
       "      <td>sadmann7 / skateshop</td>\n",
       "      <td>TypeScript</td>\n",
       "      <td>151</td>\n",
       "      <td>An open source e-commerce skateshop build with...</td>\n",
       "    </tr>\n",
       "    <tr>\n",
       "      <th>1</th>\n",
       "      <td>2</td>\n",
       "      <td>sveltejs / svelte</td>\n",
       "      <td>JavaScript</td>\n",
       "      <td>3,670</td>\n",
       "      <td>Cybernetically enhanced web apps</td>\n",
       "    </tr>\n",
       "    <tr>\n",
       "      <th>2</th>\n",
       "      <td>3</td>\n",
       "      <td>Stability-AI / generative-models</td>\n",
       "      <td>Python</td>\n",
       "      <td>243</td>\n",
       "      <td>Generative Models by Stability AI</td>\n",
       "    </tr>\n",
       "    <tr>\n",
       "      <th>3</th>\n",
       "      <td>4</td>\n",
       "      <td>CASIA-IVA-Lab / FastSAM</td>\n",
       "      <td>Python</td>\n",
       "      <td>75</td>\n",
       "      <td>Fast Segment Anything</td>\n",
       "    </tr>\n",
       "    <tr>\n",
       "      <th>4</th>\n",
       "      <td>5</td>\n",
       "      <td>a16z-infra / ai-getting-started</td>\n",
       "      <td>TypeScript</td>\n",
       "      <td>318</td>\n",
       "      <td>A Javascript AI getting started stack for week...</td>\n",
       "    </tr>\n",
       "    <tr>\n",
       "      <th>5</th>\n",
       "      <td>6</td>\n",
       "      <td>spacedriveapp / spacedrive</td>\n",
       "      <td>Rust</td>\n",
       "      <td>529</td>\n",
       "      <td>Spacedrive is an open source cross-platform fi...</td>\n",
       "    </tr>\n",
       "    <tr>\n",
       "      <th>6</th>\n",
       "      <td>7</td>\n",
       "      <td>SkalskiP / top-cvpr-2023-papers</td>\n",
       "      <td>Python</td>\n",
       "      <td>48</td>\n",
       "      <td>This repository is a curated collection of the...</td>\n",
       "    </tr>\n",
       "    <tr>\n",
       "      <th>7</th>\n",
       "      <td>8</td>\n",
       "      <td>zksync / credo</td>\n",
       "      <td>-</td>\n",
       "      <td>509</td>\n",
       "      <td>-</td>\n",
       "    </tr>\n",
       "    <tr>\n",
       "      <th>8</th>\n",
       "      <td>9</td>\n",
       "      <td>chat2db / Chat2DB</td>\n",
       "      <td>Java</td>\n",
       "      <td>151</td>\n",
       "      <td>🔥 🔥 🔥 An intelligent and versatile general-pur...</td>\n",
       "    </tr>\n",
       "    <tr>\n",
       "      <th>9</th>\n",
       "      <td>10</td>\n",
       "      <td>embedchain / embedchain</td>\n",
       "      <td>Python</td>\n",
       "      <td>68</td>\n",
       "      <td>Framework to easily create LLM powered bots ov...</td>\n",
       "    </tr>\n",
       "    <tr>\n",
       "      <th>10</th>\n",
       "      <td>11</td>\n",
       "      <td>papers-we-love / papers-we-love</td>\n",
       "      <td>Shell</td>\n",
       "      <td>5,354</td>\n",
       "      <td>Papers from the computer science community to ...</td>\n",
       "    </tr>\n",
       "    <tr>\n",
       "      <th>11</th>\n",
       "      <td>12</td>\n",
       "      <td>ventoy / Ventoy</td>\n",
       "      <td>C</td>\n",
       "      <td>3,561</td>\n",
       "      <td>A new bootable USB solution.</td>\n",
       "    </tr>\n",
       "    <tr>\n",
       "      <th>12</th>\n",
       "      <td>13</td>\n",
       "      <td>sindresorhus / awesome</td>\n",
       "      <td>-</td>\n",
       "      <td>26,024</td>\n",
       "      <td>😎 Awesome lists about all kinds of interesting...</td>\n",
       "    </tr>\n",
       "    <tr>\n",
       "      <th>13</th>\n",
       "      <td>14</td>\n",
       "      <td>ramonvc / freegpt-webui</td>\n",
       "      <td>Python</td>\n",
       "      <td>21</td>\n",
       "      <td>GPT 3.5/4 with a Chat Web UI. No API key requi...</td>\n",
       "    </tr>\n",
       "    <tr>\n",
       "      <th>14</th>\n",
       "      <td>15</td>\n",
       "      <td>nayuki / QR-Code-generator</td>\n",
       "      <td>Java</td>\n",
       "      <td>963</td>\n",
       "      <td>High-quality QR Code generator library in Java...</td>\n",
       "    </tr>\n",
       "    <tr>\n",
       "      <th>15</th>\n",
       "      <td>16</td>\n",
       "      <td>devfullcycle / imersao13</td>\n",
       "      <td>TypeScript</td>\n",
       "      <td>64</td>\n",
       "      <td>-</td>\n",
       "    </tr>\n",
       "    <tr>\n",
       "      <th>16</th>\n",
       "      <td>17</td>\n",
       "      <td>PlexPt / awesome-chatgpt-prompts-zh</td>\n",
       "      <td>-</td>\n",
       "      <td>12,537</td>\n",
       "      <td>ChatGPT 中文调教指南。各种场景使用指南。学习怎么让它听你的话。</td>\n",
       "    </tr>\n",
       "    <tr>\n",
       "      <th>17</th>\n",
       "      <td>18</td>\n",
       "      <td>TodePond / DreamBerd</td>\n",
       "      <td>-</td>\n",
       "      <td>93</td>\n",
       "      <td>perfect programming language</td>\n",
       "    </tr>\n",
       "    <tr>\n",
       "      <th>18</th>\n",
       "      <td>19</td>\n",
       "      <td>PCSX2 / pcsx2</td>\n",
       "      <td>C++</td>\n",
       "      <td>1,488</td>\n",
       "      <td>PCSX2 - The Playstation 2 Emulator</td>\n",
       "    </tr>\n",
       "    <tr>\n",
       "      <th>19</th>\n",
       "      <td>20</td>\n",
       "      <td>s0md3v / sd-webui-roop</td>\n",
       "      <td>Python</td>\n",
       "      <td>169</td>\n",
       "      <td>roop extension for StableDiffusion web-ui</td>\n",
       "    </tr>\n",
       "    <tr>\n",
       "      <th>20</th>\n",
       "      <td>21</td>\n",
       "      <td>xtekky / gpt4free</td>\n",
       "      <td>Python</td>\n",
       "      <td>10,621</td>\n",
       "      <td>The official gpt4free repository | various col...</td>\n",
       "    </tr>\n",
       "    <tr>\n",
       "      <th>21</th>\n",
       "      <td>22</td>\n",
       "      <td>acidanthera / OpenCorePkg</td>\n",
       "      <td>C</td>\n",
       "      <td>2,026</td>\n",
       "      <td>OpenCore bootloader</td>\n",
       "    </tr>\n",
       "    <tr>\n",
       "      <th>22</th>\n",
       "      <td>23</td>\n",
       "      <td>firstcontributions / first-contributions</td>\n",
       "      <td>-</td>\n",
       "      <td>61,310</td>\n",
       "      <td>🚀✨ Help beginners to contribute to open source...</td>\n",
       "    </tr>\n",
       "    <tr>\n",
       "      <th>23</th>\n",
       "      <td>24</td>\n",
       "      <td>Rapptz / discord.py</td>\n",
       "      <td>Python</td>\n",
       "      <td>3,700</td>\n",
       "      <td>An API wrapper for Discord written in Python.</td>\n",
       "    </tr>\n",
       "    <tr>\n",
       "      <th>24</th>\n",
       "      <td>25</td>\n",
       "      <td>OpenDriveLab / UniAD</td>\n",
       "      <td>Python</td>\n",
       "      <td>127</td>\n",
       "      <td>[CVPR 2023 Best Paper] Planning-oriented Auton...</td>\n",
       "    </tr>\n",
       "  </tbody>\n",
       "</table>\n",
       "</div>"
      ],
      "text/plain": [
       "    List No                          Repository Title Language Used  \\\n",
       "0         1                      sadmann7 / skateshop    TypeScript   \n",
       "1         2                         sveltejs / svelte    JavaScript   \n",
       "2         3          Stability-AI / generative-models        Python   \n",
       "3         4                   CASIA-IVA-Lab / FastSAM        Python   \n",
       "4         5           a16z-infra / ai-getting-started    TypeScript   \n",
       "5         6                spacedriveapp / spacedrive          Rust   \n",
       "6         7           SkalskiP / top-cvpr-2023-papers        Python   \n",
       "7         8                            zksync / credo             -   \n",
       "8         9                         chat2db / Chat2DB          Java   \n",
       "9        10                   embedchain / embedchain        Python   \n",
       "10       11           papers-we-love / papers-we-love         Shell   \n",
       "11       12                           ventoy / Ventoy             C   \n",
       "12       13                    sindresorhus / awesome             -   \n",
       "13       14                   ramonvc / freegpt-webui        Python   \n",
       "14       15                nayuki / QR-Code-generator          Java   \n",
       "15       16                  devfullcycle / imersao13    TypeScript   \n",
       "16       17       PlexPt / awesome-chatgpt-prompts-zh             -   \n",
       "17       18                      TodePond / DreamBerd             -   \n",
       "18       19                             PCSX2 / pcsx2           C++   \n",
       "19       20                    s0md3v / sd-webui-roop        Python   \n",
       "20       21                         xtekky / gpt4free        Python   \n",
       "21       22                 acidanthera / OpenCorePkg             C   \n",
       "22       23  firstcontributions / first-contributions             -   \n",
       "23       24                       Rapptz / discord.py        Python   \n",
       "24       25                      OpenDriveLab / UniAD        Python   \n",
       "\n",
       "   Contributors Count                             Repository Description  \n",
       "0                 151  An open source e-commerce skateshop build with...  \n",
       "1               3,670                   Cybernetically enhanced web apps  \n",
       "2                 243                  Generative Models by Stability AI  \n",
       "3                  75                              Fast Segment Anything  \n",
       "4                 318  A Javascript AI getting started stack for week...  \n",
       "5                 529  Spacedrive is an open source cross-platform fi...  \n",
       "6                  48  This repository is a curated collection of the...  \n",
       "7                 509                                                  -  \n",
       "8                 151  🔥 🔥 🔥 An intelligent and versatile general-pur...  \n",
       "9                  68  Framework to easily create LLM powered bots ov...  \n",
       "10              5,354  Papers from the computer science community to ...  \n",
       "11              3,561                       A new bootable USB solution.  \n",
       "12             26,024  😎 Awesome lists about all kinds of interesting...  \n",
       "13                 21  GPT 3.5/4 with a Chat Web UI. No API key requi...  \n",
       "14                963  High-quality QR Code generator library in Java...  \n",
       "15                 64                                                  -  \n",
       "16             12,537                ChatGPT 中文调教指南。各种场景使用指南。学习怎么让它听你的话。  \n",
       "17                 93                       perfect programming language  \n",
       "18              1,488                 PCSX2 - The Playstation 2 Emulator  \n",
       "19                169          roop extension for StableDiffusion web-ui  \n",
       "20             10,621  The official gpt4free repository | various col...  \n",
       "21              2,026                                OpenCore bootloader  \n",
       "22             61,310  🚀✨ Help beginners to contribute to open source...  \n",
       "23              3,700      An API wrapper for Discord written in Python.  \n",
       "24                127  [CVPR 2023 Best Paper] Planning-oriented Auton...  "
      ]
     },
     "execution_count": 70,
     "metadata": {},
     "output_type": "execute_result"
    }
   ],
   "source": [
    "import pandas as pd\n",
    "df = pd.DataFrame({'List No':list_no,'Repository Title':Repository_title,'Language Used':Language_used,'Contributors Count':Contributors_count,'Repository Description':Repository_description})\n",
    "df"
   ]
  },
  {
   "cell_type": "code",
   "execution_count": null,
   "id": "bc0cdd60-9468-451f-999a-72b722319284",
   "metadata": {},
   "outputs": [],
   "source": []
  },
  {
   "cell_type": "code",
   "execution_count": null,
   "id": "2b76b667-c6ee-48ec-9f02-1c45b91af5cf",
   "metadata": {},
   "outputs": [],
   "source": []
  },
  {
   "cell_type": "code",
   "execution_count": null,
   "id": "cf679ec6-c6fa-4e20-a672-b61c9284409c",
   "metadata": {},
   "outputs": [],
   "source": []
  },
  {
   "cell_type": "markdown",
   "id": "85d3f045-fa65-497b-b301-e621170cff5d",
   "metadata": {},
   "source": [
    "Qiestion 5. Scrape the details of top 100 songs on billiboard.com.\n",
    "Url = https:/www.billboard.com/"
   ]
  },
  {
   "cell_type": "code",
   "execution_count": 2,
   "id": "39660342-94cf-4dcb-bf2b-b05b4232be6b",
   "metadata": {},
   "outputs": [],
   "source": [
    "# connecting to chrome driver \n",
    "driver = webdriver.Chrome(r\"C:\\Users\\ganes\\Downloads\\Internship_assignment\\Chrome_Driver\\chromedriver_win32\\chromedriver.exe\")"
   ]
  },
  {
   "cell_type": "code",
   "execution_count": 3,
   "id": "242399ed-5e01-4958-b459-f36f63119dc3",
   "metadata": {},
   "outputs": [],
   "source": [
    "# connecting the webpage according to Question \n",
    "driver.get('https:/www.billboard.com/')"
   ]
  },
  {
   "cell_type": "code",
   "execution_count": 4,
   "id": "005d2050-8d75-4856-a11c-fd622e44a6fb",
   "metadata": {},
   "outputs": [],
   "source": [
    "search = driver.find_element(By.XPATH,'/html/body/div[3]/header/div/div[2]/div/div/div[2]/div[2]/div/div/nav/ul/li[1]/a')\n",
    "search.click()"
   ]
  },
  {
   "cell_type": "code",
   "execution_count": 5,
   "id": "2ceefe7c-3b78-41cc-a864-144ea7124fff",
   "metadata": {},
   "outputs": [],
   "source": [
    "search = driver.find_element(By.XPATH,'/html/body/div[3]/main/div[2]/div[1]/div[1]/div/div/div[3]/a')\n",
    "search.click()"
   ]
  },
  {
   "cell_type": "code",
   "execution_count": 6,
   "id": "0e49c825-7957-48d4-8db2-664ae9b96d90",
   "metadata": {},
   "outputs": [
    {
     "data": {
      "text/plain": [
       "100"
      ]
     },
     "execution_count": 6,
     "metadata": {},
     "output_type": "execute_result"
    }
   ],
   "source": [
    "Song_name=[]\n",
    "Song_names= driver.find_elements(By.XPATH,'/html/body/div[3]/main/div[2]/div[3]/div/div/div/div[2]/div/ul/li[4]/ul/li[1]/h3')\n",
    "for i in Song_names:\n",
    "    Song_nam=i.text\n",
    "    Song_name.append(Song_nam)\n",
    "len(Song_name)"
   ]
  },
  {
   "cell_type": "code",
   "execution_count": 7,
   "id": "870fa2cd-2192-4a63-b1ac-7798deeb150a",
   "metadata": {},
   "outputs": [
    {
     "data": {
      "text/plain": [
       "100"
      ]
     },
     "execution_count": 7,
     "metadata": {},
     "output_type": "execute_result"
    }
   ],
   "source": [
    "Artist_name=[]\n",
    "Artist_names= driver.find_elements(By.XPATH,'/html/body/div[3]/main/div[2]/div[3]/div/div/div/div[2]/div/ul/li[4]/ul/li[1]/span')\n",
    "for i in Artist_names:\n",
    "    Artist_nam=i.text\n",
    "    Artist_name.append(Artist_nam)\n",
    "len(Artist_name)"
   ]
  },
  {
   "cell_type": "code",
   "execution_count": 8,
   "id": "c7ac92c7-5052-4dba-8e6a-fcf793f2e21c",
   "metadata": {},
   "outputs": [
    {
     "data": {
      "text/plain": [
       "100"
      ]
     },
     "execution_count": 8,
     "metadata": {},
     "output_type": "execute_result"
    }
   ],
   "source": [
    "Last_week_rank=[]\n",
    "Last_week_ranks= driver.find_elements(By.XPATH,'/html/body/div[3]/main/div[2]/div[3]/div/div/div/div[2]/div/ul/li[4]/ul/li[4]/span')\n",
    "for i in Last_week_ranks:\n",
    "    Last_week_ran=i.text\n",
    "    Last_week_rank.append(Last_week_ran)\n",
    "len(Last_week_rank)"
   ]
  },
  {
   "cell_type": "code",
   "execution_count": 9,
   "id": "d6fcbe05-14e6-4e93-9f7b-621d89b373e5",
   "metadata": {},
   "outputs": [
    {
     "data": {
      "text/plain": [
       "100"
      ]
     },
     "execution_count": 9,
     "metadata": {},
     "output_type": "execute_result"
    }
   ],
   "source": [
    "Peak_rank=[]\n",
    "Peak_ranks= driver.find_elements(By.XPATH,'/html/body/div[3]/main/div[2]/div[3]/div/div/div/div[2]/div/ul/li[4]/ul/li[5]/span')\n",
    "for i in Peak_ranks:\n",
    "    Peak_ran=i.text\n",
    "    Peak_rank.append(Peak_ran)\n",
    "len(Peak_rank)"
   ]
  },
  {
   "cell_type": "code",
   "execution_count": 10,
   "id": "3097cf90-2133-48a3-8dfb-f5a71aaa2253",
   "metadata": {},
   "outputs": [
    {
     "data": {
      "text/plain": [
       "100"
      ]
     },
     "execution_count": 10,
     "metadata": {},
     "output_type": "execute_result"
    }
   ],
   "source": [
    "Weeks_on_board=[]\n",
    "Weeks_on_boards= driver.find_elements(By.XPATH,'/html/body/div[3]/main/div[2]/div[3]/div/div/div/div[2]/div/ul/li[4]/ul/li[6]/span')\n",
    "for i in Weeks_on_boards:\n",
    "    Weeks_on_boar=i.text\n",
    "    Weeks_on_board.append(Weeks_on_boar)\n",
    "len(Weeks_on_board)"
   ]
  },
  {
   "cell_type": "code",
   "execution_count": 12,
   "id": "ac111e45-9fc2-4371-be69-e54cfb85fb0d",
   "metadata": {},
   "outputs": [
    {
     "data": {
      "text/plain": [
       "100"
      ]
     },
     "execution_count": 12,
     "metadata": {},
     "output_type": "execute_result"
    }
   ],
   "source": [
    "This_week_rank=[]\n",
    "This_week_ranks= driver.find_elements(By.XPATH,'/html/body/div[3]/main/div[2]/div[3]/div/div/div/div[2]/div/ul/li[1]/span[1]')\n",
    "for i in This_week_ranks:\n",
    "    This_week_ran=i.text\n",
    "    This_week_rank.append(This_week_ran)\n",
    "len(This_week_rank)"
   ]
  },
  {
   "cell_type": "code",
   "execution_count": 13,
   "id": "61f55e03-8fbe-42b8-8835-842c2b94fdba",
   "metadata": {},
   "outputs": [
    {
     "data": {
      "text/html": [
       "<div>\n",
       "<style scoped>\n",
       "    .dataframe tbody tr th:only-of-type {\n",
       "        vertical-align: middle;\n",
       "    }\n",
       "\n",
       "    .dataframe tbody tr th {\n",
       "        vertical-align: top;\n",
       "    }\n",
       "\n",
       "    .dataframe thead th {\n",
       "        text-align: right;\n",
       "    }\n",
       "</style>\n",
       "<table border=\"1\" class=\"dataframe\">\n",
       "  <thead>\n",
       "    <tr style=\"text-align: right;\">\n",
       "      <th></th>\n",
       "      <th>This week rank</th>\n",
       "      <th>Song name</th>\n",
       "      <th>Artist name</th>\n",
       "      <th>Last week rank</th>\n",
       "      <th>Peak rank</th>\n",
       "      <th>Weeks on board</th>\n",
       "    </tr>\n",
       "  </thead>\n",
       "  <tbody>\n",
       "    <tr>\n",
       "      <th>0</th>\n",
       "      <td>1</td>\n",
       "      <td>Last Night</td>\n",
       "      <td>Morgan Wallen</td>\n",
       "      <td>1</td>\n",
       "      <td>1</td>\n",
       "      <td>20</td>\n",
       "    </tr>\n",
       "    <tr>\n",
       "      <th>1</th>\n",
       "      <td>2</td>\n",
       "      <td>Flowers</td>\n",
       "      <td>Miley Cyrus</td>\n",
       "      <td>2</td>\n",
       "      <td>1</td>\n",
       "      <td>22</td>\n",
       "    </tr>\n",
       "    <tr>\n",
       "      <th>2</th>\n",
       "      <td>3</td>\n",
       "      <td>Fast Car</td>\n",
       "      <td>Luke Combs</td>\n",
       "      <td>4</td>\n",
       "      <td>3</td>\n",
       "      <td>12</td>\n",
       "    </tr>\n",
       "    <tr>\n",
       "      <th>3</th>\n",
       "      <td>4</td>\n",
       "      <td>Calm Down</td>\n",
       "      <td>Rema &amp; Selena Gomez</td>\n",
       "      <td>3</td>\n",
       "      <td>3</td>\n",
       "      <td>41</td>\n",
       "    </tr>\n",
       "    <tr>\n",
       "      <th>4</th>\n",
       "      <td>5</td>\n",
       "      <td>All My Life</td>\n",
       "      <td>Lil Durk Featuring J. Cole</td>\n",
       "      <td>5</td>\n",
       "      <td>2</td>\n",
       "      <td>5</td>\n",
       "    </tr>\n",
       "    <tr>\n",
       "      <th>...</th>\n",
       "      <td>...</td>\n",
       "      <td>...</td>\n",
       "      <td>...</td>\n",
       "      <td>...</td>\n",
       "      <td>...</td>\n",
       "      <td>...</td>\n",
       "    </tr>\n",
       "    <tr>\n",
       "      <th>95</th>\n",
       "      <td>96</td>\n",
       "      <td>Save Me</td>\n",
       "      <td>Jelly Roll With Lainey Wilson</td>\n",
       "      <td>86</td>\n",
       "      <td>86</td>\n",
       "      <td>2</td>\n",
       "    </tr>\n",
       "    <tr>\n",
       "      <th>96</th>\n",
       "      <td>97</td>\n",
       "      <td>Yandel 150</td>\n",
       "      <td>Yandel &amp; Feid</td>\n",
       "      <td>-</td>\n",
       "      <td>71</td>\n",
       "      <td>17</td>\n",
       "    </tr>\n",
       "    <tr>\n",
       "      <th>97</th>\n",
       "      <td>98</td>\n",
       "      <td>Beso</td>\n",
       "      <td>Rosalia &amp; Rauw Alejandro</td>\n",
       "      <td>94</td>\n",
       "      <td>52</td>\n",
       "      <td>12</td>\n",
       "    </tr>\n",
       "    <tr>\n",
       "      <th>98</th>\n",
       "      <td>99</td>\n",
       "      <td>I Wrote The Book</td>\n",
       "      <td>Morgan Wallen</td>\n",
       "      <td>-</td>\n",
       "      <td>18</td>\n",
       "      <td>19</td>\n",
       "    </tr>\n",
       "    <tr>\n",
       "      <th>99</th>\n",
       "      <td>100</td>\n",
       "      <td>Hummingbird</td>\n",
       "      <td>Metro Boomin &amp; James Blake</td>\n",
       "      <td>90</td>\n",
       "      <td>90</td>\n",
       "      <td>2</td>\n",
       "    </tr>\n",
       "  </tbody>\n",
       "</table>\n",
       "<p>100 rows × 6 columns</p>\n",
       "</div>"
      ],
      "text/plain": [
       "   This week rank         Song name                    Artist name  \\\n",
       "0               1        Last Night                  Morgan Wallen   \n",
       "1               2           Flowers                    Miley Cyrus   \n",
       "2               3          Fast Car                     Luke Combs   \n",
       "3               4         Calm Down            Rema & Selena Gomez   \n",
       "4               5       All My Life     Lil Durk Featuring J. Cole   \n",
       "..            ...               ...                            ...   \n",
       "95             96           Save Me  Jelly Roll With Lainey Wilson   \n",
       "96             97        Yandel 150                  Yandel & Feid   \n",
       "97             98              Beso       Rosalia & Rauw Alejandro   \n",
       "98             99  I Wrote The Book                  Morgan Wallen   \n",
       "99            100       Hummingbird     Metro Boomin & James Blake   \n",
       "\n",
       "   Last week rank Peak rank Weeks on board  \n",
       "0               1         1             20  \n",
       "1               2         1             22  \n",
       "2               4         3             12  \n",
       "3               3         3             41  \n",
       "4               5         2              5  \n",
       "..            ...       ...            ...  \n",
       "95             86        86              2  \n",
       "96              -        71             17  \n",
       "97             94        52             12  \n",
       "98              -        18             19  \n",
       "99             90        90              2  \n",
       "\n",
       "[100 rows x 6 columns]"
      ]
     },
     "execution_count": 13,
     "metadata": {},
     "output_type": "execute_result"
    }
   ],
   "source": [
    "import pandas as pd\n",
    "df = pd.DataFrame({'This week rank':This_week_rank,'Song name':Song_name,'Artist name':Artist_name,'Last week rank':Last_week_rank,'Peak rank':Peak_rank,'Weeks on board':Weeks_on_board})\n",
    "df"
   ]
  },
  {
   "cell_type": "code",
   "execution_count": null,
   "id": "aa6a9106-51c3-4d52-b718-fdc43a927de9",
   "metadata": {},
   "outputs": [],
   "source": []
  },
  {
   "cell_type": "code",
   "execution_count": null,
   "id": "3c84097e-1113-4e92-a9bc-c187ca1bc5af",
   "metadata": {},
   "outputs": [],
   "source": []
  },
  {
   "cell_type": "code",
   "execution_count": null,
   "id": "09518166-1ce2-437b-b493-3f071e55bcc8",
   "metadata": {},
   "outputs": [],
   "source": []
  },
  {
   "cell_type": "markdown",
   "id": "b356a98e-9b8f-47c7-9397-098b5a075a7a",
   "metadata": {},
   "source": [
    "Question 6. Scrape the details of Highest sellingnovels.\n",
    "Url = https://www.theguardian.com/news/datablog/2012/aug/09/best-selling-books-all-time-fifty-shades-grey-\n",
    "compare"
   ]
  },
  {
   "cell_type": "code",
   "execution_count": 2,
   "id": "fa0cc6f9-be13-4950-85fa-497d007aaa5e",
   "metadata": {},
   "outputs": [],
   "source": [
    "# connecting to chrome driver \n",
    "driver = webdriver.Chrome(r\"C:\\Users\\ganes\\Downloads\\Internship_assignment\\Chrome_Driver\\chromedriver_win32\\chromedriver.exe\")"
   ]
  },
  {
   "cell_type": "code",
   "execution_count": 3,
   "id": "88fe65cd-a274-4079-a9ed-075f3d6c1340",
   "metadata": {},
   "outputs": [],
   "source": [
    "# connecting the webpage according to Question \n",
    "driver.get('https://www.theguardian.com/news/datablog/2012/aug/09/best-selling-books-all-time-fifty-shades-grey-compare')"
   ]
  },
  {
   "cell_type": "code",
   "execution_count": 4,
   "id": "73eb3c75-ff8a-4a69-9ae6-4283896aaed8",
   "metadata": {},
   "outputs": [
    {
     "data": {
      "text/plain": [
       "100"
      ]
     },
     "execution_count": 4,
     "metadata": {},
     "output_type": "execute_result"
    }
   ],
   "source": [
    "Rank=[]\n",
    "Rank_lists= driver.find_elements(By.XPATH,'/html/body/div/div[2]/div[2]/div/div[2]/div/table/tbody/tr/td[1]')\n",
    "for i in Rank_lists:\n",
    "    Rank_list=i.text\n",
    "    Rank.append(Rank_list)\n",
    "len(Rank)"
   ]
  },
  {
   "cell_type": "code",
   "execution_count": 5,
   "id": "1622e895-b041-486b-99aa-c97c5732074d",
   "metadata": {},
   "outputs": [
    {
     "data": {
      "text/plain": [
       "100"
      ]
     },
     "execution_count": 5,
     "metadata": {},
     "output_type": "execute_result"
    }
   ],
   "source": [
    "Book_name=[]\n",
    "Book_names= driver.find_elements(By.XPATH,'/html/body/div/div[2]/div[2]/div/div[2]/div/table/tbody/tr/td[2]')\n",
    "for i in Book_names:\n",
    "    Book_nam=i.text\n",
    "    Book_name.append(Book_nam)\n",
    "len(Book_name)"
   ]
  },
  {
   "cell_type": "code",
   "execution_count": 6,
   "id": "08d102d9-8991-4b61-a537-22dbd3092f18",
   "metadata": {},
   "outputs": [
    {
     "data": {
      "text/plain": [
       "100"
      ]
     },
     "execution_count": 6,
     "metadata": {},
     "output_type": "execute_result"
    }
   ],
   "source": [
    "Author_name=[]\n",
    "Author_names= driver.find_elements(By.XPATH,'/html/body/div/div[2]/div[2]/div/div[2]/div/table/tbody/tr/td[3]')\n",
    "for i in Author_names:\n",
    "    Author_nam=i.text\n",
    "    Author_name.append(Author_nam)\n",
    "len(Author_name)"
   ]
  },
  {
   "cell_type": "code",
   "execution_count": 7,
   "id": "6bdba19d-0c8b-47a1-812f-0f869350b9a1",
   "metadata": {},
   "outputs": [
    {
     "data": {
      "text/plain": [
       "100"
      ]
     },
     "execution_count": 7,
     "metadata": {},
     "output_type": "execute_result"
    }
   ],
   "source": [
    "Volumes_sold=[]\n",
    "Volumes_solds= driver.find_elements(By.XPATH,'/html/body/div/div[2]/div[2]/div/div[2]/div/table/tbody/tr/td[4]')\n",
    "for i in Volumes_solds:\n",
    "    Volumes_sol=i.text\n",
    "    Volumes_sold.append(Volumes_sol)\n",
    "len(Volumes_sold)"
   ]
  },
  {
   "cell_type": "code",
   "execution_count": 8,
   "id": "238e71cf-9a13-4379-8ad0-ac8932425178",
   "metadata": {},
   "outputs": [
    {
     "data": {
      "text/plain": [
       "100"
      ]
     },
     "execution_count": 8,
     "metadata": {},
     "output_type": "execute_result"
    }
   ],
   "source": [
    "Publisher=[]\n",
    "Publisher_name= driver.find_elements(By.XPATH,'/html/body/div/div[2]/div[2]/div/div[2]/div/table/tbody/tr/td[5]')\n",
    "for i in Publisher_name:\n",
    "    Publisher_nam=i.text\n",
    "    Publisher.append(Publisher_nam)\n",
    "len(Publisher)"
   ]
  },
  {
   "cell_type": "code",
   "execution_count": 9,
   "id": "6e7d68f2-aaf7-4630-9130-9e2c976b3cbe",
   "metadata": {},
   "outputs": [
    {
     "data": {
      "text/plain": [
       "100"
      ]
     },
     "execution_count": 9,
     "metadata": {},
     "output_type": "execute_result"
    }
   ],
   "source": [
    "Genre=[]\n",
    "Genre_name= driver.find_elements(By.XPATH,'/html/body/div/div[2]/div[2]/div/div[2]/div/table/tbody/tr/td[6]')\n",
    "for i in Genre_name:\n",
    "    Genre_nam=i.text\n",
    "    Genre.append(Genre_nam)\n",
    "len(Genre)"
   ]
  },
  {
   "cell_type": "code",
   "execution_count": 10,
   "id": "1e11b6a7-e3bf-421a-b1bd-7c97396403f3",
   "metadata": {},
   "outputs": [
    {
     "data": {
      "text/html": [
       "<div>\n",
       "<style scoped>\n",
       "    .dataframe tbody tr th:only-of-type {\n",
       "        vertical-align: middle;\n",
       "    }\n",
       "\n",
       "    .dataframe tbody tr th {\n",
       "        vertical-align: top;\n",
       "    }\n",
       "\n",
       "    .dataframe thead th {\n",
       "        text-align: right;\n",
       "    }\n",
       "</style>\n",
       "<table border=\"1\" class=\"dataframe\">\n",
       "  <thead>\n",
       "    <tr style=\"text-align: right;\">\n",
       "      <th></th>\n",
       "      <th>Rank</th>\n",
       "      <th>Book Name</th>\n",
       "      <th>Author Name</th>\n",
       "      <th>Volumes Sold</th>\n",
       "      <th>Publisher</th>\n",
       "      <th>Genre</th>\n",
       "    </tr>\n",
       "  </thead>\n",
       "  <tbody>\n",
       "    <tr>\n",
       "      <th>0</th>\n",
       "      <td>1</td>\n",
       "      <td>Da Vinci Code,The</td>\n",
       "      <td>Brown, Dan</td>\n",
       "      <td>5,094,805</td>\n",
       "      <td>Transworld</td>\n",
       "      <td>Crime, Thriller &amp; Adventure</td>\n",
       "    </tr>\n",
       "    <tr>\n",
       "      <th>1</th>\n",
       "      <td>2</td>\n",
       "      <td>Harry Potter and the Deathly Hallows</td>\n",
       "      <td>Rowling, J.K.</td>\n",
       "      <td>4,475,152</td>\n",
       "      <td>Bloomsbury</td>\n",
       "      <td>Children's Fiction</td>\n",
       "    </tr>\n",
       "    <tr>\n",
       "      <th>2</th>\n",
       "      <td>3</td>\n",
       "      <td>Harry Potter and the Philosopher's Stone</td>\n",
       "      <td>Rowling, J.K.</td>\n",
       "      <td>4,200,654</td>\n",
       "      <td>Bloomsbury</td>\n",
       "      <td>Children's Fiction</td>\n",
       "    </tr>\n",
       "    <tr>\n",
       "      <th>3</th>\n",
       "      <td>4</td>\n",
       "      <td>Harry Potter and the Order of the Phoenix</td>\n",
       "      <td>Rowling, J.K.</td>\n",
       "      <td>4,179,479</td>\n",
       "      <td>Bloomsbury</td>\n",
       "      <td>Children's Fiction</td>\n",
       "    </tr>\n",
       "    <tr>\n",
       "      <th>4</th>\n",
       "      <td>5</td>\n",
       "      <td>Fifty Shades of Grey</td>\n",
       "      <td>James, E. L.</td>\n",
       "      <td>3,758,936</td>\n",
       "      <td>Random House</td>\n",
       "      <td>Romance &amp; Sagas</td>\n",
       "    </tr>\n",
       "    <tr>\n",
       "      <th>...</th>\n",
       "      <td>...</td>\n",
       "      <td>...</td>\n",
       "      <td>...</td>\n",
       "      <td>...</td>\n",
       "      <td>...</td>\n",
       "      <td>...</td>\n",
       "    </tr>\n",
       "    <tr>\n",
       "      <th>95</th>\n",
       "      <td>96</td>\n",
       "      <td>Ghost,The</td>\n",
       "      <td>Harris, Robert</td>\n",
       "      <td>807,311</td>\n",
       "      <td>Random House</td>\n",
       "      <td>General &amp; Literary Fiction</td>\n",
       "    </tr>\n",
       "    <tr>\n",
       "      <th>96</th>\n",
       "      <td>97</td>\n",
       "      <td>Happy Days with the Naked Chef</td>\n",
       "      <td>Oliver, Jamie</td>\n",
       "      <td>794,201</td>\n",
       "      <td>Penguin</td>\n",
       "      <td>Food &amp; Drink: General</td>\n",
       "    </tr>\n",
       "    <tr>\n",
       "      <th>97</th>\n",
       "      <td>98</td>\n",
       "      <td>Hunger Games,The:Hunger Games Trilogy</td>\n",
       "      <td>Collins, Suzanne</td>\n",
       "      <td>792,187</td>\n",
       "      <td>Scholastic Ltd.</td>\n",
       "      <td>Young Adult Fiction</td>\n",
       "    </tr>\n",
       "    <tr>\n",
       "      <th>98</th>\n",
       "      <td>99</td>\n",
       "      <td>Lost Boy,The:A Foster Child's Search for the L...</td>\n",
       "      <td>Pelzer, Dave</td>\n",
       "      <td>791,507</td>\n",
       "      <td>Orion</td>\n",
       "      <td>Biography: General</td>\n",
       "    </tr>\n",
       "    <tr>\n",
       "      <th>99</th>\n",
       "      <td>100</td>\n",
       "      <td>Jamie's Ministry of Food:Anyone Can Learn to C...</td>\n",
       "      <td>Oliver, Jamie</td>\n",
       "      <td>791,095</td>\n",
       "      <td>Penguin</td>\n",
       "      <td>Food &amp; Drink: General</td>\n",
       "    </tr>\n",
       "  </tbody>\n",
       "</table>\n",
       "<p>100 rows × 6 columns</p>\n",
       "</div>"
      ],
      "text/plain": [
       "   Rank                                          Book Name       Author Name  \\\n",
       "0     1                                  Da Vinci Code,The        Brown, Dan   \n",
       "1     2               Harry Potter and the Deathly Hallows     Rowling, J.K.   \n",
       "2     3           Harry Potter and the Philosopher's Stone     Rowling, J.K.   \n",
       "3     4          Harry Potter and the Order of the Phoenix     Rowling, J.K.   \n",
       "4     5                               Fifty Shades of Grey      James, E. L.   \n",
       "..  ...                                                ...               ...   \n",
       "95   96                                          Ghost,The    Harris, Robert   \n",
       "96   97                     Happy Days with the Naked Chef     Oliver, Jamie   \n",
       "97   98              Hunger Games,The:Hunger Games Trilogy  Collins, Suzanne   \n",
       "98   99  Lost Boy,The:A Foster Child's Search for the L...      Pelzer, Dave   \n",
       "99  100  Jamie's Ministry of Food:Anyone Can Learn to C...     Oliver, Jamie   \n",
       "\n",
       "   Volumes Sold        Publisher                        Genre  \n",
       "0     5,094,805       Transworld  Crime, Thriller & Adventure  \n",
       "1     4,475,152       Bloomsbury           Children's Fiction  \n",
       "2     4,200,654       Bloomsbury           Children's Fiction  \n",
       "3     4,179,479       Bloomsbury           Children's Fiction  \n",
       "4     3,758,936     Random House              Romance & Sagas  \n",
       "..          ...              ...                          ...  \n",
       "95      807,311     Random House   General & Literary Fiction  \n",
       "96      794,201          Penguin        Food & Drink: General  \n",
       "97      792,187  Scholastic Ltd.          Young Adult Fiction  \n",
       "98      791,507            Orion           Biography: General  \n",
       "99      791,095          Penguin        Food & Drink: General  \n",
       "\n",
       "[100 rows x 6 columns]"
      ]
     },
     "execution_count": 10,
     "metadata": {},
     "output_type": "execute_result"
    }
   ],
   "source": [
    "df = pd.DataFrame({'Rank':Rank,'Book Name':Book_name,'Author Name':Author_name,'Volumes Sold':Volumes_sold,'Publisher':Publisher,'Genre':Genre})\n",
    "df"
   ]
  },
  {
   "cell_type": "code",
   "execution_count": null,
   "id": "2786f86d-ca99-4e76-a3a1-ae4d155f9505",
   "metadata": {},
   "outputs": [],
   "source": []
  },
  {
   "cell_type": "code",
   "execution_count": null,
   "id": "f3808e48-2fb8-49cb-a40c-d95a1559478b",
   "metadata": {},
   "outputs": [],
   "source": []
  },
  {
   "cell_type": "code",
   "execution_count": null,
   "id": "a1363a99-5db1-4050-b3e7-e1f38467489d",
   "metadata": {},
   "outputs": [],
   "source": []
  },
  {
   "cell_type": "markdown",
   "id": "8228f41f-5f07-45fb-bb3c-5bf7de163ca7",
   "metadata": {},
   "source": [
    "Question 7. Scrape the details most watched tv series of all time from imdb.com.\n",
    "Url = https://www.imdb.com/list/ls095964455/"
   ]
  },
  {
   "cell_type": "code",
   "execution_count": null,
   "id": "6a12a085-563a-4430-a492-8768f841c325",
   "metadata": {},
   "outputs": [],
   "source": [
    "# connecting to chrome driver \n",
    "driver = webdriver.Chrome(r\"C:\\Users\\ganes\\Downloads\\Internship_assignment\\Chrome_Driver\\chromedriver_win32\\chromedriver.exe\")"
   ]
  },
  {
   "cell_type": "code",
   "execution_count": 12,
   "id": "6048b326-7b1b-4e09-a59b-ad17695a755f",
   "metadata": {},
   "outputs": [],
   "source": [
    "# connecting the webpage according to Question \n",
    "driver.get('https://www.imdb.com/list/ls095964455/')"
   ]
  },
  {
   "cell_type": "code",
   "execution_count": 13,
   "id": "031d0bcb-b126-443b-99cd-5fc190b642bf",
   "metadata": {},
   "outputs": [
    {
     "data": {
      "text/plain": [
       "100"
      ]
     },
     "execution_count": 13,
     "metadata": {},
     "output_type": "execute_result"
    }
   ],
   "source": [
    "Name=[]\n",
    "Name_tv= driver.find_elements(By.XPATH,'/html/body/div[2]/div/div[2]/div[3]/div[1]/div/div[3]/div[3]/div/div[2]/h3/a')\n",
    "for i in Name_tv:\n",
    "    Name_t=i.text\n",
    "    Name.append(Name_t)\n",
    "len(Name)"
   ]
  },
  {
   "cell_type": "code",
   "execution_count": 14,
   "id": "6faaa7e7-40de-43b6-a7ba-5f63d46132d1",
   "metadata": {},
   "outputs": [
    {
     "data": {
      "text/plain": [
       "100"
      ]
     },
     "execution_count": 14,
     "metadata": {},
     "output_type": "execute_result"
    }
   ],
   "source": [
    "Year_span=[]\n",
    "Year_span_tv= driver.find_elements(By.XPATH,'/html/body/div[2]/div/div[2]/div[3]/div[1]/div/div[3]/div[3]/div/div[2]/h3/span[2]')\n",
    "for i in Year_span_tv:\n",
    "    Year_span_t=i.text\n",
    "    Year_span.append(Year_span_t)\n",
    "len(Year_span)"
   ]
  },
  {
   "cell_type": "code",
   "execution_count": 15,
   "id": "1553b37b-55fc-4657-9e43-4376c0997430",
   "metadata": {},
   "outputs": [
    {
     "data": {
      "text/plain": [
       "100"
      ]
     },
     "execution_count": 15,
     "metadata": {},
     "output_type": "execute_result"
    }
   ],
   "source": [
    "Genre=[]\n",
    "Genre_name= driver.find_elements(By.XPATH,'/html/body/div[2]/div/div[2]/div[3]/div[1]/div/div[3]/div[3]/div/div[2]/h3/span[2]')\n",
    "for i in Genre_name:\n",
    "    Genre_nam=i.text\n",
    "    Genre.append(Genre_nam)\n",
    "len(Genre)"
   ]
  },
  {
   "cell_type": "code",
   "execution_count": 16,
   "id": "c7a289bb-423f-487a-8149-62ab678e2821",
   "metadata": {},
   "outputs": [
    {
     "data": {
      "text/plain": [
       "100"
      ]
     },
     "execution_count": 16,
     "metadata": {},
     "output_type": "execute_result"
    }
   ],
   "source": [
    "Run_time=[]\n",
    "Run_times= driver.find_elements(By.XPATH,'/html/body/div[2]/div/div[2]/div[3]/div[1]/div/div[3]/div[3]/div/div[2]/p[1]/span[3]')\n",
    "for i in Run_times:\n",
    "    Run_tim=i.text\n",
    "    Run_time.append(Run_tim)\n",
    "len(Run_time)"
   ]
  },
  {
   "cell_type": "code",
   "execution_count": 17,
   "id": "6eefdc03-7f9e-4b9e-9a4d-6cfd4564ab0f",
   "metadata": {},
   "outputs": [
    {
     "data": {
      "text/plain": [
       "100"
      ]
     },
     "execution_count": 17,
     "metadata": {},
     "output_type": "execute_result"
    }
   ],
   "source": [
    "Ratings=[]\n",
    "Ratings_tv= driver.find_elements(By.XPATH,'/html/body/div[2]/div/div[2]/div[3]/div[1]/div/div[3]/div[3]/div/div[2]/div[1]/div[1]/span[2]')\n",
    "for i in Ratings_tv:\n",
    "    Ratings_t=i.text\n",
    "    Ratings.append(Ratings_t)\n",
    "len(Ratings)"
   ]
  },
  {
   "cell_type": "code",
   "execution_count": 18,
   "id": "3796d0eb-eb6c-4e1e-81ed-084c60eaf2c7",
   "metadata": {},
   "outputs": [
    {
     "data": {
      "text/plain": [
       "100"
      ]
     },
     "execution_count": 18,
     "metadata": {},
     "output_type": "execute_result"
    }
   ],
   "source": [
    "Votes=[]\n",
    "Votes_tv= driver.find_elements(By.XPATH,'/html/body/div[2]/div/div[2]/div[3]/div[1]/div/div[3]/div[3]/div/div[2]/p[4]/span[2]')\n",
    "for i in Votes_tv:\n",
    "    Votes_t=i.text\n",
    "    Votes.append(Votes_t)\n",
    "len(Votes)"
   ]
  },
  {
   "cell_type": "code",
   "execution_count": 23,
   "id": "23076d95-a93c-4fee-abe2-45fcfd739640",
   "metadata": {},
   "outputs": [],
   "source": [
    "List_No=list(range(1,len(Name)+1))"
   ]
  },
  {
   "cell_type": "code",
   "execution_count": 24,
   "id": "615c7d14-ebf8-42de-a763-28997ed9a73b",
   "metadata": {},
   "outputs": [
    {
     "data": {
      "text/html": [
       "<div>\n",
       "<style scoped>\n",
       "    .dataframe tbody tr th:only-of-type {\n",
       "        vertical-align: middle;\n",
       "    }\n",
       "\n",
       "    .dataframe tbody tr th {\n",
       "        vertical-align: top;\n",
       "    }\n",
       "\n",
       "    .dataframe thead th {\n",
       "        text-align: right;\n",
       "    }\n",
       "</style>\n",
       "<table border=\"1\" class=\"dataframe\">\n",
       "  <thead>\n",
       "    <tr style=\"text-align: right;\">\n",
       "      <th></th>\n",
       "      <th>List No</th>\n",
       "      <th>Name</th>\n",
       "      <th>Year span</th>\n",
       "      <th>Genre</th>\n",
       "      <th>Run_time</th>\n",
       "      <th>Ratings</th>\n",
       "      <th>Votes</th>\n",
       "    </tr>\n",
       "  </thead>\n",
       "  <tbody>\n",
       "    <tr>\n",
       "      <th>0</th>\n",
       "      <td>1</td>\n",
       "      <td>Game of Thrones</td>\n",
       "      <td>(2011–2019)</td>\n",
       "      <td>(2011–2019)</td>\n",
       "      <td>57 min</td>\n",
       "      <td>9.2</td>\n",
       "      <td>2,173,759</td>\n",
       "    </tr>\n",
       "    <tr>\n",
       "      <th>1</th>\n",
       "      <td>2</td>\n",
       "      <td>Stranger Things</td>\n",
       "      <td>(2016–2024)</td>\n",
       "      <td>(2016–2024)</td>\n",
       "      <td>51 min</td>\n",
       "      <td>8.7</td>\n",
       "      <td>1,251,705</td>\n",
       "    </tr>\n",
       "    <tr>\n",
       "      <th>2</th>\n",
       "      <td>3</td>\n",
       "      <td>The Walking Dead</td>\n",
       "      <td>(2010–2022)</td>\n",
       "      <td>(2010–2022)</td>\n",
       "      <td>44 min</td>\n",
       "      <td>8.1</td>\n",
       "      <td>1,032,518</td>\n",
       "    </tr>\n",
       "    <tr>\n",
       "      <th>3</th>\n",
       "      <td>4</td>\n",
       "      <td>13 Reasons Why</td>\n",
       "      <td>(2017–2020)</td>\n",
       "      <td>(2017–2020)</td>\n",
       "      <td>60 min</td>\n",
       "      <td>7.5</td>\n",
       "      <td>303,581</td>\n",
       "    </tr>\n",
       "    <tr>\n",
       "      <th>4</th>\n",
       "      <td>5</td>\n",
       "      <td>The 100</td>\n",
       "      <td>(2014–2020)</td>\n",
       "      <td>(2014–2020)</td>\n",
       "      <td>43 min</td>\n",
       "      <td>7.6</td>\n",
       "      <td>262,749</td>\n",
       "    </tr>\n",
       "    <tr>\n",
       "      <th>...</th>\n",
       "      <td>...</td>\n",
       "      <td>...</td>\n",
       "      <td>...</td>\n",
       "      <td>...</td>\n",
       "      <td>...</td>\n",
       "      <td>...</td>\n",
       "      <td>...</td>\n",
       "    </tr>\n",
       "    <tr>\n",
       "      <th>95</th>\n",
       "      <td>96</td>\n",
       "      <td>Reign</td>\n",
       "      <td>(2013–2017)</td>\n",
       "      <td>(2013–2017)</td>\n",
       "      <td>42 min</td>\n",
       "      <td>7.4</td>\n",
       "      <td>51,963</td>\n",
       "    </tr>\n",
       "    <tr>\n",
       "      <th>96</th>\n",
       "      <td>97</td>\n",
       "      <td>A Series of Unfortunate Events</td>\n",
       "      <td>(2017–2019)</td>\n",
       "      <td>(2017–2019)</td>\n",
       "      <td>50 min</td>\n",
       "      <td>7.8</td>\n",
       "      <td>63,996</td>\n",
       "    </tr>\n",
       "    <tr>\n",
       "      <th>97</th>\n",
       "      <td>98</td>\n",
       "      <td>Criminal Minds</td>\n",
       "      <td>(2005– )</td>\n",
       "      <td>(2005– )</td>\n",
       "      <td>42 min</td>\n",
       "      <td>8.1</td>\n",
       "      <td>208,555</td>\n",
       "    </tr>\n",
       "    <tr>\n",
       "      <th>98</th>\n",
       "      <td>99</td>\n",
       "      <td>Scream: The TV Series</td>\n",
       "      <td>(2015–2019)</td>\n",
       "      <td>(2015–2019)</td>\n",
       "      <td>45 min</td>\n",
       "      <td>7.1</td>\n",
       "      <td>43,403</td>\n",
       "    </tr>\n",
       "    <tr>\n",
       "      <th>99</th>\n",
       "      <td>100</td>\n",
       "      <td>The Haunting of Hill House</td>\n",
       "      <td>(2018)</td>\n",
       "      <td>(2018)</td>\n",
       "      <td>572 min</td>\n",
       "      <td>8.6</td>\n",
       "      <td>260,234</td>\n",
       "    </tr>\n",
       "  </tbody>\n",
       "</table>\n",
       "<p>100 rows × 7 columns</p>\n",
       "</div>"
      ],
      "text/plain": [
       "    List No                            Name    Year span        Genre  \\\n",
       "0         1                 Game of Thrones  (2011–2019)  (2011–2019)   \n",
       "1         2                 Stranger Things  (2016–2024)  (2016–2024)   \n",
       "2         3                The Walking Dead  (2010–2022)  (2010–2022)   \n",
       "3         4                  13 Reasons Why  (2017–2020)  (2017–2020)   \n",
       "4         5                         The 100  (2014–2020)  (2014–2020)   \n",
       "..      ...                             ...          ...          ...   \n",
       "95       96                           Reign  (2013–2017)  (2013–2017)   \n",
       "96       97  A Series of Unfortunate Events  (2017–2019)  (2017–2019)   \n",
       "97       98                  Criminal Minds     (2005– )     (2005– )   \n",
       "98       99           Scream: The TV Series  (2015–2019)  (2015–2019)   \n",
       "99      100      The Haunting of Hill House       (2018)       (2018)   \n",
       "\n",
       "   Run_time Ratings      Votes  \n",
       "0    57 min     9.2  2,173,759  \n",
       "1    51 min     8.7  1,251,705  \n",
       "2    44 min     8.1  1,032,518  \n",
       "3    60 min     7.5    303,581  \n",
       "4    43 min     7.6    262,749  \n",
       "..      ...     ...        ...  \n",
       "95   42 min     7.4     51,963  \n",
       "96   50 min     7.8     63,996  \n",
       "97   42 min     8.1    208,555  \n",
       "98   45 min     7.1     43,403  \n",
       "99  572 min     8.6    260,234  \n",
       "\n",
       "[100 rows x 7 columns]"
      ]
     },
     "execution_count": 24,
     "metadata": {},
     "output_type": "execute_result"
    }
   ],
   "source": [
    "df = pd.DataFrame({'List No':List_No,'Name':Name,'Year span':Year_span,'Genre':Genre,'Run_time':Run_time,'Ratings':Ratings,'Votes':Votes})\n",
    "df"
   ]
  },
  {
   "cell_type": "code",
   "execution_count": null,
   "id": "1268361b-da61-4106-8084-b59bf91501fd",
   "metadata": {},
   "outputs": [],
   "source": []
  },
  {
   "cell_type": "code",
   "execution_count": null,
   "id": "d12b0964-163c-4875-876a-2945edcfbc21",
   "metadata": {},
   "outputs": [],
   "source": []
  },
  {
   "cell_type": "code",
   "execution_count": null,
   "id": "4d0b88ec-89d8-4b4e-b6f2-c3d22e6c7366",
   "metadata": {},
   "outputs": [],
   "source": []
  },
  {
   "cell_type": "markdown",
   "id": "04ce08ca-c94b-4740-8878-32c0e55209c4",
   "metadata": {},
   "source": [
    "Question 8. Details of Datasets from UCI machine learning repositories.\n",
    "Url = https://archive.ics.uci.edu/"
   ]
  },
  {
   "cell_type": "code",
   "execution_count": 2,
   "id": "0592b027-56ba-4f9c-af89-207c8010346a",
   "metadata": {},
   "outputs": [],
   "source": [
    "# connecting to chrome driver \n",
    "driver = webdriver.Chrome(r\"C:\\Users\\ganes\\Downloads\\Internship_assignment\\Chrome_Driver\\chromedriver_win32\\chromedriver.exe\")"
   ]
  },
  {
   "cell_type": "code",
   "execution_count": 12,
   "id": "bee54e84-664d-43b3-8851-e9caec4a03ee",
   "metadata": {},
   "outputs": [],
   "source": [
    "# connecting the webpage according to Question \n",
    "driver.get('https://archive.ics.uci.edu/')"
   ]
  },
  {
   "cell_type": "code",
   "execution_count": 13,
   "id": "cd10799d-0407-4a01-a73f-55fca635380c",
   "metadata": {},
   "outputs": [],
   "source": [
    "search = driver.find_element(By.XPATH,'/html/body/div/div[1]/div[1]/main/div/div[1]/div/div/div/a[1]')\n",
    "search.click()"
   ]
  },
  {
   "cell_type": "code",
   "execution_count": 16,
   "id": "08da9824-0590-423f-87c2-7212e55a074d",
   "metadata": {},
   "outputs": [],
   "source": [
    "Dataset_name=[]\n",
    "Data_type=[]\n",
    "Task=[]\n",
    "Attribute_type=[]\n",
    "No_of_instances=[]\n",
    "Year=[]\n",
    "true=1\n",
    "\n",
    "expand = driver.find_element(By.XPATH,'/html/body/div/div[1]/div[1]/main/div/div[2]/div[1]/div/label[2]/div[2]/span[2]')\n",
    "expand.click()    \n",
    "    \n",
    "while true :\n",
    "    \n",
    "    Dataset_names= driver.find_elements(By.XPATH,'/html/body/div/div[1]/div[1]/main/div/div[2]/div[2]/div/div[1]/div[2]/h2/a')\n",
    "    for i in Dataset_names:\n",
    "        Dataset_nam=i.text\n",
    "        Dataset_name.append(Dataset_nam)\n",
    "\n",
    "    Data_types= driver.find_elements(By.XPATH,'/html/body/div/div[1]/div[1]/main/div/div[2]/div[2]/div/div[1]/div[2]/div/div[2]/span')\n",
    "    for i in Data_types:\n",
    "        Data_typ=i.text\n",
    "        if len(Data_typ)<4:\n",
    "            Data_typ='-'\n",
    "        Data_type.append(Data_typ)\n",
    "\n",
    "    Task_name= driver.find_elements(By.XPATH,'/html/body/div/div[1]/div[1]/main/div/div[2]/div[2]/div/div[1]/div[2]/div/div[1]/span')\n",
    "    for i in Task_name:\n",
    "        Task_nam=i.text\n",
    "        if len(Task_nam)<4:\n",
    "            Task_nam='-'\n",
    "        Task.append(Task_nam)\n",
    "\n",
    "    Attribute_types= driver.find_elements(By.XPATH,'/html/body/div/div[1]/div[1]/main/div/div[2]/div[2]/div/div[2]/div/table/tbody/tr/td[2]')\n",
    "    for i in Attribute_types:\n",
    "        Attribute_typ=i.text\n",
    "        if len(Attribute_typ)<4:\n",
    "            Attribute_typ='-'\n",
    "        Attribute_type.append(Attribute_typ)\n",
    "\n",
    "    No_of_instance= driver.find_elements(By.XPATH,'/html/body/div/div[1]/div[1]/main/div/div[2]/div[2]/div/div[1]/div[2]/div/div[3]/span')\n",
    "    for i in No_of_instance:\n",
    "        No_of_instanc=i.text\n",
    "        if len(No_of_instanc)<4:\n",
    "            No_of_instanc='-'\n",
    "        No_of_instances.append(No_of_instanc)\n",
    "\n",
    "    Year_names= driver.find_elements(By.XPATH,'/html/body/div/div[1]/div[1]/main/div/div[2]/div[2]/div/div[2]/div/table/tbody/tr/td[3]')\n",
    "    for i in Year_names:\n",
    "        Year_name=i.text\n",
    "        Year.append(Year_name)  \n",
    "\n",
    "    if len(Dataset_name)>620:\n",
    "        true=0\n",
    "    else :    \n",
    "        next_page = driver.find_element(By.XPATH,'/html/body/div/div[1]/div[1]/main/div/div[2]/div[3]/div/button[2]')\n",
    "        next_page.click()  \n",
    "    \n",
    "    time.sleep(5)\n",
    "    \n",
    "\n",
    "   \n"
   ]
  },
  {
   "cell_type": "code",
   "execution_count": 17,
   "id": "0443175d-3a57-48e2-af2c-1a5b87734eae",
   "metadata": {},
   "outputs": [],
   "source": [
    "List_No=list(range(1,len(Dataset_name)+1))"
   ]
  },
  {
   "cell_type": "code",
   "execution_count": 18,
   "id": "71b1ea22-e8bb-44af-8e46-25d017e12111",
   "metadata": {},
   "outputs": [
    {
     "data": {
      "text/html": [
       "<div>\n",
       "<style scoped>\n",
       "    .dataframe tbody tr th:only-of-type {\n",
       "        vertical-align: middle;\n",
       "    }\n",
       "\n",
       "    .dataframe tbody tr th {\n",
       "        vertical-align: top;\n",
       "    }\n",
       "\n",
       "    .dataframe thead th {\n",
       "        text-align: right;\n",
       "    }\n",
       "</style>\n",
       "<table border=\"1\" class=\"dataframe\">\n",
       "  <thead>\n",
       "    <tr style=\"text-align: right;\">\n",
       "      <th></th>\n",
       "      <th>List No</th>\n",
       "      <th>Dataset Name</th>\n",
       "      <th>Data Type</th>\n",
       "      <th>Task</th>\n",
       "      <th>Attribute Type</th>\n",
       "      <th>No of instances</th>\n",
       "      <th>Year</th>\n",
       "    </tr>\n",
       "  </thead>\n",
       "  <tbody>\n",
       "    <tr>\n",
       "      <th>0</th>\n",
       "      <td>1</td>\n",
       "      <td>Iris</td>\n",
       "      <td>Multivariate</td>\n",
       "      <td>Classification</td>\n",
       "      <td>Real</td>\n",
       "      <td>150 Instances</td>\n",
       "      <td>7/1/1988</td>\n",
       "    </tr>\n",
       "    <tr>\n",
       "      <th>1</th>\n",
       "      <td>2</td>\n",
       "      <td>Heart Disease</td>\n",
       "      <td>Multivariate</td>\n",
       "      <td>Classification</td>\n",
       "      <td>Categorical, Integer, Real</td>\n",
       "      <td>303 Instances</td>\n",
       "      <td>7/1/1988</td>\n",
       "    </tr>\n",
       "    <tr>\n",
       "      <th>2</th>\n",
       "      <td>3</td>\n",
       "      <td>Adult</td>\n",
       "      <td>Multivariate</td>\n",
       "      <td>Classification</td>\n",
       "      <td>Categorical, Integer</td>\n",
       "      <td>48.84K Instances</td>\n",
       "      <td>5/1/1996</td>\n",
       "    </tr>\n",
       "    <tr>\n",
       "      <th>3</th>\n",
       "      <td>4</td>\n",
       "      <td>Dry Bean Dataset</td>\n",
       "      <td>Multivariate</td>\n",
       "      <td>Classification</td>\n",
       "      <td>Integer, Real</td>\n",
       "      <td>13.61K Instances</td>\n",
       "      <td>9/14/2020</td>\n",
       "    </tr>\n",
       "    <tr>\n",
       "      <th>4</th>\n",
       "      <td>5</td>\n",
       "      <td>Diabetes</td>\n",
       "      <td>-</td>\n",
       "      <td>-</td>\n",
       "      <td>Categorical, Integer</td>\n",
       "      <td>-</td>\n",
       "      <td>N/A</td>\n",
       "    </tr>\n",
       "    <tr>\n",
       "      <th>...</th>\n",
       "      <td>...</td>\n",
       "      <td>...</td>\n",
       "      <td>...</td>\n",
       "      <td>...</td>\n",
       "      <td>...</td>\n",
       "      <td>...</td>\n",
       "      <td>...</td>\n",
       "    </tr>\n",
       "    <tr>\n",
       "      <th>618</th>\n",
       "      <td>619</td>\n",
       "      <td>PMU-UD</td>\n",
       "      <td>Univariate</td>\n",
       "      <td>Classification</td>\n",
       "      <td>-</td>\n",
       "      <td>5.18K Instances</td>\n",
       "      <td>8/5/2018</td>\n",
       "    </tr>\n",
       "    <tr>\n",
       "      <th>619</th>\n",
       "      <td>620</td>\n",
       "      <td>chestnut â€“ LARVIC</td>\n",
       "      <td>null</td>\n",
       "      <td>Classification, Clustering</td>\n",
       "      <td>-</td>\n",
       "      <td>1.45K Instances</td>\n",
       "      <td>5/30/2017</td>\n",
       "    </tr>\n",
       "    <tr>\n",
       "      <th>620</th>\n",
       "      <td>621</td>\n",
       "      <td>EBL Domain Theories</td>\n",
       "      <td>-</td>\n",
       "      <td>-</td>\n",
       "      <td>-</td>\n",
       "      <td>-</td>\n",
       "      <td>N/A</td>\n",
       "    </tr>\n",
       "    <tr>\n",
       "      <th>621</th>\n",
       "      <td>622</td>\n",
       "      <td>Moral Reasoner</td>\n",
       "      <td>-</td>\n",
       "      <td>-</td>\n",
       "      <td>-</td>\n",
       "      <td>202 Instances</td>\n",
       "      <td>6/1/1994</td>\n",
       "    </tr>\n",
       "    <tr>\n",
       "      <th>622</th>\n",
       "      <td>623</td>\n",
       "      <td>DGP2 - The Second Data Generation Program</td>\n",
       "      <td>-</td>\n",
       "      <td>-</td>\n",
       "      <td>Real</td>\n",
       "      <td>-</td>\n",
       "      <td>N/A</td>\n",
       "    </tr>\n",
       "  </tbody>\n",
       "</table>\n",
       "<p>623 rows × 7 columns</p>\n",
       "</div>"
      ],
      "text/plain": [
       "     List No                               Dataset Name     Data Type  \\\n",
       "0          1                                       Iris  Multivariate   \n",
       "1          2                              Heart Disease  Multivariate   \n",
       "2          3                                      Adult  Multivariate   \n",
       "3          4                           Dry Bean Dataset  Multivariate   \n",
       "4          5                                   Diabetes             -   \n",
       "..       ...                                        ...           ...   \n",
       "618      619                                     PMU-UD    Univariate   \n",
       "619      620                        chestnut â€“ LARVIC          null   \n",
       "620      621                        EBL Domain Theories             -   \n",
       "621      622                             Moral Reasoner             -   \n",
       "622      623  DGP2 - The Second Data Generation Program             -   \n",
       "\n",
       "                           Task              Attribute Type   No of instances  \\\n",
       "0                Classification                        Real     150 Instances   \n",
       "1                Classification  Categorical, Integer, Real     303 Instances   \n",
       "2                Classification        Categorical, Integer  48.84K Instances   \n",
       "3                Classification               Integer, Real  13.61K Instances   \n",
       "4                             -        Categorical, Integer                 -   \n",
       "..                          ...                         ...               ...   \n",
       "618              Classification                           -   5.18K Instances   \n",
       "619  Classification, Clustering                           -   1.45K Instances   \n",
       "620                           -                           -                 -   \n",
       "621                           -                           -     202 Instances   \n",
       "622                           -                        Real                 -   \n",
       "\n",
       "          Year  \n",
       "0     7/1/1988  \n",
       "1     7/1/1988  \n",
       "2     5/1/1996  \n",
       "3    9/14/2020  \n",
       "4          N/A  \n",
       "..         ...  \n",
       "618   8/5/2018  \n",
       "619  5/30/2017  \n",
       "620        N/A  \n",
       "621   6/1/1994  \n",
       "622        N/A  \n",
       "\n",
       "[623 rows x 7 columns]"
      ]
     },
     "execution_count": 18,
     "metadata": {},
     "output_type": "execute_result"
    }
   ],
   "source": [
    "df = pd.DataFrame({'List No':List_No,'Dataset Name':Dataset_name,'Data Type':Data_type,'Task':Task,'Attribute Type':Attribute_type,'No of instances':No_of_instances,'Year':Year})\n",
    "df"
   ]
  },
  {
   "cell_type": "code",
   "execution_count": null,
   "id": "c2e48aee-1a26-404c-a40a-bc9b187ef3c3",
   "metadata": {},
   "outputs": [],
   "source": []
  },
  {
   "cell_type": "code",
   "execution_count": null,
   "id": "9c3e0861-beba-4c05-a2f5-9bc7123e0a6a",
   "metadata": {},
   "outputs": [],
   "source": []
  },
  {
   "cell_type": "code",
   "execution_count": null,
   "id": "4a369c22-b2b3-41ea-afab-b091c0d5f51b",
   "metadata": {},
   "outputs": [],
   "source": []
  },
  {
   "cell_type": "markdown",
   "id": "3d2f547b-55d4-48f0-8486-4f442bb53117",
   "metadata": {},
   "source": [
    "Question 9. Scrape the details of Data science recruiters Url = https://www.naukri.com/hr-recruiters-consultants"
   ]
  },
  {
   "cell_type": "code",
   "execution_count": 4,
   "id": "ede914b3-4cbd-482a-a70c-d0c424200255",
   "metadata": {},
   "outputs": [],
   "source": [
    "# connecting to chrome driver \n",
    "driver = webdriver.Chrome(r\"C:\\Users\\ganes\\Downloads\\Internship_assignment\\Chrome_Driver\\chromedriver_win32\\chromedriver.exe\")"
   ]
  },
  {
   "cell_type": "code",
   "execution_count": 5,
   "id": "f81dd1e9-d48c-416c-a422-ba0ff7132fa3",
   "metadata": {},
   "outputs": [],
   "source": [
    "# connecting the webpage according to Question \n",
    "driver.get('https://www.naukri.com/hr-recruiters-consultants')"
   ]
  },
  {
   "cell_type": "code",
   "execution_count": 41,
   "id": "4ded3e5e-44b6-416a-b561-2ef73c62880a",
   "metadata": {},
   "outputs": [],
   "source": [
    "Company_Name=[]\n",
    "Designation=[]\n",
    "Skills_they_hire_for=[]\n",
    "Location=[]\n",
    "\n",
    "element_xpath = \"/html/body/div[1]/div[4]/div/div/section/div[3]/div/a[2]\"\n",
    "\n",
    "while len(Company_Name)!=500:\n",
    "    \n",
    "    time.sleep(2)\n",
    "    Company_Names= driver.find_elements(By.XPATH,'/html/body/div[1]/div[4]/div/div/section[3]/div[2]/article/div[1]/div[1]/div/a[1]')\n",
    "    for i in Company_Names:                       \n",
    "        Company_Nam=i.text\n",
    "        Company_Name.append(Company_Nam)\n",
    "\n",
    "    Designations= driver.find_elements(By.XPATH,'/html/body/div[1]/div[4]/div/div/section[3]/div[2]/article/div[1]/div/a')\n",
    "    for i in Designations:                       \n",
    "        Designatio=i.text\n",
    "        Designation.append(Designatio)\n",
    "\n",
    "    base_xpath = \"/html/body/div[1]/div[4]/div/div/section[3]/div[2]/article\"\n",
    "    for i in range(1, 21):  \n",
    "        xpath = base_xpath + f\"[{i}]/ul/li\"\n",
    "        Skills_they_hire_fors=[]\n",
    "        Skills_they_hire_fo= driver.find_elements(By.XPATH,xpath)\n",
    "        for i in Skills_they_hire_fo:                       \n",
    "            Skills_they_hire_f=i.text\n",
    "            Skills_they_hire_fors.append(Skills_they_hire_f)\n",
    "        Skills_they_hire_for.append(Skills_they_hire_fors)\n",
    "\n",
    "    Locations= driver.find_elements(By.XPATH,'/html/body/div[1]/div[4]/div/div/section[3]/div[2]/article/div[1]/ul/li[3]/span')\n",
    "    for i in Locations:                       \n",
    "        Locatio=i.text\n",
    "        Location.append(Locatio)\n",
    "    \n",
    "    element = driver.find_element(By.XPATH, element_xpath)\n",
    "    driver.execute_script(\"arguments[0].scrollIntoView();\", element)\n",
    "    driver.execute_script(\"window.scrollBy(0, -100);\")\n",
    "    time.sleep(1)\n",
    "    next_page = driver.find_element(By.XPATH,'/html/body/div[1]/div[4]/div/div/section/div[3]/div/a[2]')\n",
    "    next_page.click() \n",
    "    time.sleep(1)"
   ]
  },
  {
   "cell_type": "code",
   "execution_count": 43,
   "id": "fac937e8-03f8-4afa-83a6-e2b5ec9a853f",
   "metadata": {},
   "outputs": [],
   "source": [
    "List_No=list(range(1,len(Company_Name)+1))"
   ]
  },
  {
   "cell_type": "code",
   "execution_count": 44,
   "id": "503b89b9-9bcb-4ba7-babf-490c44f03613",
   "metadata": {},
   "outputs": [
    {
     "data": {
      "text/html": [
       "<div>\n",
       "<style scoped>\n",
       "    .dataframe tbody tr th:only-of-type {\n",
       "        vertical-align: middle;\n",
       "    }\n",
       "\n",
       "    .dataframe tbody tr th {\n",
       "        vertical-align: top;\n",
       "    }\n",
       "\n",
       "    .dataframe thead th {\n",
       "        text-align: right;\n",
       "    }\n",
       "</style>\n",
       "<table border=\"1\" class=\"dataframe\">\n",
       "  <thead>\n",
       "    <tr style=\"text-align: right;\">\n",
       "      <th></th>\n",
       "      <th>List No</th>\n",
       "      <th>Company Name</th>\n",
       "      <th>Designation</th>\n",
       "      <th>Skills they hire for</th>\n",
       "      <th>Location</th>\n",
       "    </tr>\n",
       "  </thead>\n",
       "  <tbody>\n",
       "    <tr>\n",
       "      <th>0</th>\n",
       "      <td>1</td>\n",
       "      <td>Advance Career Solutions</td>\n",
       "      <td>Hiring Freshers : HR Executive: Recruiter-Guru...</td>\n",
       "      <td>[communication skills, Recruitment, Hrsd, Ac, ...</td>\n",
       "      <td>Gurgaon/ Gurugram, Haryana</td>\n",
       "    </tr>\n",
       "    <tr>\n",
       "      <th>1</th>\n",
       "      <td>2</td>\n",
       "      <td>Muthoot Microfin</td>\n",
       "      <td>Assistant Manager - HR (Field Level Recruitment)</td>\n",
       "      <td>[NBFC, recruitment, Mass Hiring, Bulk Hiring, ...</td>\n",
       "      <td>Bhubaneswar, Odisha, Hubli, Karnataka, Sambalp...</td>\n",
       "    </tr>\n",
       "    <tr>\n",
       "      <th>2</th>\n",
       "      <td>3</td>\n",
       "      <td>Ontrack Hr Services</td>\n",
       "      <td>Hiring For HR Recruiters</td>\n",
       "      <td>[recruitment skills, good communication, Hirin...</td>\n",
       "      <td>Coimbatore, Tamil Nadu</td>\n",
       "    </tr>\n",
       "    <tr>\n",
       "      <th>3</th>\n",
       "      <td>4</td>\n",
       "      <td>Lifecell</td>\n",
       "      <td>HR Intern</td>\n",
       "      <td>[Recruitment, Recruitment Operations, Operatio...</td>\n",
       "      <td>Hybrid - Chennai</td>\n",
       "    </tr>\n",
       "    <tr>\n",
       "      <th>4</th>\n",
       "      <td>5</td>\n",
       "      <td>Definedge Solutions</td>\n",
       "      <td>HR Executive</td>\n",
       "      <td>[Training, Recruitment, Development, Hrsd, Tra...</td>\n",
       "      <td>Pune</td>\n",
       "    </tr>\n",
       "    <tr>\n",
       "      <th>...</th>\n",
       "      <td>...</td>\n",
       "      <td>...</td>\n",
       "      <td>...</td>\n",
       "      <td>...</td>\n",
       "      <td>...</td>\n",
       "    </tr>\n",
       "    <tr>\n",
       "      <th>495</th>\n",
       "      <td>496</td>\n",
       "      <td>Rekhta Foundation</td>\n",
       "      <td>HR operations and payroll specialist</td>\n",
       "      <td>[Payroll Management, Payroll Preparation, Stat...</td>\n",
       "      <td>Noida, Uttar Pradesh</td>\n",
       "    </tr>\n",
       "    <tr>\n",
       "      <th>496</th>\n",
       "      <td>497</td>\n",
       "      <td>Tulip Lab</td>\n",
       "      <td>HR Head</td>\n",
       "      <td>[Human Resource Management, Hrsd, Recruitment,...</td>\n",
       "      <td>Mumbai Suburban, Maharashtra</td>\n",
       "    </tr>\n",
       "    <tr>\n",
       "      <th>497</th>\n",
       "      <td>498</td>\n",
       "      <td>JP Infra</td>\n",
       "      <td>HR Business Partner</td>\n",
       "      <td>[talent acquisi, Performance, Management, Rela...</td>\n",
       "      <td>Mumbai, Maharashtra, Mumbai (All Areas)</td>\n",
       "    </tr>\n",
       "    <tr>\n",
       "      <th>498</th>\n",
       "      <td>499</td>\n",
       "      <td>Rattanindia Power</td>\n",
       "      <td>HR Head For Power Plant at Amravati</td>\n",
       "      <td>[Labour Relations, Strategic HR, IR, Relations...</td>\n",
       "      <td>Amravati, Maharashtra</td>\n",
       "    </tr>\n",
       "    <tr>\n",
       "      <th>499</th>\n",
       "      <td>500</td>\n",
       "      <td>Vaibhav Global Ltd</td>\n",
       "      <td>HR MIS Professional</td>\n",
       "      <td>[Process, Analytical, Data management, Managem...</td>\n",
       "      <td>Jaipur</td>\n",
       "    </tr>\n",
       "  </tbody>\n",
       "</table>\n",
       "<p>500 rows × 5 columns</p>\n",
       "</div>"
      ],
      "text/plain": [
       "     List No              Company Name  \\\n",
       "0          1  Advance Career Solutions   \n",
       "1          2          Muthoot Microfin   \n",
       "2          3       Ontrack Hr Services   \n",
       "3          4                  Lifecell   \n",
       "4          5       Definedge Solutions   \n",
       "..       ...                       ...   \n",
       "495      496         Rekhta Foundation   \n",
       "496      497                 Tulip Lab   \n",
       "497      498                  JP Infra   \n",
       "498      499         Rattanindia Power   \n",
       "499      500        Vaibhav Global Ltd   \n",
       "\n",
       "                                           Designation  \\\n",
       "0    Hiring Freshers : HR Executive: Recruiter-Guru...   \n",
       "1     Assistant Manager - HR (Field Level Recruitment)   \n",
       "2                             Hiring For HR Recruiters   \n",
       "3                                            HR Intern   \n",
       "4                                         HR Executive   \n",
       "..                                                 ...   \n",
       "495               HR operations and payroll specialist   \n",
       "496                                            HR Head   \n",
       "497                                HR Business Partner   \n",
       "498                HR Head For Power Plant at Amravati   \n",
       "499                                HR MIS Professional   \n",
       "\n",
       "                                  Skills they hire for  \\\n",
       "0    [communication skills, Recruitment, Hrsd, Ac, ...   \n",
       "1    [NBFC, recruitment, Mass Hiring, Bulk Hiring, ...   \n",
       "2    [recruitment skills, good communication, Hirin...   \n",
       "3    [Recruitment, Recruitment Operations, Operatio...   \n",
       "4    [Training, Recruitment, Development, Hrsd, Tra...   \n",
       "..                                                 ...   \n",
       "495  [Payroll Management, Payroll Preparation, Stat...   \n",
       "496  [Human Resource Management, Hrsd, Recruitment,...   \n",
       "497  [talent acquisi, Performance, Management, Rela...   \n",
       "498  [Labour Relations, Strategic HR, IR, Relations...   \n",
       "499  [Process, Analytical, Data management, Managem...   \n",
       "\n",
       "                                              Location  \n",
       "0                           Gurgaon/ Gurugram, Haryana  \n",
       "1    Bhubaneswar, Odisha, Hubli, Karnataka, Sambalp...  \n",
       "2                               Coimbatore, Tamil Nadu  \n",
       "3                                     Hybrid - Chennai  \n",
       "4                                                 Pune  \n",
       "..                                                 ...  \n",
       "495                               Noida, Uttar Pradesh  \n",
       "496                       Mumbai Suburban, Maharashtra  \n",
       "497            Mumbai, Maharashtra, Mumbai (All Areas)  \n",
       "498                              Amravati, Maharashtra  \n",
       "499                                             Jaipur  \n",
       "\n",
       "[500 rows x 5 columns]"
      ]
     },
     "execution_count": 44,
     "metadata": {},
     "output_type": "execute_result"
    }
   ],
   "source": [
    "df = pd.DataFrame({'List No':List_No,'Company Name':Company_Name,'Designation':Designation,'Skills they hire for':Skills_they_hire_for,'Location':Location})\n",
    "df"
   ]
  },
  {
   "cell_type": "code",
   "execution_count": null,
   "id": "1e0cead8-f942-409d-a983-5f9207af5dda",
   "metadata": {},
   "outputs": [],
   "source": []
  },
  {
   "cell_type": "code",
   "execution_count": null,
   "id": "149d78f5-a916-4c76-8c8e-d8993ddc00b9",
   "metadata": {},
   "outputs": [],
   "source": []
  },
  {
   "cell_type": "code",
   "execution_count": null,
   "id": "9f219714-f495-4111-bb14-3e69dd70c800",
   "metadata": {},
   "outputs": [],
   "source": []
  },
  {
   "cell_type": "code",
   "execution_count": null,
   "id": "fc36742b-0939-4e38-acd9-b8bc2fd135d9",
   "metadata": {},
   "outputs": [],
   "source": []
  }
 ],
 "metadata": {
  "kernelspec": {
   "display_name": "Python 3 (ipykernel)",
   "language": "python",
   "name": "python3"
  },
  "language_info": {
   "codemirror_mode": {
    "name": "ipython",
    "version": 3
   },
   "file_extension": ".py",
   "mimetype": "text/x-python",
   "name": "python",
   "nbconvert_exporter": "python",
   "pygments_lexer": "ipython3",
   "version": "3.10.9"
  }
 },
 "nbformat": 4,
 "nbformat_minor": 5
}
