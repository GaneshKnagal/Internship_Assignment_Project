{
 "cells": [
  {
   "cell_type": "markdown",
   "id": "f7021ca3-750d-4b46-8f9b-12d981bfd271",
   "metadata": {},
   "source": [
    "Question1: Write a python program to display all the header tags from wikipedia.org and make data frame."
   ]
  },
  {
   "cell_type": "markdown",
   "id": "a794b272-eb75-4dd5-9b19-dd5a858c9276",
   "metadata": {},
   "source": [
    "first install libraries"
   ]
  },
  {
   "cell_type": "code",
   "execution_count": 1,
   "id": "35ad0425-8f3a-4a94-b2dd-87b6dd85fb54",
   "metadata": {},
   "outputs": [
    {
     "name": "stdout",
     "output_type": "stream",
     "text": [
      "Collecting bs4\n",
      "  Downloading bs4-0.0.1.tar.gz (1.1 kB)\n",
      "  Preparing metadata (setup.py) ... \u001b[?25ldone\n",
      "\u001b[?25hRequirement already satisfied: beautifulsoup4 in /opt/conda/lib/python3.10/site-packages (from bs4) (4.11.1)\n",
      "Requirement already satisfied: soupsieve>1.2 in /opt/conda/lib/python3.10/site-packages (from beautifulsoup4->bs4) (2.3.2.post1)\n",
      "Building wheels for collected packages: bs4\n",
      "  Building wheel for bs4 (setup.py) ... \u001b[?25ldone\n",
      "\u001b[?25h  Created wheel for bs4: filename=bs4-0.0.1-py3-none-any.whl size=1257 sha256=81f223d6b07392b258d56e542f997fed851233fb53ed1332cf082018adb7cbfa\n",
      "  Stored in directory: /home/jovyan/.cache/pip/wheels/e4/62/1d/d4d1bc4f33350ff84227f89b258edb552d604138e3739f5c83\n",
      "Successfully built bs4\n",
      "Installing collected packages: bs4\n",
      "Successfully installed bs4-0.0.1\n",
      "Requirement already satisfied: requests in /opt/conda/lib/python3.10/site-packages (2.28.1)\n",
      "Requirement already satisfied: idna<4,>=2.5 in /opt/conda/lib/python3.10/site-packages (from requests) (3.4)\n",
      "Requirement already satisfied: charset-normalizer<3,>=2 in /opt/conda/lib/python3.10/site-packages (from requests) (2.1.1)\n",
      "Requirement already satisfied: urllib3<1.27,>=1.21.1 in /opt/conda/lib/python3.10/site-packages (from requests) (1.26.11)\n",
      "Requirement already satisfied: certifi>=2017.4.17 in /opt/conda/lib/python3.10/site-packages (from requests) (2022.9.24)\n"
     ]
    }
   ],
   "source": [
    "!pip install bs4\n",
    "!pip install requests"
   ]
  },
  {
   "cell_type": "markdown",
   "id": "0e7035e4-e5cb-4efa-abc7-e7e9aa243341",
   "metadata": {},
   "source": [
    "import required libraries"
   ]
  },
  {
   "cell_type": "code",
   "execution_count": 2,
   "id": "e2f32e4e-2572-4f8c-b20c-0353297ab783",
   "metadata": {},
   "outputs": [],
   "source": [
    "from bs4 import BeautifulSoup\n",
    "import requests"
   ]
  },
  {
   "cell_type": "markdown",
   "id": "995a6b14-1500-4274-ad1a-205df20f0473",
   "metadata": {},
   "source": [
    "send get request to the webpage server to get the source code of the page "
   ]
  },
  {
   "cell_type": "code",
   "execution_count": 3,
   "id": "a6a0fabb-4e10-4c13-87b1-3e1bc2eb1cb5",
   "metadata": {},
   "outputs": [],
   "source": [
    "page = requests.get('https://en.wikipedia.org/wiki/Main_Page')"
   ]
  },
  {
   "cell_type": "code",
   "execution_count": 4,
   "id": "c43d3e45-937f-4277-a551-4a2152f14291",
   "metadata": {},
   "outputs": [
    {
     "data": {
      "text/plain": [
       "<Response [200]>"
      ]
     },
     "execution_count": 4,
     "metadata": {},
     "output_type": "execute_result"
    }
   ],
   "source": [
    "page"
   ]
  },
  {
   "cell_type": "code",
   "execution_count": 5,
   "id": "aa1301da-f4ae-41cf-bb8b-8045dbb984fc",
   "metadata": {},
   "outputs": [],
   "source": [
    "soup = BeautifulSoup(page.content,'html.parser')\n"
   ]
  },
  {
   "cell_type": "markdown",
   "id": "7cd0b9da-b2ed-4ffa-8f26-7f927fff97fe",
   "metadata": {},
   "source": [
    "scraping title name "
   ]
  },
  {
   "cell_type": "code",
   "execution_count": 6,
   "id": "b89daacb-75da-4453-93cb-3479d6771e16",
   "metadata": {},
   "outputs": [
    {
     "data": {
      "text/plain": [
       "<span class=\"mw-headline\" id=\"Welcome_to_Wikipedia\">Welcome to <a href=\"/wiki/Wikipedia\" title=\"Wikipedia\">Wikipedia</a></span>"
      ]
     },
     "execution_count": 6,
     "metadata": {},
     "output_type": "execute_result"
    }
   ],
   "source": [
    "#first, i will use html tag where we have the first title of wikipedia page\n",
    "first_title = soup.find('span',class_=\"mw-headline\")\n",
    "first_title"
   ]
  },
  {
   "cell_type": "code",
   "execution_count": 7,
   "id": "30dc3a07-1b2e-4958-8e7d-a50855c2be72",
   "metadata": {},
   "outputs": [
    {
     "data": {
      "text/plain": [
       "'Welcome to Wikipedia'"
      ]
     },
     "execution_count": 7,
     "metadata": {},
     "output_type": "execute_result"
    }
   ],
   "source": [
    "first_title.text"
   ]
  },
  {
   "cell_type": "code",
   "execution_count": null,
   "id": "3dc15152-33c5-4df5-bbfa-82d6ab91c3ee",
   "metadata": {},
   "outputs": [],
   "source": []
  },
  {
   "cell_type": "markdown",
   "id": "817b8754-3649-4aa8-b7f1-0d5eef71d6ff",
   "metadata": {},
   "source": [
    "scraping first image"
   ]
  },
  {
   "cell_type": "code",
   "execution_count": 8,
   "id": "83b3f6d9-b09b-48da-8c1d-21f22b678dea",
   "metadata": {},
   "outputs": [
    {
     "data": {
      "text/plain": [
       "<a class=\"image\" href=\"/wiki/File:Painted_white_brick_wall_(Moscow)_02.JPG\" title=\"A white brick wall, similar in appearance to that in the film\"><img alt=\"A white brick wall, similar in appearance to that in the film\" data-file-height=\"3456\" data-file-width=\"4608\" decoding=\"async\" height=\"122\" src=\"//upload.wikimedia.org/wikipedia/commons/thumb/d/d2/Painted_white_brick_wall_%28Moscow%29_02.JPG/162px-Painted_white_brick_wall_%28Moscow%29_02.JPG\" srcset=\"//upload.wikimedia.org/wikipedia/commons/thumb/d/d2/Painted_white_brick_wall_%28Moscow%29_02.JPG/243px-Painted_white_brick_wall_%28Moscow%29_02.JPG 1.5x, //upload.wikimedia.org/wikipedia/commons/thumb/d/d2/Painted_white_brick_wall_%28Moscow%29_02.JPG/324px-Painted_white_brick_wall_%28Moscow%29_02.JPG 2x\" width=\"162\"/></a>"
      ]
     },
     "execution_count": 8,
     "metadata": {},
     "output_type": "execute_result"
    }
   ],
   "source": [
    "img=soup.find('a',class_='image')\n",
    "img"
   ]
  },
  {
   "cell_type": "code",
   "execution_count": 9,
   "id": "c6aa9df2-5718-4824-b9f0-4bd22aa02026",
   "metadata": {},
   "outputs": [
    {
     "data": {
      "text/plain": [
       "'/wiki/File:Painted_white_brick_wall_(Moscow)_02.JPG'"
      ]
     },
     "execution_count": 9,
     "metadata": {},
     "output_type": "execute_result"
    }
   ],
   "source": [
    "url=img.get('href')\n",
    "url"
   ]
  },
  {
   "cell_type": "code",
   "execution_count": null,
   "id": "02c809a7-548a-4e6d-bf14-8601983efe47",
   "metadata": {},
   "outputs": [],
   "source": []
  },
  {
   "cell_type": "markdown",
   "id": "e0cc6e9c-ff34-4313-91c2-11362fd60b8f",
   "metadata": {},
   "source": [
    "scraping image's caption"
   ]
  },
  {
   "cell_type": "code",
   "execution_count": 10,
   "id": "713ced90-8937-440c-a219-774a2cc6ae3d",
   "metadata": {},
   "outputs": [
    {
     "data": {
      "text/plain": [
       "'A white brick wall, similar in appearance to that in the film'"
      ]
     },
     "execution_count": 10,
     "metadata": {},
     "output_type": "execute_result"
    }
   ],
   "source": [
    "first_caption=soup.find('div',class_='thumbcaption')\n",
    "first_caption.text"
   ]
  },
  {
   "cell_type": "code",
   "execution_count": null,
   "id": "20534488-94bf-4259-b864-416a9290483c",
   "metadata": {},
   "outputs": [],
   "source": []
  },
  {
   "cell_type": "markdown",
   "id": "e6035ea7-25f5-4294-b84d-f6f241e29e83",
   "metadata": {},
   "source": [
    "scraping multiple title name"
   ]
  },
  {
   "cell_type": "code",
   "execution_count": 11,
   "id": "3071f06f-3ab2-4d90-933a-783b13d9e64f",
   "metadata": {},
   "outputs": [
    {
     "data": {
      "text/plain": [
       "['Welcome to Wikipedia',\n",
       " \"From today's featured article\",\n",
       " 'Did you know\\xa0...',\n",
       " 'In the news',\n",
       " 'On this day',\n",
       " \"From today's featured list\",\n",
       " \"Today's featured picture\",\n",
       " 'Other areas of Wikipedia',\n",
       " \"Wikipedia's sister projects\",\n",
       " 'Wikipedia languages']"
      ]
     },
     "execution_count": 11,
     "metadata": {},
     "output_type": "execute_result"
    }
   ],
   "source": [
    "title = [] #empty list\n",
    "for i in soup.find_all('span',class_=\"mw-headline\"):\n",
    "    title.append(i.text)\n",
    "    \n",
    "title"
   ]
  },
  {
   "cell_type": "code",
   "execution_count": null,
   "id": "13cea399-e48d-45c5-9bc4-cf0f2de4ecd7",
   "metadata": {},
   "outputs": [],
   "source": []
  },
  {
   "cell_type": "markdown",
   "id": "7728e86d-36e4-4ce5-b288-606f2105a1d7",
   "metadata": {},
   "source": [
    "scraping multiple image url"
   ]
  },
  {
   "cell_type": "code",
   "execution_count": 12,
   "id": "8780c27e-e7f1-4f85-b4c8-eaaafb7f0399",
   "metadata": {},
   "outputs": [
    {
     "data": {
      "text/plain": [
       "['/wiki/File:Painted_white_brick_wall_(Moscow)_02.JPG',\n",
       " '/wiki/File:Carbatinae.png',\n",
       " '/wiki/File:Tina_Turner_50th_Anniversary_Tour.jpg',\n",
       " '/wiki/File:Edmund_Hillary_and_Tenzing_Norgay.jpg',\n",
       " '/wiki/File:Gandolfinigfdl.PNG',\n",
       " '/wiki/File:Everest-3D-Map-Type-EN.jpg']"
      ]
     },
     "execution_count": 12,
     "metadata": {},
     "output_type": "execute_result"
    }
   ],
   "source": [
    "image_url = []\n",
    "for i in soup.find_all('a',class_='image'):\n",
    "    image_url.append(i.get('href'))\n",
    "    \n",
    "image_url"
   ]
  },
  {
   "cell_type": "code",
   "execution_count": null,
   "id": "d7eee7a4-cb8b-4023-a7ab-df4a940f6609",
   "metadata": {},
   "outputs": [],
   "source": []
  },
  {
   "cell_type": "markdown",
   "id": "d3fc1a99-5be7-4196-bd29-bbabebc75522",
   "metadata": {},
   "source": [
    "scraping multiple image's caption"
   ]
  },
  {
   "cell_type": "code",
   "execution_count": 13,
   "id": "4550e20b-16a4-4c1a-ac7e-0779ca51cdc8",
   "metadata": {},
   "outputs": [
    {
     "data": {
      "text/plain": [
       "['A white brick wall, similar in appearance to that in the film',\n",
       " 'Carbatinae',\n",
       " 'Tina Turner in 2009',\n",
       " 'Edmund Hillary and Tenzing Norgay',\n",
       " 'James Gandolfini']"
      ]
     },
     "execution_count": 13,
     "metadata": {},
     "output_type": "execute_result"
    }
   ],
   "source": [
    "image_caption = []\n",
    "for i in soup.find_all('div',class_='thumbcaption'):\n",
    "    image_caption.append(i.text)\n",
    "    \n",
    "image_caption"
   ]
  },
  {
   "cell_type": "code",
   "execution_count": null,
   "id": "35a9f62b-9c17-4067-a369-942bf8dd2bde",
   "metadata": {},
   "outputs": [],
   "source": []
  },
  {
   "cell_type": "code",
   "execution_count": 14,
   "id": "000abe64-84be-431c-a7ca-a698a14e6449",
   "metadata": {},
   "outputs": [
    {
     "name": "stdout",
     "output_type": "stream",
     "text": [
      "10 6 5\n"
     ]
    }
   ],
   "source": [
    "#printing length\n",
    "print(len(title),len(image_url),len(image_caption))"
   ]
  },
  {
   "cell_type": "code",
   "execution_count": 15,
   "id": "4289521c-b02a-48d5-a8d2-8b6737bf3297",
   "metadata": {},
   "outputs": [
    {
     "data": {
      "text/plain": [
       "[\"From today's featured article\",\n",
       " 'Did you know\\xa0...',\n",
       " 'In the news',\n",
       " 'On this day',\n",
       " \"From today's featured list\",\n",
       " \"Today's featured picture\"]"
      ]
     },
     "execution_count": 15,
     "metadata": {},
     "output_type": "execute_result"
    }
   ],
   "source": [
    "title1 = title[1:7]\n",
    "title1"
   ]
  },
  {
   "cell_type": "code",
   "execution_count": 16,
   "id": "38a5c93a-7ddf-4908-a252-55c27578f054",
   "metadata": {},
   "outputs": [],
   "source": [
    "import pandas as pd"
   ]
  },
  {
   "cell_type": "code",
   "execution_count": 17,
   "id": "2ca6e69e-1f41-44f2-9b15-33fdfb83ac47",
   "metadata": {},
   "outputs": [],
   "source": [
    "image_caption.append('no caption')"
   ]
  },
  {
   "cell_type": "code",
   "execution_count": 18,
   "id": "0e1e2389-0fb9-4475-bf69-78d135a749e8",
   "metadata": {},
   "outputs": [
    {
     "data": {
      "text/plain": [
       "['A white brick wall, similar in appearance to that in the film',\n",
       " 'Carbatinae',\n",
       " 'Tina Turner in 2009',\n",
       " 'Edmund Hillary and Tenzing Norgay',\n",
       " 'James Gandolfini',\n",
       " 'no caption']"
      ]
     },
     "execution_count": 18,
     "metadata": {},
     "output_type": "execute_result"
    }
   ],
   "source": [
    "image_caption"
   ]
  },
  {
   "cell_type": "code",
   "execution_count": 19,
   "id": "af7f7fff-3939-49f0-bb3e-0f8a44f5258f",
   "metadata": {},
   "outputs": [
    {
     "data": {
      "text/html": [
       "<div>\n",
       "<style scoped>\n",
       "    .dataframe tbody tr th:only-of-type {\n",
       "        vertical-align: middle;\n",
       "    }\n",
       "\n",
       "    .dataframe tbody tr th {\n",
       "        vertical-align: top;\n",
       "    }\n",
       "\n",
       "    .dataframe thead th {\n",
       "        text-align: right;\n",
       "    }\n",
       "</style>\n",
       "<table border=\"1\" class=\"dataframe\">\n",
       "  <thead>\n",
       "    <tr style=\"text-align: right;\">\n",
       "      <th></th>\n",
       "      <th>Title</th>\n",
       "      <th>Image_caption</th>\n",
       "      <th>Image_URL</th>\n",
       "    </tr>\n",
       "  </thead>\n",
       "  <tbody>\n",
       "    <tr>\n",
       "      <th>0</th>\n",
       "      <td>From today's featured article</td>\n",
       "      <td>A white brick wall, similar in appearance to t...</td>\n",
       "      <td>/wiki/File:Painted_white_brick_wall_(Moscow)_0...</td>\n",
       "    </tr>\n",
       "    <tr>\n",
       "      <th>1</th>\n",
       "      <td>Did you know ...</td>\n",
       "      <td>Carbatinae</td>\n",
       "      <td>/wiki/File:Carbatinae.png</td>\n",
       "    </tr>\n",
       "    <tr>\n",
       "      <th>2</th>\n",
       "      <td>In the news</td>\n",
       "      <td>Tina Turner in 2009</td>\n",
       "      <td>/wiki/File:Tina_Turner_50th_Anniversary_Tour.jpg</td>\n",
       "    </tr>\n",
       "    <tr>\n",
       "      <th>3</th>\n",
       "      <td>On this day</td>\n",
       "      <td>Edmund Hillary and Tenzing Norgay</td>\n",
       "      <td>/wiki/File:Edmund_Hillary_and_Tenzing_Norgay.jpg</td>\n",
       "    </tr>\n",
       "    <tr>\n",
       "      <th>4</th>\n",
       "      <td>From today's featured list</td>\n",
       "      <td>James Gandolfini</td>\n",
       "      <td>/wiki/File:Gandolfinigfdl.PNG</td>\n",
       "    </tr>\n",
       "    <tr>\n",
       "      <th>5</th>\n",
       "      <td>Today's featured picture</td>\n",
       "      <td>no caption</td>\n",
       "      <td>/wiki/File:Everest-3D-Map-Type-EN.jpg</td>\n",
       "    </tr>\n",
       "  </tbody>\n",
       "</table>\n",
       "</div>"
      ],
      "text/plain": [
       "                           Title  \\\n",
       "0  From today's featured article   \n",
       "1               Did you know ...   \n",
       "2                    In the news   \n",
       "3                    On this day   \n",
       "4     From today's featured list   \n",
       "5       Today's featured picture   \n",
       "\n",
       "                                       Image_caption  \\\n",
       "0  A white brick wall, similar in appearance to t...   \n",
       "1                                         Carbatinae   \n",
       "2                                Tina Turner in 2009   \n",
       "3                  Edmund Hillary and Tenzing Norgay   \n",
       "4                                   James Gandolfini   \n",
       "5                                         no caption   \n",
       "\n",
       "                                           Image_URL  \n",
       "0  /wiki/File:Painted_white_brick_wall_(Moscow)_0...  \n",
       "1                          /wiki/File:Carbatinae.png  \n",
       "2   /wiki/File:Tina_Turner_50th_Anniversary_Tour.jpg  \n",
       "3   /wiki/File:Edmund_Hillary_and_Tenzing_Norgay.jpg  \n",
       "4                      /wiki/File:Gandolfinigfdl.PNG  \n",
       "5              /wiki/File:Everest-3D-Map-Type-EN.jpg  "
      ]
     },
     "execution_count": 19,
     "metadata": {},
     "output_type": "execute_result"
    }
   ],
   "source": [
    "df = pd.DataFrame({'Title':title1,'Image_caption':image_caption,'Image_URL':image_url})\n",
    "df"
   ]
  },
  {
   "cell_type": "markdown",
   "id": "c2a6a466-a3f7-4a18-bb7e-eb753562b88f",
   "metadata": {},
   "source": [
    "above website keep changing their contents it may be not excucate well ."
   ]
  },
  {
   "cell_type": "code",
   "execution_count": null,
   "id": "40631888-2e92-414e-8ecc-ebfba9ec7171",
   "metadata": {},
   "outputs": [],
   "source": []
  },
  {
   "cell_type": "markdown",
   "id": "985d39c9-3ef2-455e-8ca4-513cc55a058a",
   "metadata": {},
   "source": [
    "Question2: Write s python program to display list of respected former presidents of India(i.e. Name , Term ofoffice)\n",
    "from https://presidentofindia.nic.in/former-presidents.htm and make data frame."
   ]
  },
  {
   "cell_type": "code",
   "execution_count": null,
   "id": "425bd649-4516-44d9-9bda-80c182e9feaa",
   "metadata": {},
   "outputs": [],
   "source": []
  },
  {
   "cell_type": "code",
   "execution_count": 20,
   "id": "e091ae35-0e7e-447d-ab55-e930f5810159",
   "metadata": {},
   "outputs": [
    {
     "data": {
      "text/plain": [
       "<Response [200]>"
      ]
     },
     "execution_count": 20,
     "metadata": {},
     "output_type": "execute_result"
    }
   ],
   "source": [
    "page = requests.get('https://presidentofindia.nic.in/former-presidents.htm')\n",
    "page"
   ]
  },
  {
   "cell_type": "code",
   "execution_count": 21,
   "id": "093fa0b6-1cf9-41e1-a4c7-2d8a67c20ba5",
   "metadata": {},
   "outputs": [],
   "source": [
    "soup = BeautifulSoup(page.content,'html.parser')"
   ]
  },
  {
   "cell_type": "markdown",
   "id": "1e82dbb7-0dd2-4a65-a0f4-971ed35a8b11",
   "metadata": {},
   "source": [
    "scraping Former Presidents name,term of office , webpage , images "
   ]
  },
  {
   "cell_type": "code",
   "execution_count": 22,
   "id": "95be4bf7-9772-414d-a954-f9f1f3be3f83",
   "metadata": {},
   "outputs": [
    {
     "data": {
      "text/plain": [
       "['',\n",
       " 'Shri Ram Nath Kovind (birth - 1945)',\n",
       " 'Term of Office: 25 July, 2017 to 25 July, 2022 ',\n",
       " 'https://ramnathkovind.nic.in',\n",
       " '']"
      ]
     },
     "execution_count": 22,
     "metadata": {},
     "output_type": "execute_result"
    }
   ],
   "source": [
    "a=soup.find('div',class_=\"presidentListing\")\n",
    "a.text.split('\\n')"
   ]
  },
  {
   "cell_type": "code",
   "execution_count": 23,
   "id": "d5401c13-adc4-48be-b214-cb3e4db4c0f6",
   "metadata": {},
   "outputs": [
    {
     "data": {
      "text/plain": [
       "['https://ramnathkovind.nic.in',\n",
       " 'http://pranabmukherjee.nic.in',\n",
       " 'http://pratibhapatil.nic.in',\n",
       " 'http://abdulkalam.nic.in',\n",
       " '',\n",
       " '',\n",
       " '',\n",
       " '',\n",
       " '',\n",
       " '',\n",
       " '',\n",
       " '',\n",
       " '',\n",
       " '']"
      ]
     },
     "execution_count": 23,
     "metadata": {},
     "output_type": "execute_result"
    }
   ],
   "source": [
    "presidents_name = []\n",
    "term_of_office = []\n",
    "presidents_web = []\n",
    "\n",
    "for i in soup.find_all('div',class_=\"presidentListing\"):\n",
    "    a=i.text.split('\\n')\n",
    "    \n",
    "    president=a[1]\n",
    "    presidents_name.append(president)\n",
    "    \n",
    "    tof=a[2].split(':')[1]\n",
    "    term_of_office.append(tof)\n",
    "    \n",
    "    pre_web=a[3]\n",
    "    presidents_web.append(pre_web)\n",
    "    \n",
    "presidents_name\n",
    "term_of_office\n",
    "presidents_web"
   ]
  },
  {
   "cell_type": "code",
   "execution_count": 24,
   "id": "3adff465-3055-4a12-8327-b519569f9bcd",
   "metadata": {},
   "outputs": [],
   "source": [
    "import pandas as pd "
   ]
  },
  {
   "cell_type": "code",
   "execution_count": 25,
   "id": "bb104789-79c7-4452-ae9d-738cfcdefe62",
   "metadata": {},
   "outputs": [
    {
     "data": {
      "text/plain": [
       "['https://ramnathkovind.nic.in',\n",
       " 'http://pranabmukherjee.nic.in',\n",
       " 'http://pratibhapatil.nic.in',\n",
       " 'http://abdulkalam.nic.in',\n",
       " '',\n",
       " '',\n",
       " '',\n",
       " '',\n",
       " '',\n",
       " '',\n",
       " '',\n",
       " '',\n",
       " '',\n",
       " '']"
      ]
     },
     "execution_count": 25,
     "metadata": {},
     "output_type": "execute_result"
    }
   ],
   "source": [
    "presidents_web"
   ]
  },
  {
   "cell_type": "code",
   "execution_count": 26,
   "id": "17601499-f75a-42c6-be1b-78c186dbf7c7",
   "metadata": {},
   "outputs": [
    {
     "data": {
      "text/plain": [
       "['Images/rnk.jpg',\n",
       " 'Images/pranab.jpg',\n",
       " 'Images/pratibha-patil.jpg',\n",
       " 'Images/abdul-kalam.jpg',\n",
       " 'Images/k-r-narayanan.jpg',\n",
       " 'Images/shankar-dayal-sharma.jpg',\n",
       " 'Images/venkataraman.jpg',\n",
       " 'Images/giani-zail-singh.jpg',\n",
       " 'Images/neelam-sanjiva-reddy.jpg',\n",
       " 'Images/fakhruddin-ali-ahmed.jpg',\n",
       " 'Images/varahagiri-venkata-giri.jpg',\n",
       " 'Images/zakir-hussion.jpg',\n",
       " 'Images/sarvepalli-radhakrishnan.jpg',\n",
       " 'Images/rajendra-prasad.jpg']"
      ]
     },
     "execution_count": 26,
     "metadata": {},
     "output_type": "execute_result"
    }
   ],
   "source": [
    "image_url = []\n",
    "for i in soup.find_all('img',class_='alignLeft'):\n",
    "    image_url.append(i.get('src'))\n",
    "    \n",
    "image_url"
   ]
  },
  {
   "cell_type": "code",
   "execution_count": 27,
   "id": "8a506ffc-d819-4629-9563-0b2c0542220c",
   "metadata": {},
   "outputs": [
    {
     "data": {
      "text/html": [
       "<div>\n",
       "<style scoped>\n",
       "    .dataframe tbody tr th:only-of-type {\n",
       "        vertical-align: middle;\n",
       "    }\n",
       "\n",
       "    .dataframe tbody tr th {\n",
       "        vertical-align: top;\n",
       "    }\n",
       "\n",
       "    .dataframe thead th {\n",
       "        text-align: right;\n",
       "    }\n",
       "</style>\n",
       "<table border=\"1\" class=\"dataframe\">\n",
       "  <thead>\n",
       "    <tr style=\"text-align: right;\">\n",
       "      <th></th>\n",
       "      <th>President Name</th>\n",
       "      <th>Term Of Office</th>\n",
       "      <th>Presidents Website</th>\n",
       "      <th>Image URL</th>\n",
       "    </tr>\n",
       "  </thead>\n",
       "  <tbody>\n",
       "    <tr>\n",
       "      <th>0</th>\n",
       "      <td>Shri Ram Nath Kovind (birth - 1945)</td>\n",
       "      <td>25 July, 2017 to 25 July, 2022</td>\n",
       "      <td>https://ramnathkovind.nic.in</td>\n",
       "      <td>Images/rnk.jpg</td>\n",
       "    </tr>\n",
       "    <tr>\n",
       "      <th>1</th>\n",
       "      <td>Shri Pranab Mukherjee (1935-2020)</td>\n",
       "      <td>25 July, 2012 to 25 July, 2017</td>\n",
       "      <td>http://pranabmukherjee.nic.in</td>\n",
       "      <td>Images/pranab.jpg</td>\n",
       "    </tr>\n",
       "    <tr>\n",
       "      <th>2</th>\n",
       "      <td>Smt Pratibha Devisingh Patil (birth - 1934)</td>\n",
       "      <td>25 July, 2007 to 25 July, 2012</td>\n",
       "      <td>http://pratibhapatil.nic.in</td>\n",
       "      <td>Images/pratibha-patil.jpg</td>\n",
       "    </tr>\n",
       "    <tr>\n",
       "      <th>3</th>\n",
       "      <td>DR. A.P.J. Abdul Kalam (1931-2015)</td>\n",
       "      <td>25 July, 2002 to 25 July, 2007</td>\n",
       "      <td>http://abdulkalam.nic.in</td>\n",
       "      <td>Images/abdul-kalam.jpg</td>\n",
       "    </tr>\n",
       "    <tr>\n",
       "      <th>4</th>\n",
       "      <td>Shri K. R. Narayanan (1920 - 2005)</td>\n",
       "      <td>25 July, 1997 to 25 July, 2002</td>\n",
       "      <td></td>\n",
       "      <td>Images/k-r-narayanan.jpg</td>\n",
       "    </tr>\n",
       "    <tr>\n",
       "      <th>5</th>\n",
       "      <td>Dr Shankar Dayal Sharma (1918-1999)</td>\n",
       "      <td>25 July, 1992 to 25 July, 1997</td>\n",
       "      <td></td>\n",
       "      <td>Images/shankar-dayal-sharma.jpg</td>\n",
       "    </tr>\n",
       "    <tr>\n",
       "      <th>6</th>\n",
       "      <td>Shri R Venkataraman (1910-2009)</td>\n",
       "      <td>25 July, 1987 to 25 July, 1992</td>\n",
       "      <td></td>\n",
       "      <td>Images/venkataraman.jpg</td>\n",
       "    </tr>\n",
       "    <tr>\n",
       "      <th>7</th>\n",
       "      <td>Giani Zail Singh (1916-1994)</td>\n",
       "      <td>25 July, 1982 to 25 July, 1987</td>\n",
       "      <td></td>\n",
       "      <td>Images/giani-zail-singh.jpg</td>\n",
       "    </tr>\n",
       "    <tr>\n",
       "      <th>8</th>\n",
       "      <td>Shri Neelam Sanjiva Reddy (1913-1996)</td>\n",
       "      <td>25 July, 1977 to 25 July, 1982</td>\n",
       "      <td></td>\n",
       "      <td>Images/neelam-sanjiva-reddy.jpg</td>\n",
       "    </tr>\n",
       "    <tr>\n",
       "      <th>9</th>\n",
       "      <td>Dr. Fakhruddin Ali Ahmed (1905-1977)</td>\n",
       "      <td>24 August, 1974 to 11 February, 1977</td>\n",
       "      <td></td>\n",
       "      <td>Images/fakhruddin-ali-ahmed.jpg</td>\n",
       "    </tr>\n",
       "    <tr>\n",
       "      <th>10</th>\n",
       "      <td>Shri Varahagiri Venkata Giri (1894-1980)</td>\n",
       "      <td>3 May, 1969 to 20 July, 1969 and 24 August, 1...</td>\n",
       "      <td></td>\n",
       "      <td>Images/varahagiri-venkata-giri.jpg</td>\n",
       "    </tr>\n",
       "    <tr>\n",
       "      <th>11</th>\n",
       "      <td>Dr. Zakir Husain (1897-1969)</td>\n",
       "      <td>13 May, 1967 to 3 May, 1969</td>\n",
       "      <td></td>\n",
       "      <td>Images/zakir-hussion.jpg</td>\n",
       "    </tr>\n",
       "    <tr>\n",
       "      <th>12</th>\n",
       "      <td>Dr. Sarvepalli Radhakrishnan (1888-1975)</td>\n",
       "      <td>13 May, 1962 to 13 May, 1967</td>\n",
       "      <td></td>\n",
       "      <td>Images/sarvepalli-radhakrishnan.jpg</td>\n",
       "    </tr>\n",
       "    <tr>\n",
       "      <th>13</th>\n",
       "      <td>Dr. Rajendra Prasad (1884-1963)</td>\n",
       "      <td>26 January, 1950 to 13 May, 1962</td>\n",
       "      <td></td>\n",
       "      <td>Images/rajendra-prasad.jpg</td>\n",
       "    </tr>\n",
       "  </tbody>\n",
       "</table>\n",
       "</div>"
      ],
      "text/plain": [
       "                                 President Name  \\\n",
       "0           Shri Ram Nath Kovind (birth - 1945)   \n",
       "1             Shri Pranab Mukherjee (1935-2020)   \n",
       "2   Smt Pratibha Devisingh Patil (birth - 1934)   \n",
       "3            DR. A.P.J. Abdul Kalam (1931-2015)   \n",
       "4            Shri K. R. Narayanan (1920 - 2005)   \n",
       "5           Dr Shankar Dayal Sharma (1918-1999)   \n",
       "6               Shri R Venkataraman (1910-2009)   \n",
       "7                  Giani Zail Singh (1916-1994)   \n",
       "8         Shri Neelam Sanjiva Reddy (1913-1996)   \n",
       "9          Dr. Fakhruddin Ali Ahmed (1905-1977)   \n",
       "10     Shri Varahagiri Venkata Giri (1894-1980)   \n",
       "11                 Dr. Zakir Husain (1897-1969)   \n",
       "12     Dr. Sarvepalli Radhakrishnan (1888-1975)   \n",
       "13             Dr. Rajendra Prasad (1884-1963)    \n",
       "\n",
       "                                       Term Of Office  \\\n",
       "0                     25 July, 2017 to 25 July, 2022    \n",
       "1                     25 July, 2012 to 25 July, 2017    \n",
       "2                     25 July, 2007 to 25 July, 2012    \n",
       "3                     25 July, 2002 to 25 July, 2007    \n",
       "4                     25 July, 1997 to 25 July, 2002    \n",
       "5                     25 July, 1992 to 25 July, 1997    \n",
       "6                     25 July, 1987 to 25 July, 1992    \n",
       "7                     25 July, 1982 to 25 July, 1987    \n",
       "8                     25 July, 1977 to 25 July, 1982    \n",
       "9                24 August, 1974 to 11 February, 1977   \n",
       "10   3 May, 1969 to 20 July, 1969 and 24 August, 1...   \n",
       "11                        13 May, 1967 to 3 May, 1969   \n",
       "12                       13 May, 1962 to 13 May, 1967   \n",
       "13                   26 January, 1950 to 13 May, 1962   \n",
       "\n",
       "               Presidents Website                            Image URL  \n",
       "0    https://ramnathkovind.nic.in                       Images/rnk.jpg  \n",
       "1   http://pranabmukherjee.nic.in                    Images/pranab.jpg  \n",
       "2     http://pratibhapatil.nic.in            Images/pratibha-patil.jpg  \n",
       "3        http://abdulkalam.nic.in               Images/abdul-kalam.jpg  \n",
       "4                                             Images/k-r-narayanan.jpg  \n",
       "5                                      Images/shankar-dayal-sharma.jpg  \n",
       "6                                              Images/venkataraman.jpg  \n",
       "7                                          Images/giani-zail-singh.jpg  \n",
       "8                                      Images/neelam-sanjiva-reddy.jpg  \n",
       "9                                      Images/fakhruddin-ali-ahmed.jpg  \n",
       "10                                  Images/varahagiri-venkata-giri.jpg  \n",
       "11                                            Images/zakir-hussion.jpg  \n",
       "12                                 Images/sarvepalli-radhakrishnan.jpg  \n",
       "13                                          Images/rajendra-prasad.jpg  "
      ]
     },
     "execution_count": 27,
     "metadata": {},
     "output_type": "execute_result"
    }
   ],
   "source": [
    "df = pd.DataFrame({'President Name':presidents_name,'Term Of Office':term_of_office,'Presidents Website':presidents_web,'Image URL':image_url})\n",
    "df"
   ]
  },
  {
   "cell_type": "code",
   "execution_count": null,
   "id": "6ca0b5e9-1e67-4aff-a575-fdd7f273f356",
   "metadata": {},
   "outputs": [],
   "source": []
  },
  {
   "cell_type": "markdown",
   "id": "37060a7c-b88c-4ec0-8a2e-642c00db1cd1",
   "metadata": {},
   "source": [
    "Question3:Write a python program to scrape cricket rankings from icc-cricket.com. You have to scrape and make data frame-\n",
    "        a) Top 10 ODI teams in men’s cricket along with the records for matches, points and rating.\n",
    "        b) Top 10 ODI Batsmen along with the records of their team andrating.\n",
    "        c) Top 10 ODI bowlers along with the records of their team andrating."
   ]
  },
  {
   "cell_type": "code",
   "execution_count": null,
   "id": "f2239a11-8770-4081-be17-a87f33c8c0aa",
   "metadata": {},
   "outputs": [],
   "source": []
  },
  {
   "cell_type": "code",
   "execution_count": 28,
   "id": "9cb20e1d-8679-4f1f-aa5c-600554a00b20",
   "metadata": {},
   "outputs": [
    {
     "data": {
      "text/plain": [
       "<Response [200]>"
      ]
     },
     "execution_count": 28,
     "metadata": {},
     "output_type": "execute_result"
    }
   ],
   "source": [
    "page = requests.get('https://www.icc-cricket.com/rankings/mens/team-rankings/odi')\n",
    "page"
   ]
  },
  {
   "cell_type": "code",
   "execution_count": 29,
   "id": "3ded01e6-c808-4a3a-96a3-db2270b5f5d4",
   "metadata": {},
   "outputs": [],
   "source": [
    "soup = BeautifulSoup(page.content,'html.parser')"
   ]
  },
  {
   "cell_type": "markdown",
   "id": "f8b7c045-002d-46d4-a02b-0130f2b93f7a",
   "metadata": {},
   "source": [
    "scraping ODI Men's Team "
   ]
  },
  {
   "cell_type": "code",
   "execution_count": 30,
   "id": "4472a2de-8eae-412c-9879-cc0e4a89af33",
   "metadata": {},
   "outputs": [
    {
     "data": {
      "text/plain": [
       "['1',\n",
       " '2',\n",
       " '3',\n",
       " '4',\n",
       " '5',\n",
       " '6',\n",
       " '7',\n",
       " '8',\n",
       " '9',\n",
       " '10',\n",
       " '11',\n",
       " '12',\n",
       " '13',\n",
       " '14',\n",
       " '15',\n",
       " '16',\n",
       " '17',\n",
       " '18',\n",
       " '19',\n",
       " '20']"
      ]
     },
     "execution_count": 30,
     "metadata": {},
     "output_type": "execute_result"
    }
   ],
   "source": [
    "ranking = []\n",
    "\n",
    "for i in soup.find_all('td',class_=\"table-body__cell table-body__cell--position u-text-right\"):\n",
    "    ranking.append(i.text)\n",
    "    \n",
    "ranking.insert(0,'1')\n",
    "ranking"
   ]
  },
  {
   "cell_type": "code",
   "execution_count": 31,
   "id": "2157e2a8-8ff2-4d70-a735-f01a417e293e",
   "metadata": {},
   "outputs": [
    {
     "data": {
      "text/plain": [
       "['Australia',\n",
       " 'Pakistan',\n",
       " 'India',\n",
       " 'New Zealand',\n",
       " 'England',\n",
       " 'South Africa',\n",
       " 'Bangladesh',\n",
       " 'Afghanistan',\n",
       " 'Sri Lanka',\n",
       " 'West Indies',\n",
       " 'Zimbabwe',\n",
       " 'Ireland',\n",
       " 'Scotland',\n",
       " 'Nepal',\n",
       " 'United States',\n",
       " 'Namibia',\n",
       " 'Netherlands',\n",
       " 'Oman',\n",
       " 'UAE',\n",
       " 'Papua New Guinea']"
      ]
     },
     "execution_count": 31,
     "metadata": {},
     "output_type": "execute_result"
    }
   ],
   "source": [
    "team = []\n",
    "\n",
    "for i in soup.find_all('span',class_=\"u-hide-phablet\"):\n",
    "    team.append(i.text)\n",
    "team"
   ]
  },
  {
   "cell_type": "code",
   "execution_count": 32,
   "id": "9963f470-4827-4bd0-af1b-2f1ae5ea4046",
   "metadata": {},
   "outputs": [
    {
     "data": {
      "text/plain": [
       "['23']"
      ]
     },
     "execution_count": 32,
     "metadata": {},
     "output_type": "execute_result"
    }
   ],
   "source": [
    "matches = []\n",
    "for i in soup.find_all('td',class_=\"rankings-block__banner--matches\"):\n",
    "    matches.append(i.text)\n",
    "matches"
   ]
  },
  {
   "cell_type": "code",
   "execution_count": 33,
   "id": "f7295e99-4f87-464d-994c-4eadf2a71375",
   "metadata": {},
   "outputs": [
    {
     "data": {
      "text/plain": [
       "['2,714']"
      ]
     },
     "execution_count": 33,
     "metadata": {},
     "output_type": "execute_result"
    }
   ],
   "source": [
    "points = []\n",
    "for i in soup.find_all('td',class_=\"rankings-block__banner--points\"):\n",
    "    points.append(i.text)\n",
    "points"
   ]
  },
  {
   "cell_type": "code",
   "execution_count": 34,
   "id": "1fea0860-86db-4f2b-bc50-8d509a5af638",
   "metadata": {},
   "outputs": [
    {
     "name": "stdout",
     "output_type": "stream",
     "text": [
      "\n",
      "                            118\n",
      "                            \n",
      "\n",
      "\n"
     ]
    },
    {
     "data": {
      "text/plain": [
       "[118]"
      ]
     },
     "execution_count": 34,
     "metadata": {},
     "output_type": "execute_result"
    }
   ],
   "source": [
    "#rating for australia\n",
    "for i in soup.find_all('td',class_=\"rankings-block__banner--rating u-text-right\"):\n",
    "    a=i.text\n",
    "    print(a)\n",
    "    b=str(a)\n",
    "    rating=([int(i) for i in b.split() if i.isdigit()])\n",
    "    \n",
    "rating"
   ]
  },
  {
   "cell_type": "code",
   "execution_count": 35,
   "id": "148815f9-a06d-47b5-ae11-8f0c2820beda",
   "metadata": {},
   "outputs": [
    {
     "data": {
      "text/plain": [
       "['2,714',\n",
       " '2,316',\n",
       " '3,807',\n",
       " '2,806',\n",
       " '2,426',\n",
       " '1,910',\n",
       " '2,451',\n",
       " '878',\n",
       " '1,682',\n",
       " '1,797',\n",
       " '1,163',\n",
       " '826',\n",
       " '1,184',\n",
       " '1,254',\n",
       " '865',\n",
       " '813',\n",
       " '525',\n",
       " '344',\n",
       " '565',\n",
       " '106']"
      ]
     },
     "execution_count": 35,
     "metadata": {},
     "output_type": "execute_result"
    }
   ],
   "source": [
    "# for matches and points of team \n",
    "matches_points = []\n",
    "for i in soup.find_all('td',class_=\"table-body__cell u-center-text\"):\n",
    "    matches_points.append(i.text)\n",
    "for i in list(range(0,38,2)):\n",
    "    matches.append(matches_points[i])\n",
    "for i in list(range(1,38,2)):\n",
    "    points.append(matches_points[i])\n",
    "\n",
    "matches\n",
    "points"
   ]
  },
  {
   "cell_type": "code",
   "execution_count": 36,
   "id": "a2afe2de-6a25-4687-87cf-a0737cbeb312",
   "metadata": {},
   "outputs": [
    {
     "data": {
      "text/plain": [
       "[118,\n",
       " '116',\n",
       " '115',\n",
       " '104',\n",
       " '101',\n",
       " '101',\n",
       " '98',\n",
       " '88',\n",
       " '80',\n",
       " '72',\n",
       " '51',\n",
       " '46',\n",
       " '46',\n",
       " '37',\n",
       " '35',\n",
       " '29',\n",
       " '26',\n",
       " '20',\n",
       " '18',\n",
       " '4']"
      ]
     },
     "execution_count": 36,
     "metadata": {},
     "output_type": "execute_result"
    }
   ],
   "source": [
    "#for rating of teams \n",
    "for i in soup.find_all('td',class_=\"table-body__cell u-text-right rating\"):\n",
    "    rating.append(i.text)\n",
    "rating"
   ]
  },
  {
   "cell_type": "code",
   "execution_count": null,
   "id": "5ed4b222-bdbb-4c51-a9f5-1184e670043d",
   "metadata": {},
   "outputs": [],
   "source": []
  },
  {
   "cell_type": "code",
   "execution_count": 37,
   "id": "ecd9b6e9-c095-4045-abe2-2375c9304f30",
   "metadata": {},
   "outputs": [
    {
     "data": {
      "text/html": [
       "<div>\n",
       "<style scoped>\n",
       "    .dataframe tbody tr th:only-of-type {\n",
       "        vertical-align: middle;\n",
       "    }\n",
       "\n",
       "    .dataframe tbody tr th {\n",
       "        vertical-align: top;\n",
       "    }\n",
       "\n",
       "    .dataframe thead th {\n",
       "        text-align: right;\n",
       "    }\n",
       "</style>\n",
       "<table border=\"1\" class=\"dataframe\">\n",
       "  <thead>\n",
       "    <tr style=\"text-align: right;\">\n",
       "      <th></th>\n",
       "      <th>Ranking</th>\n",
       "      <th>Team</th>\n",
       "      <th>Matches</th>\n",
       "      <th>Points</th>\n",
       "      <th>Rating</th>\n",
       "    </tr>\n",
       "  </thead>\n",
       "  <tbody>\n",
       "    <tr>\n",
       "      <th>0</th>\n",
       "      <td>1</td>\n",
       "      <td>Australia</td>\n",
       "      <td>23</td>\n",
       "      <td>2,714</td>\n",
       "      <td>118</td>\n",
       "    </tr>\n",
       "    <tr>\n",
       "      <th>1</th>\n",
       "      <td>2</td>\n",
       "      <td>Pakistan</td>\n",
       "      <td>20</td>\n",
       "      <td>2,316</td>\n",
       "      <td>116</td>\n",
       "    </tr>\n",
       "    <tr>\n",
       "      <th>2</th>\n",
       "      <td>3</td>\n",
       "      <td>India</td>\n",
       "      <td>33</td>\n",
       "      <td>3,807</td>\n",
       "      <td>115</td>\n",
       "    </tr>\n",
       "    <tr>\n",
       "      <th>3</th>\n",
       "      <td>4</td>\n",
       "      <td>New Zealand</td>\n",
       "      <td>27</td>\n",
       "      <td>2,806</td>\n",
       "      <td>104</td>\n",
       "    </tr>\n",
       "    <tr>\n",
       "      <th>4</th>\n",
       "      <td>5</td>\n",
       "      <td>England</td>\n",
       "      <td>24</td>\n",
       "      <td>2,426</td>\n",
       "      <td>101</td>\n",
       "    </tr>\n",
       "    <tr>\n",
       "      <th>5</th>\n",
       "      <td>6</td>\n",
       "      <td>South Africa</td>\n",
       "      <td>19</td>\n",
       "      <td>1,910</td>\n",
       "      <td>101</td>\n",
       "    </tr>\n",
       "    <tr>\n",
       "      <th>6</th>\n",
       "      <td>7</td>\n",
       "      <td>Bangladesh</td>\n",
       "      <td>25</td>\n",
       "      <td>2,451</td>\n",
       "      <td>98</td>\n",
       "    </tr>\n",
       "    <tr>\n",
       "      <th>7</th>\n",
       "      <td>8</td>\n",
       "      <td>Afghanistan</td>\n",
       "      <td>10</td>\n",
       "      <td>878</td>\n",
       "      <td>88</td>\n",
       "    </tr>\n",
       "    <tr>\n",
       "      <th>8</th>\n",
       "      <td>9</td>\n",
       "      <td>Sri Lanka</td>\n",
       "      <td>21</td>\n",
       "      <td>1,682</td>\n",
       "      <td>80</td>\n",
       "    </tr>\n",
       "    <tr>\n",
       "      <th>9</th>\n",
       "      <td>10</td>\n",
       "      <td>West Indies</td>\n",
       "      <td>25</td>\n",
       "      <td>1,797</td>\n",
       "      <td>72</td>\n",
       "    </tr>\n",
       "    <tr>\n",
       "      <th>10</th>\n",
       "      <td>11</td>\n",
       "      <td>Zimbabwe</td>\n",
       "      <td>23</td>\n",
       "      <td>1,163</td>\n",
       "      <td>51</td>\n",
       "    </tr>\n",
       "    <tr>\n",
       "      <th>11</th>\n",
       "      <td>12</td>\n",
       "      <td>Ireland</td>\n",
       "      <td>18</td>\n",
       "      <td>826</td>\n",
       "      <td>46</td>\n",
       "    </tr>\n",
       "    <tr>\n",
       "      <th>12</th>\n",
       "      <td>13</td>\n",
       "      <td>Scotland</td>\n",
       "      <td>26</td>\n",
       "      <td>1,184</td>\n",
       "      <td>46</td>\n",
       "    </tr>\n",
       "    <tr>\n",
       "      <th>13</th>\n",
       "      <td>14</td>\n",
       "      <td>Nepal</td>\n",
       "      <td>34</td>\n",
       "      <td>1,254</td>\n",
       "      <td>37</td>\n",
       "    </tr>\n",
       "    <tr>\n",
       "      <th>14</th>\n",
       "      <td>15</td>\n",
       "      <td>United States</td>\n",
       "      <td>25</td>\n",
       "      <td>865</td>\n",
       "      <td>35</td>\n",
       "    </tr>\n",
       "    <tr>\n",
       "      <th>15</th>\n",
       "      <td>16</td>\n",
       "      <td>Namibia</td>\n",
       "      <td>28</td>\n",
       "      <td>813</td>\n",
       "      <td>29</td>\n",
       "    </tr>\n",
       "    <tr>\n",
       "      <th>16</th>\n",
       "      <td>17</td>\n",
       "      <td>Netherlands</td>\n",
       "      <td>20</td>\n",
       "      <td>525</td>\n",
       "      <td>26</td>\n",
       "    </tr>\n",
       "    <tr>\n",
       "      <th>17</th>\n",
       "      <td>18</td>\n",
       "      <td>Oman</td>\n",
       "      <td>17</td>\n",
       "      <td>344</td>\n",
       "      <td>20</td>\n",
       "    </tr>\n",
       "    <tr>\n",
       "      <th>18</th>\n",
       "      <td>19</td>\n",
       "      <td>UAE</td>\n",
       "      <td>32</td>\n",
       "      <td>565</td>\n",
       "      <td>18</td>\n",
       "    </tr>\n",
       "    <tr>\n",
       "      <th>19</th>\n",
       "      <td>20</td>\n",
       "      <td>Papua New Guinea</td>\n",
       "      <td>28</td>\n",
       "      <td>106</td>\n",
       "      <td>4</td>\n",
       "    </tr>\n",
       "  </tbody>\n",
       "</table>\n",
       "</div>"
      ],
      "text/plain": [
       "   Ranking              Team Matches Points Rating\n",
       "0        1         Australia      23  2,714    118\n",
       "1        2          Pakistan      20  2,316    116\n",
       "2        3             India      33  3,807    115\n",
       "3        4       New Zealand      27  2,806    104\n",
       "4        5           England      24  2,426    101\n",
       "5        6      South Africa      19  1,910    101\n",
       "6        7        Bangladesh      25  2,451     98\n",
       "7        8       Afghanistan      10    878     88\n",
       "8        9         Sri Lanka      21  1,682     80\n",
       "9       10       West Indies      25  1,797     72\n",
       "10      11          Zimbabwe      23  1,163     51\n",
       "11      12           Ireland      18    826     46\n",
       "12      13          Scotland      26  1,184     46\n",
       "13      14             Nepal      34  1,254     37\n",
       "14      15     United States      25    865     35\n",
       "15      16           Namibia      28    813     29\n",
       "16      17       Netherlands      20    525     26\n",
       "17      18              Oman      17    344     20\n",
       "18      19               UAE      32    565     18\n",
       "19      20  Papua New Guinea      28    106      4"
      ]
     },
     "execution_count": 37,
     "metadata": {},
     "output_type": "execute_result"
    }
   ],
   "source": [
    "df = pd.DataFrame({'Ranking':ranking,'Team':team,'Matches':matches,'Points':points,'Rating':rating})\n",
    "df"
   ]
  },
  {
   "cell_type": "code",
   "execution_count": 38,
   "id": "5b29872a-dd8a-4fca-9c4c-dc0735a4e120",
   "metadata": {},
   "outputs": [
    {
     "data": {
      "text/html": [
       "<div>\n",
       "<style scoped>\n",
       "    .dataframe tbody tr th:only-of-type {\n",
       "        vertical-align: middle;\n",
       "    }\n",
       "\n",
       "    .dataframe tbody tr th {\n",
       "        vertical-align: top;\n",
       "    }\n",
       "\n",
       "    .dataframe thead th {\n",
       "        text-align: right;\n",
       "    }\n",
       "</style>\n",
       "<table border=\"1\" class=\"dataframe\">\n",
       "  <thead>\n",
       "    <tr style=\"text-align: right;\">\n",
       "      <th></th>\n",
       "      <th>Ranking</th>\n",
       "      <th>Team</th>\n",
       "      <th>Matches</th>\n",
       "      <th>Points</th>\n",
       "      <th>Rating</th>\n",
       "    </tr>\n",
       "  </thead>\n",
       "  <tbody>\n",
       "    <tr>\n",
       "      <th>0</th>\n",
       "      <td>1</td>\n",
       "      <td>Australia</td>\n",
       "      <td>23</td>\n",
       "      <td>2,714</td>\n",
       "      <td>118</td>\n",
       "    </tr>\n",
       "    <tr>\n",
       "      <th>1</th>\n",
       "      <td>2</td>\n",
       "      <td>Pakistan</td>\n",
       "      <td>20</td>\n",
       "      <td>2,316</td>\n",
       "      <td>116</td>\n",
       "    </tr>\n",
       "    <tr>\n",
       "      <th>2</th>\n",
       "      <td>3</td>\n",
       "      <td>India</td>\n",
       "      <td>33</td>\n",
       "      <td>3,807</td>\n",
       "      <td>115</td>\n",
       "    </tr>\n",
       "    <tr>\n",
       "      <th>3</th>\n",
       "      <td>4</td>\n",
       "      <td>New Zealand</td>\n",
       "      <td>27</td>\n",
       "      <td>2,806</td>\n",
       "      <td>104</td>\n",
       "    </tr>\n",
       "    <tr>\n",
       "      <th>4</th>\n",
       "      <td>5</td>\n",
       "      <td>England</td>\n",
       "      <td>24</td>\n",
       "      <td>2,426</td>\n",
       "      <td>101</td>\n",
       "    </tr>\n",
       "    <tr>\n",
       "      <th>5</th>\n",
       "      <td>6</td>\n",
       "      <td>South Africa</td>\n",
       "      <td>19</td>\n",
       "      <td>1,910</td>\n",
       "      <td>101</td>\n",
       "    </tr>\n",
       "    <tr>\n",
       "      <th>6</th>\n",
       "      <td>7</td>\n",
       "      <td>Bangladesh</td>\n",
       "      <td>25</td>\n",
       "      <td>2,451</td>\n",
       "      <td>98</td>\n",
       "    </tr>\n",
       "    <tr>\n",
       "      <th>7</th>\n",
       "      <td>8</td>\n",
       "      <td>Afghanistan</td>\n",
       "      <td>10</td>\n",
       "      <td>878</td>\n",
       "      <td>88</td>\n",
       "    </tr>\n",
       "    <tr>\n",
       "      <th>8</th>\n",
       "      <td>9</td>\n",
       "      <td>Sri Lanka</td>\n",
       "      <td>21</td>\n",
       "      <td>1,682</td>\n",
       "      <td>80</td>\n",
       "    </tr>\n",
       "    <tr>\n",
       "      <th>9</th>\n",
       "      <td>10</td>\n",
       "      <td>West Indies</td>\n",
       "      <td>25</td>\n",
       "      <td>1,797</td>\n",
       "      <td>72</td>\n",
       "    </tr>\n",
       "  </tbody>\n",
       "</table>\n",
       "</div>"
      ],
      "text/plain": [
       "  Ranking          Team Matches Points Rating\n",
       "0       1     Australia      23  2,714    118\n",
       "1       2      Pakistan      20  2,316    116\n",
       "2       3         India      33  3,807    115\n",
       "3       4   New Zealand      27  2,806    104\n",
       "4       5       England      24  2,426    101\n",
       "5       6  South Africa      19  1,910    101\n",
       "6       7    Bangladesh      25  2,451     98\n",
       "7       8   Afghanistan      10    878     88\n",
       "8       9     Sri Lanka      21  1,682     80\n",
       "9      10   West Indies      25  1,797     72"
      ]
     },
     "execution_count": 38,
     "metadata": {},
     "output_type": "execute_result"
    }
   ],
   "source": [
    "#Top 10 ODI teams in men’s cricket along with the records for matches, points and rating.\n",
    "df.head(10)"
   ]
  },
  {
   "cell_type": "code",
   "execution_count": null,
   "id": "b06338de-7f7e-45bb-8ec5-8857a96c680e",
   "metadata": {},
   "outputs": [],
   "source": []
  },
  {
   "cell_type": "markdown",
   "id": "3be10871-f6a0-4aec-90cf-1644d95cbf82",
   "metadata": {},
   "source": [
    "Top 10 ODI Batsmen along with the records of their team andrating."
   ]
  },
  {
   "cell_type": "code",
   "execution_count": null,
   "id": "94688d67-1866-4fe4-8531-31c3ca2c9b87",
   "metadata": {},
   "outputs": [],
   "source": []
  },
  {
   "cell_type": "code",
   "execution_count": 39,
   "id": "00c0560f-7a3a-48e5-b5f4-2f9bdb08613d",
   "metadata": {},
   "outputs": [
    {
     "data": {
      "text/plain": [
       "<Response [200]>"
      ]
     },
     "execution_count": 39,
     "metadata": {},
     "output_type": "execute_result"
    }
   ],
   "source": [
    "page = requests.get('https://www.icc-cricket.com/rankings/mens/player-rankings/odi/batting')\n",
    "page"
   ]
  },
  {
   "cell_type": "code",
   "execution_count": 40,
   "id": "aaafb0b2-b3b8-474d-b92f-5773cd350139",
   "metadata": {},
   "outputs": [],
   "source": [
    "soup = BeautifulSoup(page.content,'html.parser')"
   ]
  },
  {
   "cell_type": "code",
   "execution_count": 41,
   "id": "5b99aee1-8921-4a93-8584-2fb3ac3c3366",
   "metadata": {},
   "outputs": [
    {
     "data": {
      "text/plain": [
       "100"
      ]
     },
     "execution_count": 41,
     "metadata": {},
     "output_type": "execute_result"
    }
   ],
   "source": [
    "player = []\n",
    "for i in soup.find_all('div',class_=\"rankings-block__banner--name-large\"):\n",
    "    player.append(i.text)\n",
    "for i in soup.find_all('td',class_=\"table-body__cell rankings-table__name name\"):\n",
    "    player.append(i.text.split('\\n')[1])\n",
    "len(player)"
   ]
  },
  {
   "cell_type": "code",
   "execution_count": 42,
   "id": "7a8ac485-0d09-45eb-b604-9b74fa321859",
   "metadata": {},
   "outputs": [
    {
     "data": {
      "text/plain": [
       "100"
      ]
     },
     "execution_count": 42,
     "metadata": {},
     "output_type": "execute_result"
    }
   ],
   "source": [
    "team = []\n",
    "for i in soup.find_all('div',class_=\"rankings-block__banner--nationality\"):\n",
    "    team.append(i.text.split('\\n')[2])\n",
    "for i in soup.find_all('span',class_=\"table-body__logo-text\"):\n",
    "    team.append(i.text)\n",
    "len(team)"
   ]
  },
  {
   "cell_type": "code",
   "execution_count": 43,
   "id": "f4390503-6223-4d4b-bf6d-7864f17b339f",
   "metadata": {},
   "outputs": [
    {
     "data": {
      "text/plain": [
       "100"
      ]
     },
     "execution_count": 43,
     "metadata": {},
     "output_type": "execute_result"
    }
   ],
   "source": [
    "rating = []\n",
    "for i in soup.find_all('div',class_=\"rankings-block__banner--rating\"):\n",
    "    rating.append(i.text)\n",
    "for i in soup.find_all('td',class_=\"table-body__cell rating\"):\n",
    "    rating.append(i.text)\n",
    "len(rating)"
   ]
  },
  {
   "cell_type": "code",
   "execution_count": 44,
   "id": "986950da-8bc3-4428-b9ed-925c5c4880bb",
   "metadata": {},
   "outputs": [],
   "source": [
    "position = list(range(1,101))"
   ]
  },
  {
   "cell_type": "code",
   "execution_count": 45,
   "id": "ea19ce2a-426b-46ce-98f1-8be123bdde40",
   "metadata": {},
   "outputs": [
    {
     "data": {
      "text/html": [
       "<div>\n",
       "<style scoped>\n",
       "    .dataframe tbody tr th:only-of-type {\n",
       "        vertical-align: middle;\n",
       "    }\n",
       "\n",
       "    .dataframe tbody tr th {\n",
       "        vertical-align: top;\n",
       "    }\n",
       "\n",
       "    .dataframe thead th {\n",
       "        text-align: right;\n",
       "    }\n",
       "</style>\n",
       "<table border=\"1\" class=\"dataframe\">\n",
       "  <thead>\n",
       "    <tr style=\"text-align: right;\">\n",
       "      <th></th>\n",
       "      <th>Position</th>\n",
       "      <th>Player</th>\n",
       "      <th>Team</th>\n",
       "      <th>Rating</th>\n",
       "    </tr>\n",
       "  </thead>\n",
       "  <tbody>\n",
       "    <tr>\n",
       "      <th>0</th>\n",
       "      <td>1</td>\n",
       "      <td>Babar Azam</td>\n",
       "      <td>PAK</td>\n",
       "      <td>886</td>\n",
       "    </tr>\n",
       "    <tr>\n",
       "      <th>1</th>\n",
       "      <td>2</td>\n",
       "      <td>Rassie van der Dussen</td>\n",
       "      <td>SA</td>\n",
       "      <td>777</td>\n",
       "    </tr>\n",
       "    <tr>\n",
       "      <th>2</th>\n",
       "      <td>3</td>\n",
       "      <td>Fakhar Zaman</td>\n",
       "      <td>PAK</td>\n",
       "      <td>755</td>\n",
       "    </tr>\n",
       "    <tr>\n",
       "      <th>3</th>\n",
       "      <td>4</td>\n",
       "      <td>Imam-ul-Haq</td>\n",
       "      <td>PAK</td>\n",
       "      <td>745</td>\n",
       "    </tr>\n",
       "    <tr>\n",
       "      <th>4</th>\n",
       "      <td>5</td>\n",
       "      <td>Shubman Gill</td>\n",
       "      <td>IND</td>\n",
       "      <td>738</td>\n",
       "    </tr>\n",
       "    <tr>\n",
       "      <th>...</th>\n",
       "      <td>...</td>\n",
       "      <td>...</td>\n",
       "      <td>...</td>\n",
       "      <td>...</td>\n",
       "    </tr>\n",
       "    <tr>\n",
       "      <th>95</th>\n",
       "      <td>96</td>\n",
       "      <td>Kashyap Prajapati</td>\n",
       "      <td>OMA</td>\n",
       "      <td>431</td>\n",
       "    </tr>\n",
       "    <tr>\n",
       "      <th>96</th>\n",
       "      <td>97</td>\n",
       "      <td>Tony Ura</td>\n",
       "      <td>PNG</td>\n",
       "      <td>431</td>\n",
       "    </tr>\n",
       "    <tr>\n",
       "      <th>97</th>\n",
       "      <td>98</td>\n",
       "      <td>Niroshan Dickwella</td>\n",
       "      <td>SL</td>\n",
       "      <td>429</td>\n",
       "    </tr>\n",
       "    <tr>\n",
       "      <th>98</th>\n",
       "      <td>99</td>\n",
       "      <td>Rashid Khan</td>\n",
       "      <td>AFG</td>\n",
       "      <td>426</td>\n",
       "    </tr>\n",
       "    <tr>\n",
       "      <th>99</th>\n",
       "      <td>100</td>\n",
       "      <td>Kyle Mayers</td>\n",
       "      <td>WI</td>\n",
       "      <td>425</td>\n",
       "    </tr>\n",
       "  </tbody>\n",
       "</table>\n",
       "<p>100 rows × 4 columns</p>\n",
       "</div>"
      ],
      "text/plain": [
       "    Position                 Player Team Rating\n",
       "0          1             Babar Azam  PAK    886\n",
       "1          2  Rassie van der Dussen   SA    777\n",
       "2          3           Fakhar Zaman  PAK    755\n",
       "3          4            Imam-ul-Haq  PAK    745\n",
       "4          5           Shubman Gill  IND    738\n",
       "..       ...                    ...  ...    ...\n",
       "95        96      Kashyap Prajapati  OMA    431\n",
       "96        97               Tony Ura  PNG    431\n",
       "97        98     Niroshan Dickwella   SL    429\n",
       "98        99            Rashid Khan  AFG    426\n",
       "99       100            Kyle Mayers   WI    425\n",
       "\n",
       "[100 rows x 4 columns]"
      ]
     },
     "execution_count": 45,
     "metadata": {},
     "output_type": "execute_result"
    }
   ],
   "source": [
    "df = pd.DataFrame({'Position':position,'Player':player,'Team':team,'Rating':rating})\n",
    "df"
   ]
  },
  {
   "cell_type": "code",
   "execution_count": 46,
   "id": "765b0b0d-2216-44ae-825b-da347d2123ed",
   "metadata": {},
   "outputs": [
    {
     "data": {
      "text/html": [
       "<div>\n",
       "<style scoped>\n",
       "    .dataframe tbody tr th:only-of-type {\n",
       "        vertical-align: middle;\n",
       "    }\n",
       "\n",
       "    .dataframe tbody tr th {\n",
       "        vertical-align: top;\n",
       "    }\n",
       "\n",
       "    .dataframe thead th {\n",
       "        text-align: right;\n",
       "    }\n",
       "</style>\n",
       "<table border=\"1\" class=\"dataframe\">\n",
       "  <thead>\n",
       "    <tr style=\"text-align: right;\">\n",
       "      <th></th>\n",
       "      <th>Position</th>\n",
       "      <th>Player</th>\n",
       "      <th>Team</th>\n",
       "      <th>Rating</th>\n",
       "    </tr>\n",
       "  </thead>\n",
       "  <tbody>\n",
       "    <tr>\n",
       "      <th>0</th>\n",
       "      <td>1</td>\n",
       "      <td>Babar Azam</td>\n",
       "      <td>PAK</td>\n",
       "      <td>886</td>\n",
       "    </tr>\n",
       "    <tr>\n",
       "      <th>1</th>\n",
       "      <td>2</td>\n",
       "      <td>Rassie van der Dussen</td>\n",
       "      <td>SA</td>\n",
       "      <td>777</td>\n",
       "    </tr>\n",
       "    <tr>\n",
       "      <th>2</th>\n",
       "      <td>3</td>\n",
       "      <td>Fakhar Zaman</td>\n",
       "      <td>PAK</td>\n",
       "      <td>755</td>\n",
       "    </tr>\n",
       "    <tr>\n",
       "      <th>3</th>\n",
       "      <td>4</td>\n",
       "      <td>Imam-ul-Haq</td>\n",
       "      <td>PAK</td>\n",
       "      <td>745</td>\n",
       "    </tr>\n",
       "    <tr>\n",
       "      <th>4</th>\n",
       "      <td>5</td>\n",
       "      <td>Shubman Gill</td>\n",
       "      <td>IND</td>\n",
       "      <td>738</td>\n",
       "    </tr>\n",
       "    <tr>\n",
       "      <th>5</th>\n",
       "      <td>6</td>\n",
       "      <td>David Warner</td>\n",
       "      <td>AUS</td>\n",
       "      <td>726</td>\n",
       "    </tr>\n",
       "    <tr>\n",
       "      <th>6</th>\n",
       "      <td>7</td>\n",
       "      <td>Harry Tector</td>\n",
       "      <td>IRE</td>\n",
       "      <td>722</td>\n",
       "    </tr>\n",
       "    <tr>\n",
       "      <th>7</th>\n",
       "      <td>8</td>\n",
       "      <td>Virat Kohli</td>\n",
       "      <td>IND</td>\n",
       "      <td>719</td>\n",
       "    </tr>\n",
       "    <tr>\n",
       "      <th>8</th>\n",
       "      <td>9</td>\n",
       "      <td>Quinton de Kock</td>\n",
       "      <td>SA</td>\n",
       "      <td>718</td>\n",
       "    </tr>\n",
       "    <tr>\n",
       "      <th>9</th>\n",
       "      <td>10</td>\n",
       "      <td>Rohit Sharma</td>\n",
       "      <td>IND</td>\n",
       "      <td>707</td>\n",
       "    </tr>\n",
       "  </tbody>\n",
       "</table>\n",
       "</div>"
      ],
      "text/plain": [
       "   Position                 Player Team Rating\n",
       "0         1             Babar Azam  PAK    886\n",
       "1         2  Rassie van der Dussen   SA    777\n",
       "2         3           Fakhar Zaman  PAK    755\n",
       "3         4            Imam-ul-Haq  PAK    745\n",
       "4         5           Shubman Gill  IND    738\n",
       "5         6           David Warner  AUS    726\n",
       "6         7           Harry Tector  IRE    722\n",
       "7         8            Virat Kohli  IND    719\n",
       "8         9        Quinton de Kock   SA    718\n",
       "9        10           Rohit Sharma  IND    707"
      ]
     },
     "execution_count": 46,
     "metadata": {},
     "output_type": "execute_result"
    }
   ],
   "source": [
    "#Top 10 ODI Batsmen along with the records of their team andrating.\n",
    "df.head(10)"
   ]
  },
  {
   "cell_type": "code",
   "execution_count": null,
   "id": "55d225c4-69f7-4a86-9d9b-ee2b69eea4c6",
   "metadata": {},
   "outputs": [],
   "source": []
  },
  {
   "cell_type": "markdown",
   "id": "7ed0e159-aa31-4338-9502-18a125b89eec",
   "metadata": {},
   "source": [
    "Top 10 ODI bowlers along with the records of their team andrating."
   ]
  },
  {
   "cell_type": "code",
   "execution_count": null,
   "id": "90ea63f4-c4cc-4aed-a663-5ebc79c4a9a0",
   "metadata": {},
   "outputs": [],
   "source": []
  },
  {
   "cell_type": "code",
   "execution_count": 47,
   "id": "af57df36-c2df-4254-b3d8-86f1c3822d01",
   "metadata": {},
   "outputs": [
    {
     "data": {
      "text/plain": [
       "<Response [200]>"
      ]
     },
     "execution_count": 47,
     "metadata": {},
     "output_type": "execute_result"
    }
   ],
   "source": [
    "page = requests.get('https://www.icc-cricket.com/rankings/mens/player-rankings/odi/bowling')\n",
    "page"
   ]
  },
  {
   "cell_type": "code",
   "execution_count": 48,
   "id": "20402bc5-82e6-46eb-a8e2-0809424b3a10",
   "metadata": {},
   "outputs": [],
   "source": [
    "soup = BeautifulSoup(page.content,'html.parser')"
   ]
  },
  {
   "cell_type": "code",
   "execution_count": null,
   "id": "0bce2f99-e122-4e03-97a6-2b0d96f7fea5",
   "metadata": {},
   "outputs": [],
   "source": []
  },
  {
   "cell_type": "code",
   "execution_count": 49,
   "id": "2d05a1a8-52c5-48a2-99af-87a103968bbd",
   "metadata": {},
   "outputs": [
    {
     "data": {
      "text/plain": [
       "100"
      ]
     },
     "execution_count": 49,
     "metadata": {},
     "output_type": "execute_result"
    }
   ],
   "source": [
    "player = []\n",
    "for i in soup.find_all('div',class_=\"rankings-block__banner--name-large\"):\n",
    "    player.append(i.text)\n",
    "for i in soup.find_all('td',class_=\"table-body__cell rankings-table__name name\"):\n",
    "    player.append(i.text.split('\\n')[1])\n",
    "len(player)"
   ]
  },
  {
   "cell_type": "code",
   "execution_count": 50,
   "id": "474d11a9-d639-4a95-9d4f-95aee63008f1",
   "metadata": {},
   "outputs": [
    {
     "data": {
      "text/plain": [
       "100"
      ]
     },
     "execution_count": 50,
     "metadata": {},
     "output_type": "execute_result"
    }
   ],
   "source": [
    "team = []\n",
    "for i in soup.find_all('div',class_=\"rankings-block__banner--nationality\"):\n",
    "    team.append(i.text.split('\\n')[2])\n",
    "for i in soup.find_all('span',class_=\"table-body__logo-text\"):\n",
    "    team.append(i.text)\n",
    "len(team)"
   ]
  },
  {
   "cell_type": "code",
   "execution_count": 51,
   "id": "dfc0e3c4-568f-4ad4-bcf1-e34e9d950436",
   "metadata": {},
   "outputs": [
    {
     "data": {
      "text/plain": [
       "100"
      ]
     },
     "execution_count": 51,
     "metadata": {},
     "output_type": "execute_result"
    }
   ],
   "source": [
    "rating = []\n",
    "for i in soup.find_all('div',class_=\"rankings-block__banner--rating\"):\n",
    "    rating.append(i.text)\n",
    "for i in soup.find_all('td',class_=\"table-body__cell rating\"):\n",
    "    rating.append(i.text)\n",
    "len(rating)"
   ]
  },
  {
   "cell_type": "code",
   "execution_count": 52,
   "id": "613ed10b-1084-4faf-93a9-b1cf9d31e4c4",
   "metadata": {},
   "outputs": [],
   "source": [
    "position = list(range(1,101))"
   ]
  },
  {
   "cell_type": "code",
   "execution_count": 53,
   "id": "77c2be59-1b91-4ddc-ba13-aa3d0b45d088",
   "metadata": {},
   "outputs": [
    {
     "data": {
      "text/html": [
       "<div>\n",
       "<style scoped>\n",
       "    .dataframe tbody tr th:only-of-type {\n",
       "        vertical-align: middle;\n",
       "    }\n",
       "\n",
       "    .dataframe tbody tr th {\n",
       "        vertical-align: top;\n",
       "    }\n",
       "\n",
       "    .dataframe thead th {\n",
       "        text-align: right;\n",
       "    }\n",
       "</style>\n",
       "<table border=\"1\" class=\"dataframe\">\n",
       "  <thead>\n",
       "    <tr style=\"text-align: right;\">\n",
       "      <th></th>\n",
       "      <th>Position</th>\n",
       "      <th>Player</th>\n",
       "      <th>Team</th>\n",
       "      <th>Rating</th>\n",
       "    </tr>\n",
       "  </thead>\n",
       "  <tbody>\n",
       "    <tr>\n",
       "      <th>0</th>\n",
       "      <td>1</td>\n",
       "      <td>Josh Hazlewood</td>\n",
       "      <td>AUS</td>\n",
       "      <td>705</td>\n",
       "    </tr>\n",
       "    <tr>\n",
       "      <th>1</th>\n",
       "      <td>2</td>\n",
       "      <td>Mohammed Siraj</td>\n",
       "      <td>IND</td>\n",
       "      <td>691</td>\n",
       "    </tr>\n",
       "    <tr>\n",
       "      <th>2</th>\n",
       "      <td>3</td>\n",
       "      <td>Mitchell Starc</td>\n",
       "      <td>AUS</td>\n",
       "      <td>686</td>\n",
       "    </tr>\n",
       "    <tr>\n",
       "      <th>3</th>\n",
       "      <td>4</td>\n",
       "      <td>Matt Henry</td>\n",
       "      <td>NZ</td>\n",
       "      <td>667</td>\n",
       "    </tr>\n",
       "    <tr>\n",
       "      <th>4</th>\n",
       "      <td>5</td>\n",
       "      <td>Trent Boult</td>\n",
       "      <td>NZ</td>\n",
       "      <td>660</td>\n",
       "    </tr>\n",
       "    <tr>\n",
       "      <th>...</th>\n",
       "      <td>...</td>\n",
       "      <td>...</td>\n",
       "      <td>...</td>\n",
       "      <td>...</td>\n",
       "    </tr>\n",
       "    <tr>\n",
       "      <th>95</th>\n",
       "      <td>96</td>\n",
       "      <td>Gulbadin Naib</td>\n",
       "      <td>AFG</td>\n",
       "      <td>391</td>\n",
       "    </tr>\n",
       "    <tr>\n",
       "      <th>96</th>\n",
       "      <td>97</td>\n",
       "      <td>Khawar Ali</td>\n",
       "      <td>OMA</td>\n",
       "      <td>390</td>\n",
       "    </tr>\n",
       "    <tr>\n",
       "      <th>97</th>\n",
       "      <td>98</td>\n",
       "      <td>Ebadot Hossain</td>\n",
       "      <td>BAN</td>\n",
       "      <td>385</td>\n",
       "    </tr>\n",
       "    <tr>\n",
       "      <th>98</th>\n",
       "      <td>99</td>\n",
       "      <td>Vivian Kingma</td>\n",
       "      <td>NED</td>\n",
       "      <td>384</td>\n",
       "    </tr>\n",
       "    <tr>\n",
       "      <th>99</th>\n",
       "      <td>100</td>\n",
       "      <td>Marcus Stoinis</td>\n",
       "      <td>AUS</td>\n",
       "      <td>382</td>\n",
       "    </tr>\n",
       "  </tbody>\n",
       "</table>\n",
       "<p>100 rows × 4 columns</p>\n",
       "</div>"
      ],
      "text/plain": [
       "    Position          Player Team Rating\n",
       "0          1  Josh Hazlewood  AUS    705\n",
       "1          2  Mohammed Siraj  IND    691\n",
       "2          3  Mitchell Starc  AUS    686\n",
       "3          4      Matt Henry   NZ    667\n",
       "4          5     Trent Boult   NZ    660\n",
       "..       ...             ...  ...    ...\n",
       "95        96   Gulbadin Naib  AFG    391\n",
       "96        97      Khawar Ali  OMA    390\n",
       "97        98  Ebadot Hossain  BAN    385\n",
       "98        99   Vivian Kingma  NED    384\n",
       "99       100  Marcus Stoinis  AUS    382\n",
       "\n",
       "[100 rows x 4 columns]"
      ]
     },
     "execution_count": 53,
     "metadata": {},
     "output_type": "execute_result"
    }
   ],
   "source": [
    "df = pd.DataFrame({'Position':position,'Player':player,'Team':team,'Rating':rating})\n",
    "df"
   ]
  },
  {
   "cell_type": "code",
   "execution_count": 54,
   "id": "42a64544-3205-44c2-a218-8b040f8ee935",
   "metadata": {},
   "outputs": [
    {
     "data": {
      "text/html": [
       "<div>\n",
       "<style scoped>\n",
       "    .dataframe tbody tr th:only-of-type {\n",
       "        vertical-align: middle;\n",
       "    }\n",
       "\n",
       "    .dataframe tbody tr th {\n",
       "        vertical-align: top;\n",
       "    }\n",
       "\n",
       "    .dataframe thead th {\n",
       "        text-align: right;\n",
       "    }\n",
       "</style>\n",
       "<table border=\"1\" class=\"dataframe\">\n",
       "  <thead>\n",
       "    <tr style=\"text-align: right;\">\n",
       "      <th></th>\n",
       "      <th>Position</th>\n",
       "      <th>Player</th>\n",
       "      <th>Team</th>\n",
       "      <th>Rating</th>\n",
       "    </tr>\n",
       "  </thead>\n",
       "  <tbody>\n",
       "    <tr>\n",
       "      <th>0</th>\n",
       "      <td>1</td>\n",
       "      <td>Josh Hazlewood</td>\n",
       "      <td>AUS</td>\n",
       "      <td>705</td>\n",
       "    </tr>\n",
       "    <tr>\n",
       "      <th>1</th>\n",
       "      <td>2</td>\n",
       "      <td>Mohammed Siraj</td>\n",
       "      <td>IND</td>\n",
       "      <td>691</td>\n",
       "    </tr>\n",
       "    <tr>\n",
       "      <th>2</th>\n",
       "      <td>3</td>\n",
       "      <td>Mitchell Starc</td>\n",
       "      <td>AUS</td>\n",
       "      <td>686</td>\n",
       "    </tr>\n",
       "    <tr>\n",
       "      <th>3</th>\n",
       "      <td>4</td>\n",
       "      <td>Matt Henry</td>\n",
       "      <td>NZ</td>\n",
       "      <td>667</td>\n",
       "    </tr>\n",
       "    <tr>\n",
       "      <th>4</th>\n",
       "      <td>5</td>\n",
       "      <td>Trent Boult</td>\n",
       "      <td>NZ</td>\n",
       "      <td>660</td>\n",
       "    </tr>\n",
       "    <tr>\n",
       "      <th>5</th>\n",
       "      <td>6</td>\n",
       "      <td>Rashid Khan</td>\n",
       "      <td>AFG</td>\n",
       "      <td>659</td>\n",
       "    </tr>\n",
       "    <tr>\n",
       "      <th>6</th>\n",
       "      <td>7</td>\n",
       "      <td>Adam Zampa</td>\n",
       "      <td>AUS</td>\n",
       "      <td>652</td>\n",
       "    </tr>\n",
       "    <tr>\n",
       "      <th>7</th>\n",
       "      <td>8</td>\n",
       "      <td>Mujeeb Ur Rahman</td>\n",
       "      <td>AFG</td>\n",
       "      <td>637</td>\n",
       "    </tr>\n",
       "    <tr>\n",
       "      <th>8</th>\n",
       "      <td>9</td>\n",
       "      <td>Mohammad Nabi</td>\n",
       "      <td>AFG</td>\n",
       "      <td>631</td>\n",
       "    </tr>\n",
       "    <tr>\n",
       "      <th>9</th>\n",
       "      <td>10</td>\n",
       "      <td>Shaheen Afridi</td>\n",
       "      <td>PAK</td>\n",
       "      <td>630</td>\n",
       "    </tr>\n",
       "  </tbody>\n",
       "</table>\n",
       "</div>"
      ],
      "text/plain": [
       "   Position            Player Team Rating\n",
       "0         1    Josh Hazlewood  AUS    705\n",
       "1         2    Mohammed Siraj  IND    691\n",
       "2         3    Mitchell Starc  AUS    686\n",
       "3         4        Matt Henry   NZ    667\n",
       "4         5       Trent Boult   NZ    660\n",
       "5         6       Rashid Khan  AFG    659\n",
       "6         7        Adam Zampa  AUS    652\n",
       "7         8  Mujeeb Ur Rahman  AFG    637\n",
       "8         9     Mohammad Nabi  AFG    631\n",
       "9        10    Shaheen Afridi  PAK    630"
      ]
     },
     "execution_count": 54,
     "metadata": {},
     "output_type": "execute_result"
    }
   ],
   "source": [
    "#Top 10 ODI bowlers along with the records of their team andrating.\n",
    "df.head(10)"
   ]
  },
  {
   "cell_type": "code",
   "execution_count": null,
   "id": "cda6621d-a85c-470e-85f8-468f13150851",
   "metadata": {},
   "outputs": [],
   "source": []
  },
  {
   "cell_type": "markdown",
   "id": "23dafbdf-47d4-4220-9768-eba4866ca91f",
   "metadata": {},
   "source": [
    "Question4: Write a python program to scrape cricket rankings from icc-cricket.com. You have to scrape and make data frame-\n",
    "a) Top 10 ODI teams in women’s cricket along with the records for matches, points and rating.\n",
    "b) Top 10 women’s ODI Batting players along with the records of their team and rating.\n",
    "c) Top 10 women’s ODI all-rounder along with the records of their team and rating."
   ]
  },
  {
   "cell_type": "code",
   "execution_count": null,
   "id": "71d7a9e2-c8e5-4808-88a3-f90eeb977055",
   "metadata": {},
   "outputs": [],
   "source": []
  },
  {
   "cell_type": "code",
   "execution_count": 55,
   "id": "a9f8e3d6-a618-4917-b8c1-91ceaafb43a8",
   "metadata": {},
   "outputs": [
    {
     "data": {
      "text/plain": [
       "<Response [200]>"
      ]
     },
     "execution_count": 55,
     "metadata": {},
     "output_type": "execute_result"
    }
   ],
   "source": [
    "page = requests.get('https://www.icc-cricket.com/rankings/womens/team-rankings/odi')\n",
    "page"
   ]
  },
  {
   "cell_type": "code",
   "execution_count": 56,
   "id": "7a7da0b9-5d89-4299-8778-d13b8dfee066",
   "metadata": {},
   "outputs": [],
   "source": [
    "soup = BeautifulSoup(page.content,'html.parser')"
   ]
  },
  {
   "cell_type": "code",
   "execution_count": 57,
   "id": "9544f128-087d-491e-bbf8-9fe66721c66e",
   "metadata": {},
   "outputs": [
    {
     "data": {
      "text/plain": [
       "['Australia',\n",
       " 'England',\n",
       " 'South Africa',\n",
       " 'India',\n",
       " 'New Zealand',\n",
       " 'West Indies',\n",
       " 'Thailand',\n",
       " 'Bangladesh',\n",
       " 'Pakistan',\n",
       " 'Sri Lanka',\n",
       " 'Ireland',\n",
       " 'Netherlands',\n",
       " 'Zimbabwe']"
      ]
     },
     "execution_count": 57,
     "metadata": {},
     "output_type": "execute_result"
    }
   ],
   "source": [
    "team = []\n",
    "\n",
    "for i in soup.find_all('span',class_=\"u-hide-phablet\"):\n",
    "    team.append(i.text)\n",
    "team"
   ]
  },
  {
   "cell_type": "code",
   "execution_count": 58,
   "id": "1fd9aaef-742a-491c-8b2f-f9ccb837c3bc",
   "metadata": {},
   "outputs": [
    {
     "data": {
      "text/plain": [
       "['21']"
      ]
     },
     "execution_count": 58,
     "metadata": {},
     "output_type": "execute_result"
    }
   ],
   "source": [
    "matches = []\n",
    "for i in soup.find_all('td',class_=\"rankings-block__banner--matches\"):\n",
    "    matches.append(i.text)\n",
    "matches"
   ]
  },
  {
   "cell_type": "code",
   "execution_count": 59,
   "id": "af431da8-d99f-4cc9-8f84-f0a938f2316a",
   "metadata": {},
   "outputs": [
    {
     "data": {
      "text/plain": [
       "['3,603']"
      ]
     },
     "execution_count": 59,
     "metadata": {},
     "output_type": "execute_result"
    }
   ],
   "source": [
    "points = []\n",
    "for i in soup.find_all('td',class_=\"rankings-block__banner--points\"):\n",
    "    points.append(i.text)\n",
    "points"
   ]
  },
  {
   "cell_type": "code",
   "execution_count": 60,
   "id": "8903125e-a44c-439e-bf25-bcd940b61705",
   "metadata": {},
   "outputs": [
    {
     "name": "stdout",
     "output_type": "stream",
     "text": [
      "\n",
      "                            172\n",
      "                            \n",
      "\n",
      "\n"
     ]
    },
    {
     "data": {
      "text/plain": [
       "[172]"
      ]
     },
     "execution_count": 60,
     "metadata": {},
     "output_type": "execute_result"
    }
   ],
   "source": [
    "#rating for australia\n",
    "for i in soup.find_all('td',class_=\"rankings-block__banner--rating u-text-right\"):\n",
    "    a=i.text\n",
    "    print(a)\n",
    "    b=str(a)\n",
    "    rating=([int(i) for i in b.split() if i.isdigit()])\n",
    "    \n",
    "rating"
   ]
  },
  {
   "cell_type": "code",
   "execution_count": 61,
   "id": "e94fc4c4-9b95-469b-91c0-9271f5a3b494",
   "metadata": {},
   "outputs": [
    {
     "data": {
      "text/plain": [
       "['3,603',\n",
       " '3,342',\n",
       " '3,098',\n",
       " '2,820',\n",
       " '2,553',\n",
       " '2,535',\n",
       " '821',\n",
       " '977',\n",
       " '1,678',\n",
       " '479',\n",
       " '548',\n",
       " '0',\n",
       " '0']"
      ]
     },
     "execution_count": 61,
     "metadata": {},
     "output_type": "execute_result"
    }
   ],
   "source": [
    "# for matches and points of team \n",
    "matches_points = []\n",
    "for i in soup.find_all('td',class_=\"table-body__cell u-center-text\"):\n",
    "    matches_points.append(i.text)\n",
    "for i in list(range(0,24,2)):\n",
    "    matches.append(matches_points[i])\n",
    "for i in list(range(1,24,2)):\n",
    "    points.append(matches_points[i])\n",
    "\n",
    "matches\n",
    "points"
   ]
  },
  {
   "cell_type": "code",
   "execution_count": 62,
   "id": "9fa4f1c8-64b2-4fb8-b3f5-3103117a041c",
   "metadata": {},
   "outputs": [
    {
     "data": {
      "text/plain": [
       "[172, '119', '119', '104', '102', '94', '75', '70', '62', '53', '39', '0', '0']"
      ]
     },
     "execution_count": 62,
     "metadata": {},
     "output_type": "execute_result"
    }
   ],
   "source": [
    "#for rating of teams \n",
    "for i in soup.find_all('td',class_=\"table-body__cell u-text-right rating\"):\n",
    "    rating.append(i.text)\n",
    "rating"
   ]
  },
  {
   "cell_type": "code",
   "execution_count": 63,
   "id": "707bea2a-f325-4f04-bb35-ba6027c1b937",
   "metadata": {},
   "outputs": [],
   "source": [
    "ranking = list(range(1,14))"
   ]
  },
  {
   "cell_type": "code",
   "execution_count": 64,
   "id": "dfac33c1-eb71-4c04-82e7-8d7badef9d25",
   "metadata": {},
   "outputs": [
    {
     "data": {
      "text/html": [
       "<div>\n",
       "<style scoped>\n",
       "    .dataframe tbody tr th:only-of-type {\n",
       "        vertical-align: middle;\n",
       "    }\n",
       "\n",
       "    .dataframe tbody tr th {\n",
       "        vertical-align: top;\n",
       "    }\n",
       "\n",
       "    .dataframe thead th {\n",
       "        text-align: right;\n",
       "    }\n",
       "</style>\n",
       "<table border=\"1\" class=\"dataframe\">\n",
       "  <thead>\n",
       "    <tr style=\"text-align: right;\">\n",
       "      <th></th>\n",
       "      <th>Ranking</th>\n",
       "      <th>Team</th>\n",
       "      <th>Matches</th>\n",
       "      <th>Points</th>\n",
       "      <th>Rating</th>\n",
       "    </tr>\n",
       "  </thead>\n",
       "  <tbody>\n",
       "    <tr>\n",
       "      <th>0</th>\n",
       "      <td>1</td>\n",
       "      <td>Australia</td>\n",
       "      <td>21</td>\n",
       "      <td>3,603</td>\n",
       "      <td>172</td>\n",
       "    </tr>\n",
       "    <tr>\n",
       "      <th>1</th>\n",
       "      <td>2</td>\n",
       "      <td>England</td>\n",
       "      <td>28</td>\n",
       "      <td>3,342</td>\n",
       "      <td>119</td>\n",
       "    </tr>\n",
       "    <tr>\n",
       "      <th>2</th>\n",
       "      <td>3</td>\n",
       "      <td>South Africa</td>\n",
       "      <td>26</td>\n",
       "      <td>3,098</td>\n",
       "      <td>119</td>\n",
       "    </tr>\n",
       "    <tr>\n",
       "      <th>3</th>\n",
       "      <td>4</td>\n",
       "      <td>India</td>\n",
       "      <td>27</td>\n",
       "      <td>2,820</td>\n",
       "      <td>104</td>\n",
       "    </tr>\n",
       "    <tr>\n",
       "      <th>4</th>\n",
       "      <td>5</td>\n",
       "      <td>New Zealand</td>\n",
       "      <td>25</td>\n",
       "      <td>2,553</td>\n",
       "      <td>102</td>\n",
       "    </tr>\n",
       "    <tr>\n",
       "      <th>5</th>\n",
       "      <td>6</td>\n",
       "      <td>West Indies</td>\n",
       "      <td>27</td>\n",
       "      <td>2,535</td>\n",
       "      <td>94</td>\n",
       "    </tr>\n",
       "    <tr>\n",
       "      <th>6</th>\n",
       "      <td>7</td>\n",
       "      <td>Thailand</td>\n",
       "      <td>11</td>\n",
       "      <td>821</td>\n",
       "      <td>75</td>\n",
       "    </tr>\n",
       "    <tr>\n",
       "      <th>7</th>\n",
       "      <td>8</td>\n",
       "      <td>Bangladesh</td>\n",
       "      <td>14</td>\n",
       "      <td>977</td>\n",
       "      <td>70</td>\n",
       "    </tr>\n",
       "    <tr>\n",
       "      <th>8</th>\n",
       "      <td>9</td>\n",
       "      <td>Pakistan</td>\n",
       "      <td>27</td>\n",
       "      <td>1,678</td>\n",
       "      <td>62</td>\n",
       "    </tr>\n",
       "    <tr>\n",
       "      <th>9</th>\n",
       "      <td>10</td>\n",
       "      <td>Sri Lanka</td>\n",
       "      <td>9</td>\n",
       "      <td>479</td>\n",
       "      <td>53</td>\n",
       "    </tr>\n",
       "    <tr>\n",
       "      <th>10</th>\n",
       "      <td>11</td>\n",
       "      <td>Ireland</td>\n",
       "      <td>14</td>\n",
       "      <td>548</td>\n",
       "      <td>39</td>\n",
       "    </tr>\n",
       "    <tr>\n",
       "      <th>11</th>\n",
       "      <td>12</td>\n",
       "      <td>Netherlands</td>\n",
       "      <td>9</td>\n",
       "      <td>0</td>\n",
       "      <td>0</td>\n",
       "    </tr>\n",
       "    <tr>\n",
       "      <th>12</th>\n",
       "      <td>13</td>\n",
       "      <td>Zimbabwe</td>\n",
       "      <td>11</td>\n",
       "      <td>0</td>\n",
       "      <td>0</td>\n",
       "    </tr>\n",
       "  </tbody>\n",
       "</table>\n",
       "</div>"
      ],
      "text/plain": [
       "    Ranking          Team Matches Points Rating\n",
       "0         1     Australia      21  3,603    172\n",
       "1         2       England      28  3,342    119\n",
       "2         3  South Africa      26  3,098    119\n",
       "3         4         India      27  2,820    104\n",
       "4         5   New Zealand      25  2,553    102\n",
       "5         6   West Indies      27  2,535     94\n",
       "6         7      Thailand      11    821     75\n",
       "7         8    Bangladesh      14    977     70\n",
       "8         9      Pakistan      27  1,678     62\n",
       "9        10     Sri Lanka       9    479     53\n",
       "10       11       Ireland      14    548     39\n",
       "11       12   Netherlands       9      0      0\n",
       "12       13      Zimbabwe      11      0      0"
      ]
     },
     "execution_count": 64,
     "metadata": {},
     "output_type": "execute_result"
    }
   ],
   "source": [
    "df = pd.DataFrame({'Ranking':ranking,'Team':team,'Matches':matches,'Points':points,'Rating':rating})\n",
    "df"
   ]
  },
  {
   "cell_type": "code",
   "execution_count": 65,
   "id": "5fa04c6c-1fd2-4410-8cad-a15a55dccb61",
   "metadata": {},
   "outputs": [
    {
     "data": {
      "text/html": [
       "<div>\n",
       "<style scoped>\n",
       "    .dataframe tbody tr th:only-of-type {\n",
       "        vertical-align: middle;\n",
       "    }\n",
       "\n",
       "    .dataframe tbody tr th {\n",
       "        vertical-align: top;\n",
       "    }\n",
       "\n",
       "    .dataframe thead th {\n",
       "        text-align: right;\n",
       "    }\n",
       "</style>\n",
       "<table border=\"1\" class=\"dataframe\">\n",
       "  <thead>\n",
       "    <tr style=\"text-align: right;\">\n",
       "      <th></th>\n",
       "      <th>Ranking</th>\n",
       "      <th>Team</th>\n",
       "      <th>Matches</th>\n",
       "      <th>Points</th>\n",
       "      <th>Rating</th>\n",
       "    </tr>\n",
       "  </thead>\n",
       "  <tbody>\n",
       "    <tr>\n",
       "      <th>0</th>\n",
       "      <td>1</td>\n",
       "      <td>Australia</td>\n",
       "      <td>21</td>\n",
       "      <td>3,603</td>\n",
       "      <td>172</td>\n",
       "    </tr>\n",
       "    <tr>\n",
       "      <th>1</th>\n",
       "      <td>2</td>\n",
       "      <td>England</td>\n",
       "      <td>28</td>\n",
       "      <td>3,342</td>\n",
       "      <td>119</td>\n",
       "    </tr>\n",
       "    <tr>\n",
       "      <th>2</th>\n",
       "      <td>3</td>\n",
       "      <td>South Africa</td>\n",
       "      <td>26</td>\n",
       "      <td>3,098</td>\n",
       "      <td>119</td>\n",
       "    </tr>\n",
       "    <tr>\n",
       "      <th>3</th>\n",
       "      <td>4</td>\n",
       "      <td>India</td>\n",
       "      <td>27</td>\n",
       "      <td>2,820</td>\n",
       "      <td>104</td>\n",
       "    </tr>\n",
       "    <tr>\n",
       "      <th>4</th>\n",
       "      <td>5</td>\n",
       "      <td>New Zealand</td>\n",
       "      <td>25</td>\n",
       "      <td>2,553</td>\n",
       "      <td>102</td>\n",
       "    </tr>\n",
       "    <tr>\n",
       "      <th>5</th>\n",
       "      <td>6</td>\n",
       "      <td>West Indies</td>\n",
       "      <td>27</td>\n",
       "      <td>2,535</td>\n",
       "      <td>94</td>\n",
       "    </tr>\n",
       "    <tr>\n",
       "      <th>6</th>\n",
       "      <td>7</td>\n",
       "      <td>Thailand</td>\n",
       "      <td>11</td>\n",
       "      <td>821</td>\n",
       "      <td>75</td>\n",
       "    </tr>\n",
       "    <tr>\n",
       "      <th>7</th>\n",
       "      <td>8</td>\n",
       "      <td>Bangladesh</td>\n",
       "      <td>14</td>\n",
       "      <td>977</td>\n",
       "      <td>70</td>\n",
       "    </tr>\n",
       "    <tr>\n",
       "      <th>8</th>\n",
       "      <td>9</td>\n",
       "      <td>Pakistan</td>\n",
       "      <td>27</td>\n",
       "      <td>1,678</td>\n",
       "      <td>62</td>\n",
       "    </tr>\n",
       "    <tr>\n",
       "      <th>9</th>\n",
       "      <td>10</td>\n",
       "      <td>Sri Lanka</td>\n",
       "      <td>9</td>\n",
       "      <td>479</td>\n",
       "      <td>53</td>\n",
       "    </tr>\n",
       "  </tbody>\n",
       "</table>\n",
       "</div>"
      ],
      "text/plain": [
       "   Ranking          Team Matches Points Rating\n",
       "0        1     Australia      21  3,603    172\n",
       "1        2       England      28  3,342    119\n",
       "2        3  South Africa      26  3,098    119\n",
       "3        4         India      27  2,820    104\n",
       "4        5   New Zealand      25  2,553    102\n",
       "5        6   West Indies      27  2,535     94\n",
       "6        7      Thailand      11    821     75\n",
       "7        8    Bangladesh      14    977     70\n",
       "8        9      Pakistan      27  1,678     62\n",
       "9       10     Sri Lanka       9    479     53"
      ]
     },
     "execution_count": 65,
     "metadata": {},
     "output_type": "execute_result"
    }
   ],
   "source": [
    "#Top 10 ODI teams in women’s cricket along with the records for matches, points and rating.\n",
    "df.head(10)"
   ]
  },
  {
   "cell_type": "code",
   "execution_count": null,
   "id": "6d6cb499-17d8-485b-a4b1-6a56d25018c8",
   "metadata": {},
   "outputs": [],
   "source": []
  },
  {
   "cell_type": "markdown",
   "id": "4dc97e95-aea8-42af-90ea-e6aebc0d2e72",
   "metadata": {},
   "source": [
    "Top 10 women’s ODI Batting players along with the records of their team and rating."
   ]
  },
  {
   "cell_type": "code",
   "execution_count": 66,
   "id": "a66461f7-3088-47be-b62a-3429da0c3639",
   "metadata": {},
   "outputs": [
    {
     "data": {
      "text/plain": [
       "<Response [200]>"
      ]
     },
     "execution_count": 66,
     "metadata": {},
     "output_type": "execute_result"
    }
   ],
   "source": [
    "page = requests.get('https://www.icc-cricket.com/rankings/womens/player-rankings/odi/batting')\n",
    "page"
   ]
  },
  {
   "cell_type": "code",
   "execution_count": 67,
   "id": "e045393e-41b1-4f5f-8ecd-6f3f764e6750",
   "metadata": {},
   "outputs": [],
   "source": [
    "soup = BeautifulSoup(page.content,'html.parser')"
   ]
  },
  {
   "cell_type": "code",
   "execution_count": 68,
   "id": "6bde0c02-82d3-4477-8a2f-d67d0437bbb5",
   "metadata": {},
   "outputs": [
    {
     "data": {
      "text/plain": [
       "100"
      ]
     },
     "execution_count": 68,
     "metadata": {},
     "output_type": "execute_result"
    }
   ],
   "source": [
    "player = []\n",
    "for i in soup.find_all('div',class_=\"rankings-block__banner--name-large\"):\n",
    "    player.append(i.text)\n",
    "for i in soup.find_all('td',class_=\"table-body__cell rankings-table__name name\"):\n",
    "    player.append(i.text.split('\\n')[1])\n",
    "len(player)"
   ]
  },
  {
   "cell_type": "code",
   "execution_count": 70,
   "id": "92380506-5e0c-4e95-b89a-6f8f6baea5f8",
   "metadata": {},
   "outputs": [
    {
     "data": {
      "text/plain": [
       "100"
      ]
     },
     "execution_count": 70,
     "metadata": {},
     "output_type": "execute_result"
    }
   ],
   "source": [
    "team = []\n",
    "for i in soup.find_all('div',class_=\"rankings-block__banner--nationality\"):\n",
    "    team.append(i.text.split('\\n')[2])\n",
    "for i in soup.find_all('span',class_=\"table-body__logo-text\"):\n",
    "    team.append(i.text)\n",
    "len(team)"
   ]
  },
  {
   "cell_type": "code",
   "execution_count": 71,
   "id": "5c7d9b3c-50ca-4dd8-be05-564b7d1b2ddb",
   "metadata": {},
   "outputs": [
    {
     "data": {
      "text/plain": [
       "100"
      ]
     },
     "execution_count": 71,
     "metadata": {},
     "output_type": "execute_result"
    }
   ],
   "source": [
    "rating = []\n",
    "for i in soup.find_all('div',class_=\"rankings-block__banner--rating\"):\n",
    "    rating.append(i.text)\n",
    "for i in soup.find_all('td',class_=\"table-body__cell rating\"):\n",
    "    rating.append(i.text)\n",
    "len(rating)"
   ]
  },
  {
   "cell_type": "code",
   "execution_count": 72,
   "id": "eccdc9f5-3dc0-4b9b-9380-120ed053a798",
   "metadata": {},
   "outputs": [],
   "source": [
    "position = list(range(1,101))"
   ]
  },
  {
   "cell_type": "code",
   "execution_count": 73,
   "id": "3a07dcdd-f576-4c56-972b-8700a09e6109",
   "metadata": {},
   "outputs": [
    {
     "data": {
      "text/html": [
       "<div>\n",
       "<style scoped>\n",
       "    .dataframe tbody tr th:only-of-type {\n",
       "        vertical-align: middle;\n",
       "    }\n",
       "\n",
       "    .dataframe tbody tr th {\n",
       "        vertical-align: top;\n",
       "    }\n",
       "\n",
       "    .dataframe thead th {\n",
       "        text-align: right;\n",
       "    }\n",
       "</style>\n",
       "<table border=\"1\" class=\"dataframe\">\n",
       "  <thead>\n",
       "    <tr style=\"text-align: right;\">\n",
       "      <th></th>\n",
       "      <th>Position</th>\n",
       "      <th>Player</th>\n",
       "      <th>Team</th>\n",
       "      <th>Rating</th>\n",
       "    </tr>\n",
       "  </thead>\n",
       "  <tbody>\n",
       "    <tr>\n",
       "      <th>0</th>\n",
       "      <td>1</td>\n",
       "      <td>Beth Mooney</td>\n",
       "      <td>AUS</td>\n",
       "      <td>754</td>\n",
       "    </tr>\n",
       "    <tr>\n",
       "      <th>1</th>\n",
       "      <td>2</td>\n",
       "      <td>Laura Wolvaardt</td>\n",
       "      <td>SA</td>\n",
       "      <td>732</td>\n",
       "    </tr>\n",
       "    <tr>\n",
       "      <th>2</th>\n",
       "      <td>3</td>\n",
       "      <td>Natalie Sciver</td>\n",
       "      <td>ENG</td>\n",
       "      <td>731</td>\n",
       "    </tr>\n",
       "    <tr>\n",
       "      <th>3</th>\n",
       "      <td>4</td>\n",
       "      <td>Meg Lanning</td>\n",
       "      <td>AUS</td>\n",
       "      <td>717</td>\n",
       "    </tr>\n",
       "    <tr>\n",
       "      <th>4</th>\n",
       "      <td>5</td>\n",
       "      <td>Harmanpreet Kaur</td>\n",
       "      <td>IND</td>\n",
       "      <td>716</td>\n",
       "    </tr>\n",
       "    <tr>\n",
       "      <th>...</th>\n",
       "      <td>...</td>\n",
       "      <td>...</td>\n",
       "      <td>...</td>\n",
       "      <td>...</td>\n",
       "    </tr>\n",
       "    <tr>\n",
       "      <th>95</th>\n",
       "      <td>96</td>\n",
       "      <td>Kim Garth</td>\n",
       "      <td>AUS</td>\n",
       "      <td>202</td>\n",
       "    </tr>\n",
       "    <tr>\n",
       "      <th>96</th>\n",
       "      <td>97</td>\n",
       "      <td>Arlene Kelly</td>\n",
       "      <td>IRE</td>\n",
       "      <td>199</td>\n",
       "    </tr>\n",
       "    <tr>\n",
       "      <th>97</th>\n",
       "      <td>98</td>\n",
       "      <td>Fatima Sana</td>\n",
       "      <td>PAK</td>\n",
       "      <td>197</td>\n",
       "    </tr>\n",
       "    <tr>\n",
       "      <th>98</th>\n",
       "      <td>99</td>\n",
       "      <td>Mary-Anne Musonda</td>\n",
       "      <td>ZIM</td>\n",
       "      <td>196</td>\n",
       "    </tr>\n",
       "    <tr>\n",
       "      <th>99</th>\n",
       "      <td>100</td>\n",
       "      <td>Lea Tahuhu</td>\n",
       "      <td>NZ</td>\n",
       "      <td>196</td>\n",
       "    </tr>\n",
       "  </tbody>\n",
       "</table>\n",
       "<p>100 rows × 4 columns</p>\n",
       "</div>"
      ],
      "text/plain": [
       "    Position             Player Team Rating\n",
       "0          1        Beth Mooney  AUS    754\n",
       "1          2    Laura Wolvaardt   SA    732\n",
       "2          3     Natalie Sciver  ENG    731\n",
       "3          4        Meg Lanning  AUS    717\n",
       "4          5   Harmanpreet Kaur  IND    716\n",
       "..       ...                ...  ...    ...\n",
       "95        96          Kim Garth  AUS    202\n",
       "96        97       Arlene Kelly  IRE    199\n",
       "97        98        Fatima Sana  PAK    197\n",
       "98        99  Mary-Anne Musonda  ZIM    196\n",
       "99       100         Lea Tahuhu   NZ    196\n",
       "\n",
       "[100 rows x 4 columns]"
      ]
     },
     "execution_count": 73,
     "metadata": {},
     "output_type": "execute_result"
    }
   ],
   "source": [
    "df = pd.DataFrame({'Position':position,'Player':player,'Team':team,'Rating':rating})\n",
    "df"
   ]
  },
  {
   "cell_type": "code",
   "execution_count": 74,
   "id": "281e6969-ffff-494f-a351-afc65c564261",
   "metadata": {},
   "outputs": [
    {
     "data": {
      "text/html": [
       "<div>\n",
       "<style scoped>\n",
       "    .dataframe tbody tr th:only-of-type {\n",
       "        vertical-align: middle;\n",
       "    }\n",
       "\n",
       "    .dataframe tbody tr th {\n",
       "        vertical-align: top;\n",
       "    }\n",
       "\n",
       "    .dataframe thead th {\n",
       "        text-align: right;\n",
       "    }\n",
       "</style>\n",
       "<table border=\"1\" class=\"dataframe\">\n",
       "  <thead>\n",
       "    <tr style=\"text-align: right;\">\n",
       "      <th></th>\n",
       "      <th>Position</th>\n",
       "      <th>Player</th>\n",
       "      <th>Team</th>\n",
       "      <th>Rating</th>\n",
       "    </tr>\n",
       "  </thead>\n",
       "  <tbody>\n",
       "    <tr>\n",
       "      <th>0</th>\n",
       "      <td>1</td>\n",
       "      <td>Beth Mooney</td>\n",
       "      <td>AUS</td>\n",
       "      <td>754</td>\n",
       "    </tr>\n",
       "    <tr>\n",
       "      <th>1</th>\n",
       "      <td>2</td>\n",
       "      <td>Laura Wolvaardt</td>\n",
       "      <td>SA</td>\n",
       "      <td>732</td>\n",
       "    </tr>\n",
       "    <tr>\n",
       "      <th>2</th>\n",
       "      <td>3</td>\n",
       "      <td>Natalie Sciver</td>\n",
       "      <td>ENG</td>\n",
       "      <td>731</td>\n",
       "    </tr>\n",
       "    <tr>\n",
       "      <th>3</th>\n",
       "      <td>4</td>\n",
       "      <td>Meg Lanning</td>\n",
       "      <td>AUS</td>\n",
       "      <td>717</td>\n",
       "    </tr>\n",
       "    <tr>\n",
       "      <th>4</th>\n",
       "      <td>5</td>\n",
       "      <td>Harmanpreet Kaur</td>\n",
       "      <td>IND</td>\n",
       "      <td>716</td>\n",
       "    </tr>\n",
       "    <tr>\n",
       "      <th>5</th>\n",
       "      <td>6</td>\n",
       "      <td>Smriti Mandhana</td>\n",
       "      <td>IND</td>\n",
       "      <td>714</td>\n",
       "    </tr>\n",
       "    <tr>\n",
       "      <th>6</th>\n",
       "      <td>7</td>\n",
       "      <td>Chamari Athapaththu</td>\n",
       "      <td>SL</td>\n",
       "      <td>673</td>\n",
       "    </tr>\n",
       "    <tr>\n",
       "      <th>7</th>\n",
       "      <td>8</td>\n",
       "      <td>Ellyse Perry</td>\n",
       "      <td>AUS</td>\n",
       "      <td>626</td>\n",
       "    </tr>\n",
       "    <tr>\n",
       "      <th>8</th>\n",
       "      <td>9</td>\n",
       "      <td>Tammy Beaumont</td>\n",
       "      <td>ENG</td>\n",
       "      <td>595</td>\n",
       "    </tr>\n",
       "    <tr>\n",
       "      <th>9</th>\n",
       "      <td>10</td>\n",
       "      <td>Stafanie Taylor</td>\n",
       "      <td>WI</td>\n",
       "      <td>588</td>\n",
       "    </tr>\n",
       "  </tbody>\n",
       "</table>\n",
       "</div>"
      ],
      "text/plain": [
       "   Position               Player Team Rating\n",
       "0         1          Beth Mooney  AUS    754\n",
       "1         2      Laura Wolvaardt   SA    732\n",
       "2         3       Natalie Sciver  ENG    731\n",
       "3         4          Meg Lanning  AUS    717\n",
       "4         5     Harmanpreet Kaur  IND    716\n",
       "5         6      Smriti Mandhana  IND    714\n",
       "6         7  Chamari Athapaththu   SL    673\n",
       "7         8         Ellyse Perry  AUS    626\n",
       "8         9       Tammy Beaumont  ENG    595\n",
       "9        10      Stafanie Taylor   WI    588"
      ]
     },
     "execution_count": 74,
     "metadata": {},
     "output_type": "execute_result"
    }
   ],
   "source": [
    "#Top 10 women’s ODI Batting players along with the records of their team and rating.\n",
    "df.head(10)"
   ]
  },
  {
   "cell_type": "code",
   "execution_count": null,
   "id": "a043707c-ced8-4259-b607-515d5975039e",
   "metadata": {},
   "outputs": [],
   "source": []
  },
  {
   "cell_type": "markdown",
   "id": "d885c6de-7923-45a9-822a-df67010bd63f",
   "metadata": {},
   "source": [
    "Top 10 women’s ODI all-rounder along with the records of their team and rating."
   ]
  },
  {
   "cell_type": "code",
   "execution_count": null,
   "id": "f4be7c6f-3a5f-4480-b709-cdb0cf313ebf",
   "metadata": {},
   "outputs": [],
   "source": []
  },
  {
   "cell_type": "code",
   "execution_count": 75,
   "id": "f1936a04-b83c-4531-9b8c-d836e7ca2038",
   "metadata": {},
   "outputs": [
    {
     "data": {
      "text/plain": [
       "<Response [200]>"
      ]
     },
     "execution_count": 75,
     "metadata": {},
     "output_type": "execute_result"
    }
   ],
   "source": [
    "page = requests.get('https://www.icc-cricket.com/rankings/womens/player-rankings/odi/all-rounder')\n",
    "page"
   ]
  },
  {
   "cell_type": "code",
   "execution_count": 76,
   "id": "93352758-5fbf-420e-bfc1-23178982847a",
   "metadata": {},
   "outputs": [],
   "source": [
    "soup = BeautifulSoup(page.content,'html.parser')"
   ]
  },
  {
   "cell_type": "code",
   "execution_count": 77,
   "id": "1351e4a8-9500-4f66-aef0-b14fa4aceef0",
   "metadata": {},
   "outputs": [
    {
     "data": {
      "text/plain": [
       "20"
      ]
     },
     "execution_count": 77,
     "metadata": {},
     "output_type": "execute_result"
    }
   ],
   "source": [
    "player = []\n",
    "for i in soup.find_all('div',class_=\"rankings-block__banner--name-large\"):\n",
    "    player.append(i.text)\n",
    "for i in soup.find_all('td',class_=\"table-body__cell rankings-table__name name\"):\n",
    "    player.append(i.text.split('\\n')[1])\n",
    "len(player)"
   ]
  },
  {
   "cell_type": "code",
   "execution_count": 78,
   "id": "10da9742-2d80-4560-ad8c-b8c959d8aea3",
   "metadata": {},
   "outputs": [
    {
     "data": {
      "text/plain": [
       "20"
      ]
     },
     "execution_count": 78,
     "metadata": {},
     "output_type": "execute_result"
    }
   ],
   "source": [
    "team = []\n",
    "for i in soup.find_all('div',class_=\"rankings-block__banner--nationality\"):\n",
    "    team.append(i.text.split('\\n')[2])\n",
    "for i in soup.find_all('span',class_=\"table-body__logo-text\"):\n",
    "    team.append(i.text)\n",
    "len(team)"
   ]
  },
  {
   "cell_type": "code",
   "execution_count": 79,
   "id": "e63c93f5-a84a-471e-a3b6-d024f5405dbc",
   "metadata": {},
   "outputs": [
    {
     "data": {
      "text/plain": [
       "20"
      ]
     },
     "execution_count": 79,
     "metadata": {},
     "output_type": "execute_result"
    }
   ],
   "source": [
    "rating = []\n",
    "for i in soup.find_all('div',class_=\"rankings-block__banner--rating\"):\n",
    "    rating.append(i.text)\n",
    "for i in soup.find_all('td',class_=\"table-body__cell rating\"):\n",
    "    rating.append(i.text)\n",
    "len(rating)"
   ]
  },
  {
   "cell_type": "code",
   "execution_count": 81,
   "id": "3c34c62d-ac3f-4d05-8b55-5b355c51c651",
   "metadata": {},
   "outputs": [],
   "source": [
    "position = list(range(1,21))"
   ]
  },
  {
   "cell_type": "code",
   "execution_count": 82,
   "id": "f2780cbf-e092-4362-b7d7-d2f953805f13",
   "metadata": {},
   "outputs": [
    {
     "data": {
      "text/html": [
       "<div>\n",
       "<style scoped>\n",
       "    .dataframe tbody tr th:only-of-type {\n",
       "        vertical-align: middle;\n",
       "    }\n",
       "\n",
       "    .dataframe tbody tr th {\n",
       "        vertical-align: top;\n",
       "    }\n",
       "\n",
       "    .dataframe thead th {\n",
       "        text-align: right;\n",
       "    }\n",
       "</style>\n",
       "<table border=\"1\" class=\"dataframe\">\n",
       "  <thead>\n",
       "    <tr style=\"text-align: right;\">\n",
       "      <th></th>\n",
       "      <th>Position</th>\n",
       "      <th>Player</th>\n",
       "      <th>Team</th>\n",
       "      <th>Rating</th>\n",
       "    </tr>\n",
       "  </thead>\n",
       "  <tbody>\n",
       "    <tr>\n",
       "      <th>0</th>\n",
       "      <td>1</td>\n",
       "      <td>Hayley Matthews</td>\n",
       "      <td>WI</td>\n",
       "      <td>373</td>\n",
       "    </tr>\n",
       "    <tr>\n",
       "      <th>1</th>\n",
       "      <td>2</td>\n",
       "      <td>Natalie Sciver</td>\n",
       "      <td>ENG</td>\n",
       "      <td>371</td>\n",
       "    </tr>\n",
       "    <tr>\n",
       "      <th>2</th>\n",
       "      <td>3</td>\n",
       "      <td>Ellyse Perry</td>\n",
       "      <td>AUS</td>\n",
       "      <td>366</td>\n",
       "    </tr>\n",
       "    <tr>\n",
       "      <th>3</th>\n",
       "      <td>4</td>\n",
       "      <td>Marizanne Kapp</td>\n",
       "      <td>SA</td>\n",
       "      <td>349</td>\n",
       "    </tr>\n",
       "    <tr>\n",
       "      <th>4</th>\n",
       "      <td>5</td>\n",
       "      <td>Amelia Kerr</td>\n",
       "      <td>NZ</td>\n",
       "      <td>336</td>\n",
       "    </tr>\n",
       "    <tr>\n",
       "      <th>5</th>\n",
       "      <td>6</td>\n",
       "      <td>Deepti Sharma</td>\n",
       "      <td>IND</td>\n",
       "      <td>322</td>\n",
       "    </tr>\n",
       "    <tr>\n",
       "      <th>6</th>\n",
       "      <td>7</td>\n",
       "      <td>Ashleigh Gardner</td>\n",
       "      <td>AUS</td>\n",
       "      <td>292</td>\n",
       "    </tr>\n",
       "    <tr>\n",
       "      <th>7</th>\n",
       "      <td>8</td>\n",
       "      <td>Jess Jonassen</td>\n",
       "      <td>AUS</td>\n",
       "      <td>250</td>\n",
       "    </tr>\n",
       "    <tr>\n",
       "      <th>8</th>\n",
       "      <td>9</td>\n",
       "      <td>Nida Dar</td>\n",
       "      <td>PAK</td>\n",
       "      <td>232</td>\n",
       "    </tr>\n",
       "    <tr>\n",
       "      <th>9</th>\n",
       "      <td>10</td>\n",
       "      <td>Sophie Ecclestone</td>\n",
       "      <td>ENG</td>\n",
       "      <td>205</td>\n",
       "    </tr>\n",
       "    <tr>\n",
       "      <th>10</th>\n",
       "      <td>11</td>\n",
       "      <td>Sophie Devine</td>\n",
       "      <td>NZ</td>\n",
       "      <td>201</td>\n",
       "    </tr>\n",
       "    <tr>\n",
       "      <th>11</th>\n",
       "      <td>12</td>\n",
       "      <td>Chloe-Lesleigh Tryon</td>\n",
       "      <td>SA</td>\n",
       "      <td>197</td>\n",
       "    </tr>\n",
       "    <tr>\n",
       "      <th>12</th>\n",
       "      <td>13</td>\n",
       "      <td>Chamari Athapaththu</td>\n",
       "      <td>SL</td>\n",
       "      <td>195</td>\n",
       "    </tr>\n",
       "    <tr>\n",
       "      <th>13</th>\n",
       "      <td>14</td>\n",
       "      <td>Katherine Brunt</td>\n",
       "      <td>ENG</td>\n",
       "      <td>195</td>\n",
       "    </tr>\n",
       "    <tr>\n",
       "      <th>14</th>\n",
       "      <td>15</td>\n",
       "      <td>Stafanie Taylor</td>\n",
       "      <td>WI</td>\n",
       "      <td>181</td>\n",
       "    </tr>\n",
       "    <tr>\n",
       "      <th>15</th>\n",
       "      <td>16</td>\n",
       "      <td>Rumana Ahmed</td>\n",
       "      <td>BAN</td>\n",
       "      <td>176</td>\n",
       "    </tr>\n",
       "    <tr>\n",
       "      <th>16</th>\n",
       "      <td>17</td>\n",
       "      <td>Charlotte Dean</td>\n",
       "      <td>ENG</td>\n",
       "      <td>174</td>\n",
       "    </tr>\n",
       "    <tr>\n",
       "      <th>17</th>\n",
       "      <td>18</td>\n",
       "      <td>Sune Luus</td>\n",
       "      <td>SA</td>\n",
       "      <td>171</td>\n",
       "    </tr>\n",
       "    <tr>\n",
       "      <th>18</th>\n",
       "      <td>19</td>\n",
       "      <td>Salma Khatun</td>\n",
       "      <td>BAN</td>\n",
       "      <td>162</td>\n",
       "    </tr>\n",
       "    <tr>\n",
       "      <th>19</th>\n",
       "      <td>20</td>\n",
       "      <td>Harmanpreet Kaur</td>\n",
       "      <td>IND</td>\n",
       "      <td>157</td>\n",
       "    </tr>\n",
       "  </tbody>\n",
       "</table>\n",
       "</div>"
      ],
      "text/plain": [
       "    Position                Player Team Rating\n",
       "0          1       Hayley Matthews   WI    373\n",
       "1          2        Natalie Sciver  ENG    371\n",
       "2          3          Ellyse Perry  AUS    366\n",
       "3          4        Marizanne Kapp   SA    349\n",
       "4          5           Amelia Kerr   NZ    336\n",
       "5          6         Deepti Sharma  IND    322\n",
       "6          7      Ashleigh Gardner  AUS    292\n",
       "7          8         Jess Jonassen  AUS    250\n",
       "8          9              Nida Dar  PAK    232\n",
       "9         10     Sophie Ecclestone  ENG    205\n",
       "10        11         Sophie Devine   NZ    201\n",
       "11        12  Chloe-Lesleigh Tryon   SA    197\n",
       "12        13   Chamari Athapaththu   SL    195\n",
       "13        14       Katherine Brunt  ENG    195\n",
       "14        15       Stafanie Taylor   WI    181\n",
       "15        16          Rumana Ahmed  BAN    176\n",
       "16        17        Charlotte Dean  ENG    174\n",
       "17        18             Sune Luus   SA    171\n",
       "18        19          Salma Khatun  BAN    162\n",
       "19        20      Harmanpreet Kaur  IND    157"
      ]
     },
     "execution_count": 82,
     "metadata": {},
     "output_type": "execute_result"
    }
   ],
   "source": [
    "df = pd.DataFrame({'Position':position,'Player':player,'Team':team,'Rating':rating})\n",
    "df"
   ]
  },
  {
   "cell_type": "code",
   "execution_count": 84,
   "id": "14422ff1-6391-46c9-ba49-3869718a6165",
   "metadata": {},
   "outputs": [
    {
     "data": {
      "text/html": [
       "<div>\n",
       "<style scoped>\n",
       "    .dataframe tbody tr th:only-of-type {\n",
       "        vertical-align: middle;\n",
       "    }\n",
       "\n",
       "    .dataframe tbody tr th {\n",
       "        vertical-align: top;\n",
       "    }\n",
       "\n",
       "    .dataframe thead th {\n",
       "        text-align: right;\n",
       "    }\n",
       "</style>\n",
       "<table border=\"1\" class=\"dataframe\">\n",
       "  <thead>\n",
       "    <tr style=\"text-align: right;\">\n",
       "      <th></th>\n",
       "      <th>Position</th>\n",
       "      <th>Player</th>\n",
       "      <th>Team</th>\n",
       "      <th>Rating</th>\n",
       "    </tr>\n",
       "  </thead>\n",
       "  <tbody>\n",
       "    <tr>\n",
       "      <th>0</th>\n",
       "      <td>1</td>\n",
       "      <td>Hayley Matthews</td>\n",
       "      <td>WI</td>\n",
       "      <td>373</td>\n",
       "    </tr>\n",
       "    <tr>\n",
       "      <th>1</th>\n",
       "      <td>2</td>\n",
       "      <td>Natalie Sciver</td>\n",
       "      <td>ENG</td>\n",
       "      <td>371</td>\n",
       "    </tr>\n",
       "    <tr>\n",
       "      <th>2</th>\n",
       "      <td>3</td>\n",
       "      <td>Ellyse Perry</td>\n",
       "      <td>AUS</td>\n",
       "      <td>366</td>\n",
       "    </tr>\n",
       "    <tr>\n",
       "      <th>3</th>\n",
       "      <td>4</td>\n",
       "      <td>Marizanne Kapp</td>\n",
       "      <td>SA</td>\n",
       "      <td>349</td>\n",
       "    </tr>\n",
       "    <tr>\n",
       "      <th>4</th>\n",
       "      <td>5</td>\n",
       "      <td>Amelia Kerr</td>\n",
       "      <td>NZ</td>\n",
       "      <td>336</td>\n",
       "    </tr>\n",
       "    <tr>\n",
       "      <th>5</th>\n",
       "      <td>6</td>\n",
       "      <td>Deepti Sharma</td>\n",
       "      <td>IND</td>\n",
       "      <td>322</td>\n",
       "    </tr>\n",
       "    <tr>\n",
       "      <th>6</th>\n",
       "      <td>7</td>\n",
       "      <td>Ashleigh Gardner</td>\n",
       "      <td>AUS</td>\n",
       "      <td>292</td>\n",
       "    </tr>\n",
       "    <tr>\n",
       "      <th>7</th>\n",
       "      <td>8</td>\n",
       "      <td>Jess Jonassen</td>\n",
       "      <td>AUS</td>\n",
       "      <td>250</td>\n",
       "    </tr>\n",
       "    <tr>\n",
       "      <th>8</th>\n",
       "      <td>9</td>\n",
       "      <td>Nida Dar</td>\n",
       "      <td>PAK</td>\n",
       "      <td>232</td>\n",
       "    </tr>\n",
       "    <tr>\n",
       "      <th>9</th>\n",
       "      <td>10</td>\n",
       "      <td>Sophie Ecclestone</td>\n",
       "      <td>ENG</td>\n",
       "      <td>205</td>\n",
       "    </tr>\n",
       "  </tbody>\n",
       "</table>\n",
       "</div>"
      ],
      "text/plain": [
       "   Position             Player Team Rating\n",
       "0         1    Hayley Matthews   WI    373\n",
       "1         2     Natalie Sciver  ENG    371\n",
       "2         3       Ellyse Perry  AUS    366\n",
       "3         4     Marizanne Kapp   SA    349\n",
       "4         5        Amelia Kerr   NZ    336\n",
       "5         6      Deepti Sharma  IND    322\n",
       "6         7   Ashleigh Gardner  AUS    292\n",
       "7         8      Jess Jonassen  AUS    250\n",
       "8         9           Nida Dar  PAK    232\n",
       "9        10  Sophie Ecclestone  ENG    205"
      ]
     },
     "execution_count": 84,
     "metadata": {},
     "output_type": "execute_result"
    }
   ],
   "source": [
    "#Top 10 women’s ODI all-rounder along with the records of their team and rating.\n",
    "df.head(10)"
   ]
  },
  {
   "cell_type": "code",
   "execution_count": null,
   "id": "31131b79-4eef-458b-841d-297201c4f7c0",
   "metadata": {},
   "outputs": [],
   "source": []
  },
  {
   "cell_type": "markdown",
   "id": "410784f9-925f-4122-bab3-d7ee6380f0cd",
   "metadata": {},
   "source": [
    "Question5: Write a python program to scrape mentioned news details from https://www.cnbc.com/world/?region=world and make data frame-\n",
    "i) Headline\n",
    "ii) Time\n",
    "iii) News Link"
   ]
  },
  {
   "cell_type": "code",
   "execution_count": null,
   "id": "789c8c98-edc9-4c6f-92ca-793b03759e91",
   "metadata": {},
   "outputs": [],
   "source": []
  },
  {
   "cell_type": "code",
   "execution_count": 85,
   "id": "7793ea45-2633-4ffa-a347-51c5e78e0f1e",
   "metadata": {},
   "outputs": [
    {
     "data": {
      "text/plain": [
       "<Response [200]>"
      ]
     },
     "execution_count": 85,
     "metadata": {},
     "output_type": "execute_result"
    }
   ],
   "source": [
    "page = requests.get('https://www.cnbc.com/world/?region=world')\n",
    "page"
   ]
  },
  {
   "cell_type": "code",
   "execution_count": 86,
   "id": "afa795cc-e4ee-4f4b-a481-14a674b7999f",
   "metadata": {},
   "outputs": [],
   "source": [
    "soup = BeautifulSoup(page.content,'html.parser')"
   ]
  },
  {
   "cell_type": "code",
   "execution_count": 94,
   "id": "517dc1a9-15a0-4871-be3c-928b4ac4b593",
   "metadata": {},
   "outputs": [
    {
     "data": {
      "text/plain": [
       "\"6 remote and hybrid companies that help pay for employees' vacations\""
      ]
     },
     "execution_count": 94,
     "metadata": {},
     "output_type": "execute_result"
    }
   ],
   "source": [
    "headline=soup.find('a',class_=\"LatestNews-headline\")\n",
    "headline.text"
   ]
  },
  {
   "cell_type": "code",
   "execution_count": 96,
   "id": "b22f8b8d-8d75-4368-9e8c-9ee1d5e89606",
   "metadata": {},
   "outputs": [
    {
     "data": {
      "text/plain": [
       "[\"6 remote and hybrid companies that help pay for employees' vacations\",\n",
       " \"Nvidia stole the earnings spotlight. This week, it's all about the debt ceiling \",\n",
       " 'Chinese apps remain hugely popular in the U.S. despite efforts to ban TikTok',\n",
       " \"Harvard psychologist: If you use any of these 9 phrases, 'you're more emotionally secure than most'\",\n",
       " \"Restaurants expect strong sales this summer. Consumers aren't so sure\",\n",
       " '529 plans: How to score a tax break while saving for future college expenses',\n",
       " 'These stocks may be due for a pullback after topping analyst price targets',\n",
       " 'UBS names its top-conviction picks for the rest of 2023',\n",
       " 'What comes next for ESG funds after the political backlash ',\n",
       " \"Putin congratulates 'dear friend' Erdogan as NATO's Turkey challenge looks set to stay \",\n",
       " '529 college savings plans: How to protect your money in a downturn',\n",
       " 'This is why streaming services are removing tons of movies and shows',\n",
       " 'UK government says it is meeting with food bosses over high prices — but denies it will impose caps',\n",
       " 'Spanish prime minister calls for early general election',\n",
       " \"Russia bolsters attack on Kyiv; Putin congratulates 'dear friend' Erdogan on reelection\",\n",
       " \"Traders optimistic on debt ceiling deal — one strategist says it's an opportunity\",\n",
       " \"'It's not a bubble yet': Wharton's Jeremy Siegel predicts Big Tech boom fueled by A.I.\",\n",
       " 'CNBC Daily Open: After the debt ceiling, inflation',\n",
       " 'Europe markets close lower after U.S. debt ceiling deal; SBB up 4% after it says sale possible',\n",
       " \"Chinese consumers won't return to pre-Covid spending soon, Morgan Stanley says\",\n",
       " 'The biggest money mistakes that could change your future, according to experts',\n",
       " 'Turkey’s lira sinks to fresh record low after Erdogan re-election',\n",
       " \"Major central banks were expected to pause rate hikes soon. Now it's not so clear cut\",\n",
       " 'CNBC Daily Open: First the debt ceiling, then inflation',\n",
       " 'TSMC or Samsung? One chipmaker is the better play on A.I., geopolitics and earnings, analyst says',\n",
       " 'How much of A.I. is just hype? A bull and a bear share tips on how to invest',\n",
       " 'Asia markets mixed after U.S. reaches debt ceiling deal; Japan stocks at highest since July 1990',\n",
       " \"Turkey's President Erdogan seals election victory to enter third decade in power\",\n",
       " \"Debt ceiling deal will be 'transformational' for Americans, McCarthy says\",\n",
       " 'NYC, Las Vegas, D.C.: Free wellness activities in 5 major U.S. cities']"
      ]
     },
     "execution_count": 96,
     "metadata": {},
     "output_type": "execute_result"
    }
   ],
   "source": [
    "headline = []\n",
    "for i in soup.find_all('a',class_=\"LatestNews-headline\"):\n",
    "    headline.append(i.text)\n",
    "headline"
   ]
  },
  {
   "cell_type": "code",
   "execution_count": 97,
   "id": "b5eca077-1835-4aa4-b095-6d023e49e774",
   "metadata": {},
   "outputs": [
    {
     "data": {
      "text/plain": [
       "['3 Hours Ago',\n",
       " '3 Hours Ago',\n",
       " '3 Hours Ago',\n",
       " '3 Hours Ago',\n",
       " '4 Hours Ago',\n",
       " '4 Hours Ago',\n",
       " '4 Hours Ago',\n",
       " '4 Hours Ago',\n",
       " '4 Hours Ago',\n",
       " '4 Hours Ago',\n",
       " '5 Hours Ago',\n",
       " '5 Hours Ago',\n",
       " '5 Hours Ago',\n",
       " '7 Hours Ago',\n",
       " '9 Hours Ago',\n",
       " '10 Hours Ago',\n",
       " '10 Hours Ago',\n",
       " '10 Hours Ago',\n",
       " '11 Hours Ago',\n",
       " '12 Hours Ago',\n",
       " '13 Hours Ago',\n",
       " '13 Hours Ago',\n",
       " '14 Hours Ago',\n",
       " '16 Hours Ago',\n",
       " '17 Hours Ago',\n",
       " '17 Hours Ago',\n",
       " '17 Hours Ago',\n",
       " '23 Hours Ago',\n",
       " 'May 28, 2023',\n",
       " 'May 28, 2023']"
      ]
     },
     "execution_count": 97,
     "metadata": {},
     "output_type": "execute_result"
    }
   ],
   "source": [
    "time = []\n",
    "for i in soup.find_all('time',class_=\"LatestNews-timestamp\"):\n",
    "    time.append(i.text)\n",
    "time"
   ]
  },
  {
   "cell_type": "code",
   "execution_count": 99,
   "id": "4410219a-172a-4770-96fb-ccfeb4264f97",
   "metadata": {},
   "outputs": [
    {
     "data": {
      "text/plain": [
       "['https://www.cnbc.com/2023/05/29/remote-and-hybrid-companies-that-help-pay-for-employees-vacations-and-are-all-hiring-now.html',\n",
       " 'https://www.cnbc.com/2023/05/29/nvidia-stole-the-spotlight-now-its-all-about-the-debt-ceiling-.html',\n",
       " 'https://www.cnbc.com/2023/05/29/chinese-apps-remain-popular-in-the-us-despite-efforts-to-ban-tiktok.html',\n",
       " 'https://www.cnbc.com/2023/05/29/harvard-psychologist-if-you-use-these-phrases-you-are-more-emotionally-secure-than-most-people.html',\n",
       " 'https://www.cnbc.com/2023/05/29/restaurants-see-strong-summer-sales-while-consumers-fear-inflation.html',\n",
       " 'https://www.cnbc.com/2023/05/29/pros-and-cons-of-529-plans-in-college-savings-and-tax-breaks.html',\n",
       " 'https://www.cnbc.com/2023/05/29/these-stocks-may-pull-back-after-exceeding-analyst-price-targets.html',\n",
       " 'https://www.cnbc.com/2023/05/29/ubs-names-its-top-conviction-picks-for-the-rest-of-2023.html',\n",
       " 'https://www.cnbc.com/2023/05/29/what-comes-next-for-esg-funds-after-the-political-backlash-.html',\n",
       " 'https://www.cnbc.com/2023/05/29/putin-congratulates-dear-friend-erdogan-as-natos-turkey-challenge-looks-set-to-stay-.html',\n",
       " 'https://www.cnbc.com/2023/05/29/529-college-savings-plans-how-to-protect-your-money-in-a-downturn.html',\n",
       " 'https://www.cnbc.com/2023/05/29/streaming-services-remove-movies-shows-heres-why.html',\n",
       " 'https://www.cnbc.com/2023/05/29/uk-government-says-it-is-meeting-with-food-bosses-over-high-prices-but-denies-it-will-impose-caps.html',\n",
       " 'https://www.cnbc.com/2023/05/29/spanish-prime-minister-calls-for-early-general-election.html',\n",
       " 'https://www.cnbc.com/2023/05/29/ukraine-war-live-updates-latest-news-on-russia-and-the-war-in-ukraine.html',\n",
       " 'https://www.cnbc.com/2023/05/29/traders-optimistic-on-debt-ceiling-deal-strategist-says-its-an-opportunity.html',\n",
       " 'https://www.cnbc.com/2023/05/29/its-not-a-bubble-yet-whartons-jeremy-siegel-predicts-big-tech-boom-fueled-by-ai.html',\n",
       " 'https://www.cnbc.com/2023/05/29/stock-markets-after-the-debt-ceiling-inflation.html',\n",
       " 'https://www.cnbc.com/2023/05/29/european-markets-live-updates-stocks-news-data-and-earnings.html',\n",
       " 'https://www.cnbc.com/2023/05/29/morgan-stanley-starbucks-wont-benefit-from-chinas-post-covid-recovery.html',\n",
       " 'https://www.cnbc.com/2023/05/29/the-money-mistakes-that-could-change-your-future-according-to-experts.html',\n",
       " 'https://www.cnbc.com/2023/05/29/turkeys-lira-sinks-to-near-record-low-as-erdogan-is-reelected.html',\n",
       " 'https://www.cnbc.com/2023/05/29/major-central-banks-were-expected-to-pause-rate-hikes-soon-now-its-not-so-clear-cut.html',\n",
       " 'https://www.cnbc.com/2023/05/29/stock-markets-first-the-debt-ceiling-then-inflation.html',\n",
       " 'https://www.cnbc.com/2023/05/29/tsmc-or-samsung-analyst-picks-the-better-play-on-ai-and-earnings.html',\n",
       " 'https://www.cnbc.com/2023/05/29/is-ai-here-to-stay-or-just-hype-a-bull-and-a-bear-weigh-in.html',\n",
       " 'https://www.cnbc.com/2023/05/29/asia-markets.html',\n",
       " 'https://www.cnbc.com/2023/05/28/turkeys-president-erdogan-seals-election-victory-to-enter-third-decade-in-power.html',\n",
       " 'https://www.cnbc.com/2023/05/28/debt-ceiling-deal-will-be-transformational-for-americans-mccarthy-says.html',\n",
       " 'https://www.cnbc.com/2023/05/28/nyc-las-vegas-dc-free-wellness-activities-in-5-major-us-cities.html']"
      ]
     },
     "execution_count": 99,
     "metadata": {},
     "output_type": "execute_result"
    }
   ],
   "source": [
    "news_link = []\n",
    "for i in soup.find_all('a',class_=\"LatestNews-headline\"):\n",
    "    news_link.append(i.get('href'))\n",
    "    \n",
    "news_link"
   ]
  },
  {
   "cell_type": "code",
   "execution_count": 100,
   "id": "08e98dd9-496c-466c-a608-e311316c876a",
   "metadata": {},
   "outputs": [
    {
     "data": {
      "text/html": [
       "<div>\n",
       "<style scoped>\n",
       "    .dataframe tbody tr th:only-of-type {\n",
       "        vertical-align: middle;\n",
       "    }\n",
       "\n",
       "    .dataframe tbody tr th {\n",
       "        vertical-align: top;\n",
       "    }\n",
       "\n",
       "    .dataframe thead th {\n",
       "        text-align: right;\n",
       "    }\n",
       "</style>\n",
       "<table border=\"1\" class=\"dataframe\">\n",
       "  <thead>\n",
       "    <tr style=\"text-align: right;\">\n",
       "      <th></th>\n",
       "      <th>Head Line</th>\n",
       "      <th>Time</th>\n",
       "      <th>News Link</th>\n",
       "    </tr>\n",
       "  </thead>\n",
       "  <tbody>\n",
       "    <tr>\n",
       "      <th>0</th>\n",
       "      <td>6 remote and hybrid companies that help pay fo...</td>\n",
       "      <td>3 Hours Ago</td>\n",
       "      <td>https://www.cnbc.com/2023/05/29/remote-and-hyb...</td>\n",
       "    </tr>\n",
       "    <tr>\n",
       "      <th>1</th>\n",
       "      <td>Nvidia stole the earnings spotlight. This week...</td>\n",
       "      <td>3 Hours Ago</td>\n",
       "      <td>https://www.cnbc.com/2023/05/29/nvidia-stole-t...</td>\n",
       "    </tr>\n",
       "    <tr>\n",
       "      <th>2</th>\n",
       "      <td>Chinese apps remain hugely popular in the U.S....</td>\n",
       "      <td>3 Hours Ago</td>\n",
       "      <td>https://www.cnbc.com/2023/05/29/chinese-apps-r...</td>\n",
       "    </tr>\n",
       "    <tr>\n",
       "      <th>3</th>\n",
       "      <td>Harvard psychologist: If you use any of these ...</td>\n",
       "      <td>3 Hours Ago</td>\n",
       "      <td>https://www.cnbc.com/2023/05/29/harvard-psycho...</td>\n",
       "    </tr>\n",
       "    <tr>\n",
       "      <th>4</th>\n",
       "      <td>Restaurants expect strong sales this summer. C...</td>\n",
       "      <td>4 Hours Ago</td>\n",
       "      <td>https://www.cnbc.com/2023/05/29/restaurants-se...</td>\n",
       "    </tr>\n",
       "    <tr>\n",
       "      <th>5</th>\n",
       "      <td>529 plans: How to score a tax break while savi...</td>\n",
       "      <td>4 Hours Ago</td>\n",
       "      <td>https://www.cnbc.com/2023/05/29/pros-and-cons-...</td>\n",
       "    </tr>\n",
       "    <tr>\n",
       "      <th>6</th>\n",
       "      <td>These stocks may be due for a pullback after t...</td>\n",
       "      <td>4 Hours Ago</td>\n",
       "      <td>https://www.cnbc.com/2023/05/29/these-stocks-m...</td>\n",
       "    </tr>\n",
       "    <tr>\n",
       "      <th>7</th>\n",
       "      <td>UBS names its top-conviction picks for the res...</td>\n",
       "      <td>4 Hours Ago</td>\n",
       "      <td>https://www.cnbc.com/2023/05/29/ubs-names-its-...</td>\n",
       "    </tr>\n",
       "    <tr>\n",
       "      <th>8</th>\n",
       "      <td>What comes next for ESG funds after the politi...</td>\n",
       "      <td>4 Hours Ago</td>\n",
       "      <td>https://www.cnbc.com/2023/05/29/what-comes-nex...</td>\n",
       "    </tr>\n",
       "    <tr>\n",
       "      <th>9</th>\n",
       "      <td>Putin congratulates 'dear friend' Erdogan as N...</td>\n",
       "      <td>4 Hours Ago</td>\n",
       "      <td>https://www.cnbc.com/2023/05/29/putin-congratu...</td>\n",
       "    </tr>\n",
       "    <tr>\n",
       "      <th>10</th>\n",
       "      <td>529 college savings plans: How to protect your...</td>\n",
       "      <td>5 Hours Ago</td>\n",
       "      <td>https://www.cnbc.com/2023/05/29/529-college-sa...</td>\n",
       "    </tr>\n",
       "    <tr>\n",
       "      <th>11</th>\n",
       "      <td>This is why streaming services are removing to...</td>\n",
       "      <td>5 Hours Ago</td>\n",
       "      <td>https://www.cnbc.com/2023/05/29/streaming-serv...</td>\n",
       "    </tr>\n",
       "    <tr>\n",
       "      <th>12</th>\n",
       "      <td>UK government says it is meeting with food bos...</td>\n",
       "      <td>5 Hours Ago</td>\n",
       "      <td>https://www.cnbc.com/2023/05/29/uk-government-...</td>\n",
       "    </tr>\n",
       "    <tr>\n",
       "      <th>13</th>\n",
       "      <td>Spanish prime minister calls for early general...</td>\n",
       "      <td>7 Hours Ago</td>\n",
       "      <td>https://www.cnbc.com/2023/05/29/spanish-prime-...</td>\n",
       "    </tr>\n",
       "    <tr>\n",
       "      <th>14</th>\n",
       "      <td>Russia bolsters attack on Kyiv; Putin congratu...</td>\n",
       "      <td>9 Hours Ago</td>\n",
       "      <td>https://www.cnbc.com/2023/05/29/ukraine-war-li...</td>\n",
       "    </tr>\n",
       "    <tr>\n",
       "      <th>15</th>\n",
       "      <td>Traders optimistic on debt ceiling deal — one ...</td>\n",
       "      <td>10 Hours Ago</td>\n",
       "      <td>https://www.cnbc.com/2023/05/29/traders-optimi...</td>\n",
       "    </tr>\n",
       "    <tr>\n",
       "      <th>16</th>\n",
       "      <td>'It's not a bubble yet': Wharton's Jeremy Sieg...</td>\n",
       "      <td>10 Hours Ago</td>\n",
       "      <td>https://www.cnbc.com/2023/05/29/its-not-a-bubb...</td>\n",
       "    </tr>\n",
       "    <tr>\n",
       "      <th>17</th>\n",
       "      <td>CNBC Daily Open: After the debt ceiling, infla...</td>\n",
       "      <td>10 Hours Ago</td>\n",
       "      <td>https://www.cnbc.com/2023/05/29/stock-markets-...</td>\n",
       "    </tr>\n",
       "    <tr>\n",
       "      <th>18</th>\n",
       "      <td>Europe markets close lower after U.S. debt cei...</td>\n",
       "      <td>11 Hours Ago</td>\n",
       "      <td>https://www.cnbc.com/2023/05/29/european-marke...</td>\n",
       "    </tr>\n",
       "    <tr>\n",
       "      <th>19</th>\n",
       "      <td>Chinese consumers won't return to pre-Covid sp...</td>\n",
       "      <td>12 Hours Ago</td>\n",
       "      <td>https://www.cnbc.com/2023/05/29/morgan-stanley...</td>\n",
       "    </tr>\n",
       "    <tr>\n",
       "      <th>20</th>\n",
       "      <td>The biggest money mistakes that could change y...</td>\n",
       "      <td>13 Hours Ago</td>\n",
       "      <td>https://www.cnbc.com/2023/05/29/the-money-mist...</td>\n",
       "    </tr>\n",
       "    <tr>\n",
       "      <th>21</th>\n",
       "      <td>Turkey’s lira sinks to fresh record low after ...</td>\n",
       "      <td>13 Hours Ago</td>\n",
       "      <td>https://www.cnbc.com/2023/05/29/turkeys-lira-s...</td>\n",
       "    </tr>\n",
       "    <tr>\n",
       "      <th>22</th>\n",
       "      <td>Major central banks were expected to pause rat...</td>\n",
       "      <td>14 Hours Ago</td>\n",
       "      <td>https://www.cnbc.com/2023/05/29/major-central-...</td>\n",
       "    </tr>\n",
       "    <tr>\n",
       "      <th>23</th>\n",
       "      <td>CNBC Daily Open: First the debt ceiling, then ...</td>\n",
       "      <td>16 Hours Ago</td>\n",
       "      <td>https://www.cnbc.com/2023/05/29/stock-markets-...</td>\n",
       "    </tr>\n",
       "    <tr>\n",
       "      <th>24</th>\n",
       "      <td>TSMC or Samsung? One chipmaker is the better p...</td>\n",
       "      <td>17 Hours Ago</td>\n",
       "      <td>https://www.cnbc.com/2023/05/29/tsmc-or-samsun...</td>\n",
       "    </tr>\n",
       "    <tr>\n",
       "      <th>25</th>\n",
       "      <td>How much of A.I. is just hype? A bull and a be...</td>\n",
       "      <td>17 Hours Ago</td>\n",
       "      <td>https://www.cnbc.com/2023/05/29/is-ai-here-to-...</td>\n",
       "    </tr>\n",
       "    <tr>\n",
       "      <th>26</th>\n",
       "      <td>Asia markets mixed after U.S. reaches debt cei...</td>\n",
       "      <td>17 Hours Ago</td>\n",
       "      <td>https://www.cnbc.com/2023/05/29/asia-markets.html</td>\n",
       "    </tr>\n",
       "    <tr>\n",
       "      <th>27</th>\n",
       "      <td>Turkey's President Erdogan seals election vict...</td>\n",
       "      <td>23 Hours Ago</td>\n",
       "      <td>https://www.cnbc.com/2023/05/28/turkeys-presid...</td>\n",
       "    </tr>\n",
       "    <tr>\n",
       "      <th>28</th>\n",
       "      <td>Debt ceiling deal will be 'transformational' f...</td>\n",
       "      <td>May 28, 2023</td>\n",
       "      <td>https://www.cnbc.com/2023/05/28/debt-ceiling-d...</td>\n",
       "    </tr>\n",
       "    <tr>\n",
       "      <th>29</th>\n",
       "      <td>NYC, Las Vegas, D.C.: Free wellness activities...</td>\n",
       "      <td>May 28, 2023</td>\n",
       "      <td>https://www.cnbc.com/2023/05/28/nyc-las-vegas-...</td>\n",
       "    </tr>\n",
       "  </tbody>\n",
       "</table>\n",
       "</div>"
      ],
      "text/plain": [
       "                                            Head Line          Time  \\\n",
       "0   6 remote and hybrid companies that help pay fo...   3 Hours Ago   \n",
       "1   Nvidia stole the earnings spotlight. This week...   3 Hours Ago   \n",
       "2   Chinese apps remain hugely popular in the U.S....   3 Hours Ago   \n",
       "3   Harvard psychologist: If you use any of these ...   3 Hours Ago   \n",
       "4   Restaurants expect strong sales this summer. C...   4 Hours Ago   \n",
       "5   529 plans: How to score a tax break while savi...   4 Hours Ago   \n",
       "6   These stocks may be due for a pullback after t...   4 Hours Ago   \n",
       "7   UBS names its top-conviction picks for the res...   4 Hours Ago   \n",
       "8   What comes next for ESG funds after the politi...   4 Hours Ago   \n",
       "9   Putin congratulates 'dear friend' Erdogan as N...   4 Hours Ago   \n",
       "10  529 college savings plans: How to protect your...   5 Hours Ago   \n",
       "11  This is why streaming services are removing to...   5 Hours Ago   \n",
       "12  UK government says it is meeting with food bos...   5 Hours Ago   \n",
       "13  Spanish prime minister calls for early general...   7 Hours Ago   \n",
       "14  Russia bolsters attack on Kyiv; Putin congratu...   9 Hours Ago   \n",
       "15  Traders optimistic on debt ceiling deal — one ...  10 Hours Ago   \n",
       "16  'It's not a bubble yet': Wharton's Jeremy Sieg...  10 Hours Ago   \n",
       "17  CNBC Daily Open: After the debt ceiling, infla...  10 Hours Ago   \n",
       "18  Europe markets close lower after U.S. debt cei...  11 Hours Ago   \n",
       "19  Chinese consumers won't return to pre-Covid sp...  12 Hours Ago   \n",
       "20  The biggest money mistakes that could change y...  13 Hours Ago   \n",
       "21  Turkey’s lira sinks to fresh record low after ...  13 Hours Ago   \n",
       "22  Major central banks were expected to pause rat...  14 Hours Ago   \n",
       "23  CNBC Daily Open: First the debt ceiling, then ...  16 Hours Ago   \n",
       "24  TSMC or Samsung? One chipmaker is the better p...  17 Hours Ago   \n",
       "25  How much of A.I. is just hype? A bull and a be...  17 Hours Ago   \n",
       "26  Asia markets mixed after U.S. reaches debt cei...  17 Hours Ago   \n",
       "27  Turkey's President Erdogan seals election vict...  23 Hours Ago   \n",
       "28  Debt ceiling deal will be 'transformational' f...  May 28, 2023   \n",
       "29  NYC, Las Vegas, D.C.: Free wellness activities...  May 28, 2023   \n",
       "\n",
       "                                            News Link  \n",
       "0   https://www.cnbc.com/2023/05/29/remote-and-hyb...  \n",
       "1   https://www.cnbc.com/2023/05/29/nvidia-stole-t...  \n",
       "2   https://www.cnbc.com/2023/05/29/chinese-apps-r...  \n",
       "3   https://www.cnbc.com/2023/05/29/harvard-psycho...  \n",
       "4   https://www.cnbc.com/2023/05/29/restaurants-se...  \n",
       "5   https://www.cnbc.com/2023/05/29/pros-and-cons-...  \n",
       "6   https://www.cnbc.com/2023/05/29/these-stocks-m...  \n",
       "7   https://www.cnbc.com/2023/05/29/ubs-names-its-...  \n",
       "8   https://www.cnbc.com/2023/05/29/what-comes-nex...  \n",
       "9   https://www.cnbc.com/2023/05/29/putin-congratu...  \n",
       "10  https://www.cnbc.com/2023/05/29/529-college-sa...  \n",
       "11  https://www.cnbc.com/2023/05/29/streaming-serv...  \n",
       "12  https://www.cnbc.com/2023/05/29/uk-government-...  \n",
       "13  https://www.cnbc.com/2023/05/29/spanish-prime-...  \n",
       "14  https://www.cnbc.com/2023/05/29/ukraine-war-li...  \n",
       "15  https://www.cnbc.com/2023/05/29/traders-optimi...  \n",
       "16  https://www.cnbc.com/2023/05/29/its-not-a-bubb...  \n",
       "17  https://www.cnbc.com/2023/05/29/stock-markets-...  \n",
       "18  https://www.cnbc.com/2023/05/29/european-marke...  \n",
       "19  https://www.cnbc.com/2023/05/29/morgan-stanley...  \n",
       "20  https://www.cnbc.com/2023/05/29/the-money-mist...  \n",
       "21  https://www.cnbc.com/2023/05/29/turkeys-lira-s...  \n",
       "22  https://www.cnbc.com/2023/05/29/major-central-...  \n",
       "23  https://www.cnbc.com/2023/05/29/stock-markets-...  \n",
       "24  https://www.cnbc.com/2023/05/29/tsmc-or-samsun...  \n",
       "25  https://www.cnbc.com/2023/05/29/is-ai-here-to-...  \n",
       "26  https://www.cnbc.com/2023/05/29/asia-markets.html  \n",
       "27  https://www.cnbc.com/2023/05/28/turkeys-presid...  \n",
       "28  https://www.cnbc.com/2023/05/28/debt-ceiling-d...  \n",
       "29  https://www.cnbc.com/2023/05/28/nyc-las-vegas-...  "
      ]
     },
     "execution_count": 100,
     "metadata": {},
     "output_type": "execute_result"
    }
   ],
   "source": [
    "#news details of cnbc hedline ,news link and time  in data frame\n",
    "df = pd.DataFrame({'Head Line':headline,'Time':time,'News Link':news_link})\n",
    "df"
   ]
  },
  {
   "cell_type": "code",
   "execution_count": null,
   "id": "c96916b5-d304-4199-95de-01460fa2fe4a",
   "metadata": {},
   "outputs": [],
   "source": []
  },
  {
   "cell_type": "markdown",
   "id": "db868273-6a35-434c-964f-724952b846fe",
   "metadata": {},
   "source": [
    "Question6: Write a python program to scrape the details of most downloaded articles from AI in last 90\n",
    "days.https://www.journals.elsevier.com/artificial-intelligence/most-downloaded-articles\n",
    "Scrape below mentioned details and make data frame-\n",
    "i)Paper Title\n",
    "ii)Authors\n",
    "iii)Published Date\n",
    "iv)Paper URL"
   ]
  },
  {
   "cell_type": "code",
   "execution_count": null,
   "id": "9f0f4d6e-08e0-47e7-98e1-3aa82268a742",
   "metadata": {},
   "outputs": [],
   "source": []
  },
  {
   "cell_type": "code",
   "execution_count": 101,
   "id": "4edfdf70-b6f7-4d22-beb7-3fcf5dd09586",
   "metadata": {},
   "outputs": [
    {
     "data": {
      "text/plain": [
       "<Response [200]>"
      ]
     },
     "execution_count": 101,
     "metadata": {},
     "output_type": "execute_result"
    }
   ],
   "source": [
    "page = requests.get('https://www.journals.elsevier.com/artificial-intelligence/most-downloaded-articles')\n",
    "page"
   ]
  },
  {
   "cell_type": "code",
   "execution_count": 103,
   "id": "59c29d1b-64b4-4577-93b2-257bef892fb9",
   "metadata": {},
   "outputs": [],
   "source": [
    "soup = BeautifulSoup(page.content,'html.parser')"
   ]
  },
  {
   "cell_type": "code",
   "execution_count": 107,
   "id": "f9d14a0f-5736-48c8-bed3-9c7fae695651",
   "metadata": {},
   "outputs": [
    {
     "data": {
      "text/plain": [
       "['Reward is enough',\n",
       " 'Explanation in artificial intelligence: Insights from the social sciences',\n",
       " 'Creativity and artificial intelligence',\n",
       " 'Conflict-based search for optimal multi-agent pathfinding',\n",
       " 'Knowledge graphs as tools for explainable machine learning: A survey',\n",
       " 'Law and logic: A review from an argumentation perspective',\n",
       " 'Between MDPs and semi-MDPs: A framework for temporal abstraction in reinforcement learning',\n",
       " 'Explaining individual predictions when features are dependent: More accurate approximations to Shapley values',\n",
       " 'Multiple object tracking: A literature review',\n",
       " 'A survey of inverse reinforcement learning: Challenges, methods and progress',\n",
       " 'Evaluating XAI: A comparison of rule-based and example-based explanations',\n",
       " 'Explainable AI tools for legal reasoning about cases: A study on the European Court of Human Rights',\n",
       " 'Hard choices in artificial intelligence',\n",
       " 'Assessing the communication gap between AI models and healthcare professionals: Explainability, utility and trust in AI-driven clinical decision-making',\n",
       " 'Explaining black-box classifiers using post-hoc explanations-by-example: The effect of explanations and error-rates in XAI user studies',\n",
       " 'The Hanabi challenge: A new frontier for AI research',\n",
       " 'Wrappers for feature subset selection',\n",
       " 'Artificial cognition for social human–robot interaction: An implementation',\n",
       " 'A review of possible effects of cognitive biases on interpretation of rule-based machine learning models',\n",
       " 'The multifaceted impact of Ada Lovelace in the digital age',\n",
       " 'Robot ethics: Mapping the issues for a mechanized world',\n",
       " 'Reward (Mis)design for autonomous driving',\n",
       " 'Planning and acting in partially observable stochastic domains',\n",
       " 'What do we want from Explainable Artificial Intelligence (XAI)? – A stakeholder perspective on XAI and a conceptual model guiding interdisciplinary XAI research']"
      ]
     },
     "execution_count": 107,
     "metadata": {},
     "output_type": "execute_result"
    }
   ],
   "source": [
    "paper_title = []\n",
    "for i in soup.find_all('h2',class_=\"sc-1qrq3sd-1 gRGSUS sc-1nmom32-0 sc-1nmom32-1 btcbYu goSKRg\"):\n",
    "    paper_title.append(i.text)\n",
    "paper_title "
   ]
  },
  {
   "cell_type": "code",
   "execution_count": 108,
   "id": "6c7228fb-b1bb-4049-b1eb-ea84f4256438",
   "metadata": {},
   "outputs": [
    {
     "data": {
      "text/plain": [
       "['David Silver, Satinder Singh, Doina Precup, Richard S. Sutton ',\n",
       " 'Tim Miller ',\n",
       " 'Margaret A. Boden ',\n",
       " 'Guni Sharon, Roni Stern, Ariel Felner, Nathan R. Sturtevant ',\n",
       " 'Ilaria Tiddi, Stefan Schlobach ',\n",
       " 'Henry Prakken, Giovanni Sartor ',\n",
       " 'Richard S. Sutton, Doina Precup, Satinder Singh ',\n",
       " 'Kjersti Aas, Martin Jullum, Anders Løland ',\n",
       " 'Wenhan Luo, Junliang Xing and 4 more',\n",
       " 'Saurabh Arora, Prashant Doshi ',\n",
       " 'Jasper van der Waa, Elisabeth Nieuwburg, Anita Cremers, Mark Neerincx ',\n",
       " 'Joe Collenette, Katie Atkinson, Trevor Bench-Capon ',\n",
       " 'Roel Dobbe, Thomas Krendl Gilbert, Yonatan Mintz ',\n",
       " 'Oskar Wysocki, Jessica Katharine Davies and 5 more',\n",
       " 'Eoin M. Kenny, Courtney Ford, Molly Quinn, Mark T. Keane ',\n",
       " 'Nolan Bard, Jakob N. Foerster and 13 more',\n",
       " 'Ron Kohavi, George H. John ',\n",
       " 'Séverin Lemaignan, Mathieu Warnier and 3 more',\n",
       " 'Tomáš Kliegr, Štěpán Bahník, Johannes Fürnkranz ',\n",
       " 'Luigia Carlucci Aiello ',\n",
       " 'Patrick Lin, Keith Abney, George Bekey ',\n",
       " 'W. Bradley Knox, Alessandro Allievi and 3 more',\n",
       " 'Leslie Pack Kaelbling, Michael L. Littman, Anthony R. Cassandra ',\n",
       " 'Markus Langer, Daniel Oster and 6 more']"
      ]
     },
     "execution_count": 108,
     "metadata": {},
     "output_type": "execute_result"
    }
   ],
   "source": [
    "authors = []\n",
    "for i in soup.find_all('span',class_=\"sc-1w3fpd7-0 dnCnAO\"):\n",
    "    authors.append(i.text)\n",
    "authors "
   ]
  },
  {
   "cell_type": "code",
   "execution_count": 109,
   "id": "c0b617ab-d207-4cd9-b40b-c18d69565ad2",
   "metadata": {},
   "outputs": [
    {
     "data": {
      "text/plain": [
       "['October 2021',\n",
       " 'February 2019',\n",
       " 'August 1998',\n",
       " 'February 2015',\n",
       " 'January 2022',\n",
       " 'October 2015',\n",
       " 'August 1999',\n",
       " 'September 2021',\n",
       " 'April 2021',\n",
       " 'August 2021',\n",
       " 'February 2021',\n",
       " 'April 2023',\n",
       " 'November 2021',\n",
       " 'March 2023',\n",
       " 'May 2021',\n",
       " 'March 2020',\n",
       " 'December 1997',\n",
       " 'June 2017',\n",
       " 'June 2021',\n",
       " 'June 2016',\n",
       " 'April 2011',\n",
       " 'March 2023',\n",
       " 'May 1998',\n",
       " 'July 2021']"
      ]
     },
     "execution_count": 109,
     "metadata": {},
     "output_type": "execute_result"
    }
   ],
   "source": [
    "published_date = []\n",
    "for i in soup.find_all('span',class_=\"sc-1thf9ly-2 dvggWt\"):\n",
    "    published_date.append(i.text)\n",
    "published_date"
   ]
  },
  {
   "cell_type": "code",
   "execution_count": 111,
   "id": "02f43df3-5e25-412c-b219-397abdf11d76",
   "metadata": {},
   "outputs": [
    {
     "data": {
      "text/plain": [
       "['https://www.sciencedirect.com/science/article/pii/S0004370221000862',\n",
       " 'https://www.sciencedirect.com/science/article/pii/S0004370218305988',\n",
       " 'https://www.sciencedirect.com/science/article/pii/S0004370298000551',\n",
       " 'https://www.sciencedirect.com/science/article/pii/S0004370214001386',\n",
       " 'https://www.sciencedirect.com/science/article/pii/S0004370221001788',\n",
       " 'https://www.sciencedirect.com/science/article/pii/S0004370215000910',\n",
       " 'https://www.sciencedirect.com/science/article/pii/S0004370299000521',\n",
       " 'https://www.sciencedirect.com/science/article/pii/S0004370221000539',\n",
       " 'https://www.sciencedirect.com/science/article/pii/S0004370220301958',\n",
       " 'https://www.sciencedirect.com/science/article/pii/S0004370221000515',\n",
       " 'https://www.sciencedirect.com/science/article/pii/S0004370220301533',\n",
       " 'https://www.sciencedirect.com/science/article/pii/S0004370223000073',\n",
       " 'https://www.sciencedirect.com/science/article/pii/S0004370221001065',\n",
       " 'https://www.sciencedirect.com/science/article/pii/S0004370222001795',\n",
       " 'https://www.sciencedirect.com/science/article/pii/S0004370221000102',\n",
       " 'https://www.sciencedirect.com/science/article/pii/S0004370219300116',\n",
       " 'https://www.sciencedirect.com/science/article/pii/S000437029700043X',\n",
       " 'https://www.sciencedirect.com/science/article/pii/S0004370216300790',\n",
       " 'https://www.sciencedirect.com/science/article/pii/S0004370221000096',\n",
       " 'https://www.sciencedirect.com/science/article/pii/S0004370216300224',\n",
       " 'https://www.sciencedirect.com/science/article/pii/S0004370211000178',\n",
       " 'https://www.sciencedirect.com/science/article/pii/S0004370222001692',\n",
       " 'https://www.sciencedirect.com/science/article/pii/S000437029800023X',\n",
       " 'https://www.sciencedirect.com/science/article/pii/S0004370221000242']"
      ]
     },
     "execution_count": 111,
     "metadata": {},
     "output_type": "execute_result"
    }
   ],
   "source": [
    "paper_URL = []\n",
    "for i in soup.find_all('a',class_=\"sc-5smygv-0 fIXTHm\"):\n",
    "    paper_URL.append(i.get('href'))\n",
    "paper_URL"
   ]
  },
  {
   "cell_type": "code",
   "execution_count": null,
   "id": "5fd75c19-eb90-4feb-82a0-561d348cfdd8",
   "metadata": {},
   "outputs": [],
   "source": []
  },
  {
   "cell_type": "code",
   "execution_count": 112,
   "id": "07c0ba85-c18e-4b75-a18d-9273b76b465a",
   "metadata": {},
   "outputs": [
    {
     "data": {
      "text/html": [
       "<div>\n",
       "<style scoped>\n",
       "    .dataframe tbody tr th:only-of-type {\n",
       "        vertical-align: middle;\n",
       "    }\n",
       "\n",
       "    .dataframe tbody tr th {\n",
       "        vertical-align: top;\n",
       "    }\n",
       "\n",
       "    .dataframe thead th {\n",
       "        text-align: right;\n",
       "    }\n",
       "</style>\n",
       "<table border=\"1\" class=\"dataframe\">\n",
       "  <thead>\n",
       "    <tr style=\"text-align: right;\">\n",
       "      <th></th>\n",
       "      <th>Paper Title</th>\n",
       "      <th>Authors</th>\n",
       "      <th>Published Date</th>\n",
       "      <th>Paper URL</th>\n",
       "    </tr>\n",
       "  </thead>\n",
       "  <tbody>\n",
       "    <tr>\n",
       "      <th>0</th>\n",
       "      <td>Reward is enough</td>\n",
       "      <td>David Silver, Satinder Singh, Doina Precup, Ri...</td>\n",
       "      <td>October 2021</td>\n",
       "      <td>https://www.sciencedirect.com/science/article/...</td>\n",
       "    </tr>\n",
       "    <tr>\n",
       "      <th>1</th>\n",
       "      <td>Explanation in artificial intelligence: Insigh...</td>\n",
       "      <td>Tim Miller</td>\n",
       "      <td>February 2019</td>\n",
       "      <td>https://www.sciencedirect.com/science/article/...</td>\n",
       "    </tr>\n",
       "    <tr>\n",
       "      <th>2</th>\n",
       "      <td>Creativity and artificial intelligence</td>\n",
       "      <td>Margaret A. Boden</td>\n",
       "      <td>August 1998</td>\n",
       "      <td>https://www.sciencedirect.com/science/article/...</td>\n",
       "    </tr>\n",
       "    <tr>\n",
       "      <th>3</th>\n",
       "      <td>Conflict-based search for optimal multi-agent ...</td>\n",
       "      <td>Guni Sharon, Roni Stern, Ariel Felner, Nathan ...</td>\n",
       "      <td>February 2015</td>\n",
       "      <td>https://www.sciencedirect.com/science/article/...</td>\n",
       "    </tr>\n",
       "    <tr>\n",
       "      <th>4</th>\n",
       "      <td>Knowledge graphs as tools for explainable mach...</td>\n",
       "      <td>Ilaria Tiddi, Stefan Schlobach</td>\n",
       "      <td>January 2022</td>\n",
       "      <td>https://www.sciencedirect.com/science/article/...</td>\n",
       "    </tr>\n",
       "    <tr>\n",
       "      <th>5</th>\n",
       "      <td>Law and logic: A review from an argumentation ...</td>\n",
       "      <td>Henry Prakken, Giovanni Sartor</td>\n",
       "      <td>October 2015</td>\n",
       "      <td>https://www.sciencedirect.com/science/article/...</td>\n",
       "    </tr>\n",
       "    <tr>\n",
       "      <th>6</th>\n",
       "      <td>Between MDPs and semi-MDPs: A framework for te...</td>\n",
       "      <td>Richard S. Sutton, Doina Precup, Satinder Singh</td>\n",
       "      <td>August 1999</td>\n",
       "      <td>https://www.sciencedirect.com/science/article/...</td>\n",
       "    </tr>\n",
       "    <tr>\n",
       "      <th>7</th>\n",
       "      <td>Explaining individual predictions when feature...</td>\n",
       "      <td>Kjersti Aas, Martin Jullum, Anders Løland</td>\n",
       "      <td>September 2021</td>\n",
       "      <td>https://www.sciencedirect.com/science/article/...</td>\n",
       "    </tr>\n",
       "    <tr>\n",
       "      <th>8</th>\n",
       "      <td>Multiple object tracking: A literature review</td>\n",
       "      <td>Wenhan Luo, Junliang Xing and 4 more</td>\n",
       "      <td>April 2021</td>\n",
       "      <td>https://www.sciencedirect.com/science/article/...</td>\n",
       "    </tr>\n",
       "    <tr>\n",
       "      <th>9</th>\n",
       "      <td>A survey of inverse reinforcement learning: Ch...</td>\n",
       "      <td>Saurabh Arora, Prashant Doshi</td>\n",
       "      <td>August 2021</td>\n",
       "      <td>https://www.sciencedirect.com/science/article/...</td>\n",
       "    </tr>\n",
       "    <tr>\n",
       "      <th>10</th>\n",
       "      <td>Evaluating XAI: A comparison of rule-based and...</td>\n",
       "      <td>Jasper van der Waa, Elisabeth Nieuwburg, Anita...</td>\n",
       "      <td>February 2021</td>\n",
       "      <td>https://www.sciencedirect.com/science/article/...</td>\n",
       "    </tr>\n",
       "    <tr>\n",
       "      <th>11</th>\n",
       "      <td>Explainable AI tools for legal reasoning about...</td>\n",
       "      <td>Joe Collenette, Katie Atkinson, Trevor Bench-C...</td>\n",
       "      <td>April 2023</td>\n",
       "      <td>https://www.sciencedirect.com/science/article/...</td>\n",
       "    </tr>\n",
       "    <tr>\n",
       "      <th>12</th>\n",
       "      <td>Hard choices in artificial intelligence</td>\n",
       "      <td>Roel Dobbe, Thomas Krendl Gilbert, Yonatan Mintz</td>\n",
       "      <td>November 2021</td>\n",
       "      <td>https://www.sciencedirect.com/science/article/...</td>\n",
       "    </tr>\n",
       "    <tr>\n",
       "      <th>13</th>\n",
       "      <td>Assessing the communication gap between AI mod...</td>\n",
       "      <td>Oskar Wysocki, Jessica Katharine Davies and 5 ...</td>\n",
       "      <td>March 2023</td>\n",
       "      <td>https://www.sciencedirect.com/science/article/...</td>\n",
       "    </tr>\n",
       "    <tr>\n",
       "      <th>14</th>\n",
       "      <td>Explaining black-box classifiers using post-ho...</td>\n",
       "      <td>Eoin M. Kenny, Courtney Ford, Molly Quinn, Mar...</td>\n",
       "      <td>May 2021</td>\n",
       "      <td>https://www.sciencedirect.com/science/article/...</td>\n",
       "    </tr>\n",
       "    <tr>\n",
       "      <th>15</th>\n",
       "      <td>The Hanabi challenge: A new frontier for AI re...</td>\n",
       "      <td>Nolan Bard, Jakob N. Foerster and 13 more</td>\n",
       "      <td>March 2020</td>\n",
       "      <td>https://www.sciencedirect.com/science/article/...</td>\n",
       "    </tr>\n",
       "    <tr>\n",
       "      <th>16</th>\n",
       "      <td>Wrappers for feature subset selection</td>\n",
       "      <td>Ron Kohavi, George H. John</td>\n",
       "      <td>December 1997</td>\n",
       "      <td>https://www.sciencedirect.com/science/article/...</td>\n",
       "    </tr>\n",
       "    <tr>\n",
       "      <th>17</th>\n",
       "      <td>Artificial cognition for social human–robot in...</td>\n",
       "      <td>Séverin Lemaignan, Mathieu Warnier and 3 more</td>\n",
       "      <td>June 2017</td>\n",
       "      <td>https://www.sciencedirect.com/science/article/...</td>\n",
       "    </tr>\n",
       "    <tr>\n",
       "      <th>18</th>\n",
       "      <td>A review of possible effects of cognitive bias...</td>\n",
       "      <td>Tomáš Kliegr, Štěpán Bahník, Johannes Fürnkranz</td>\n",
       "      <td>June 2021</td>\n",
       "      <td>https://www.sciencedirect.com/science/article/...</td>\n",
       "    </tr>\n",
       "    <tr>\n",
       "      <th>19</th>\n",
       "      <td>The multifaceted impact of Ada Lovelace in the...</td>\n",
       "      <td>Luigia Carlucci Aiello</td>\n",
       "      <td>June 2016</td>\n",
       "      <td>https://www.sciencedirect.com/science/article/...</td>\n",
       "    </tr>\n",
       "    <tr>\n",
       "      <th>20</th>\n",
       "      <td>Robot ethics: Mapping the issues for a mechani...</td>\n",
       "      <td>Patrick Lin, Keith Abney, George Bekey</td>\n",
       "      <td>April 2011</td>\n",
       "      <td>https://www.sciencedirect.com/science/article/...</td>\n",
       "    </tr>\n",
       "    <tr>\n",
       "      <th>21</th>\n",
       "      <td>Reward (Mis)design for autonomous driving</td>\n",
       "      <td>W. Bradley Knox, Alessandro Allievi and 3 more</td>\n",
       "      <td>March 2023</td>\n",
       "      <td>https://www.sciencedirect.com/science/article/...</td>\n",
       "    </tr>\n",
       "    <tr>\n",
       "      <th>22</th>\n",
       "      <td>Planning and acting in partially observable st...</td>\n",
       "      <td>Leslie Pack Kaelbling, Michael L. Littman, Ant...</td>\n",
       "      <td>May 1998</td>\n",
       "      <td>https://www.sciencedirect.com/science/article/...</td>\n",
       "    </tr>\n",
       "    <tr>\n",
       "      <th>23</th>\n",
       "      <td>What do we want from Explainable Artificial In...</td>\n",
       "      <td>Markus Langer, Daniel Oster and 6 more</td>\n",
       "      <td>July 2021</td>\n",
       "      <td>https://www.sciencedirect.com/science/article/...</td>\n",
       "    </tr>\n",
       "  </tbody>\n",
       "</table>\n",
       "</div>"
      ],
      "text/plain": [
       "                                          Paper Title  \\\n",
       "0                                    Reward is enough   \n",
       "1   Explanation in artificial intelligence: Insigh...   \n",
       "2              Creativity and artificial intelligence   \n",
       "3   Conflict-based search for optimal multi-agent ...   \n",
       "4   Knowledge graphs as tools for explainable mach...   \n",
       "5   Law and logic: A review from an argumentation ...   \n",
       "6   Between MDPs and semi-MDPs: A framework for te...   \n",
       "7   Explaining individual predictions when feature...   \n",
       "8       Multiple object tracking: A literature review   \n",
       "9   A survey of inverse reinforcement learning: Ch...   \n",
       "10  Evaluating XAI: A comparison of rule-based and...   \n",
       "11  Explainable AI tools for legal reasoning about...   \n",
       "12            Hard choices in artificial intelligence   \n",
       "13  Assessing the communication gap between AI mod...   \n",
       "14  Explaining black-box classifiers using post-ho...   \n",
       "15  The Hanabi challenge: A new frontier for AI re...   \n",
       "16              Wrappers for feature subset selection   \n",
       "17  Artificial cognition for social human–robot in...   \n",
       "18  A review of possible effects of cognitive bias...   \n",
       "19  The multifaceted impact of Ada Lovelace in the...   \n",
       "20  Robot ethics: Mapping the issues for a mechani...   \n",
       "21          Reward (Mis)design for autonomous driving   \n",
       "22  Planning and acting in partially observable st...   \n",
       "23  What do we want from Explainable Artificial In...   \n",
       "\n",
       "                                              Authors  Published Date  \\\n",
       "0   David Silver, Satinder Singh, Doina Precup, Ri...    October 2021   \n",
       "1                                         Tim Miller    February 2019   \n",
       "2                                  Margaret A. Boden      August 1998   \n",
       "3   Guni Sharon, Roni Stern, Ariel Felner, Nathan ...   February 2015   \n",
       "4                     Ilaria Tiddi, Stefan Schlobach     January 2022   \n",
       "5                     Henry Prakken, Giovanni Sartor     October 2015   \n",
       "6    Richard S. Sutton, Doina Precup, Satinder Singh      August 1999   \n",
       "7          Kjersti Aas, Martin Jullum, Anders Løland   September 2021   \n",
       "8                Wenhan Luo, Junliang Xing and 4 more      April 2021   \n",
       "9                      Saurabh Arora, Prashant Doshi      August 2021   \n",
       "10  Jasper van der Waa, Elisabeth Nieuwburg, Anita...   February 2021   \n",
       "11  Joe Collenette, Katie Atkinson, Trevor Bench-C...      April 2023   \n",
       "12  Roel Dobbe, Thomas Krendl Gilbert, Yonatan Mintz    November 2021   \n",
       "13  Oskar Wysocki, Jessica Katharine Davies and 5 ...      March 2023   \n",
       "14  Eoin M. Kenny, Courtney Ford, Molly Quinn, Mar...        May 2021   \n",
       "15          Nolan Bard, Jakob N. Foerster and 13 more      March 2020   \n",
       "16                        Ron Kohavi, George H. John    December 1997   \n",
       "17      Séverin Lemaignan, Mathieu Warnier and 3 more       June 2017   \n",
       "18   Tomáš Kliegr, Štěpán Bahník, Johannes Fürnkranz        June 2021   \n",
       "19                            Luigia Carlucci Aiello        June 2016   \n",
       "20            Patrick Lin, Keith Abney, George Bekey       April 2011   \n",
       "21     W. Bradley Knox, Alessandro Allievi and 3 more      March 2023   \n",
       "22  Leslie Pack Kaelbling, Michael L. Littman, Ant...        May 1998   \n",
       "23             Markus Langer, Daniel Oster and 6 more       July 2021   \n",
       "\n",
       "                                            Paper URL  \n",
       "0   https://www.sciencedirect.com/science/article/...  \n",
       "1   https://www.sciencedirect.com/science/article/...  \n",
       "2   https://www.sciencedirect.com/science/article/...  \n",
       "3   https://www.sciencedirect.com/science/article/...  \n",
       "4   https://www.sciencedirect.com/science/article/...  \n",
       "5   https://www.sciencedirect.com/science/article/...  \n",
       "6   https://www.sciencedirect.com/science/article/...  \n",
       "7   https://www.sciencedirect.com/science/article/...  \n",
       "8   https://www.sciencedirect.com/science/article/...  \n",
       "9   https://www.sciencedirect.com/science/article/...  \n",
       "10  https://www.sciencedirect.com/science/article/...  \n",
       "11  https://www.sciencedirect.com/science/article/...  \n",
       "12  https://www.sciencedirect.com/science/article/...  \n",
       "13  https://www.sciencedirect.com/science/article/...  \n",
       "14  https://www.sciencedirect.com/science/article/...  \n",
       "15  https://www.sciencedirect.com/science/article/...  \n",
       "16  https://www.sciencedirect.com/science/article/...  \n",
       "17  https://www.sciencedirect.com/science/article/...  \n",
       "18  https://www.sciencedirect.com/science/article/...  \n",
       "19  https://www.sciencedirect.com/science/article/...  \n",
       "20  https://www.sciencedirect.com/science/article/...  \n",
       "21  https://www.sciencedirect.com/science/article/...  \n",
       "22  https://www.sciencedirect.com/science/article/...  \n",
       "23  https://www.sciencedirect.com/science/article/...  "
      ]
     },
     "execution_count": 112,
     "metadata": {},
     "output_type": "execute_result"
    }
   ],
   "source": [
    "#details of most downloaded articles from AI in last 90 days data frame\n",
    "df = pd.DataFrame({'Paper Title':paper_title,'Authors':authors,'Published Date':published_date,'Paper URL':paper_URL})\n",
    "df"
   ]
  },
  {
   "cell_type": "code",
   "execution_count": null,
   "id": "0e0be6ae-3806-414d-9ff4-f336faf044c8",
   "metadata": {},
   "outputs": [],
   "source": []
  },
  {
   "cell_type": "code",
   "execution_count": null,
   "id": "a22d4ae1-8f9e-49b8-bcdb-a319de44ab43",
   "metadata": {},
   "outputs": [],
   "source": []
  }
 ],
 "metadata": {
  "kernelspec": {
   "display_name": "Python 3 (ipykernel)",
   "language": "python",
   "name": "python3"
  },
  "language_info": {
   "codemirror_mode": {
    "name": "ipython",
    "version": 3
   },
   "file_extension": ".py",
   "mimetype": "text/x-python",
   "name": "python",
   "nbconvert_exporter": "python",
   "pygments_lexer": "ipython3",
   "version": "3.10.6"
  }
 },
 "nbformat": 4,
 "nbformat_minor": 5
}
