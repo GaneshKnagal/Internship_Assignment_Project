{
 "cells": [
  {
   "cell_type": "markdown",
   "id": "7cf8f0b8-2249-48bb-b27f-4215748a015c",
   "metadata": {},
   "source": [
    "statistics_worksheet_1"
   ]
  },
  {
   "cell_type": "markdown",
   "id": "35f55207-0ebb-418b-82f2-4679402a6bc7",
   "metadata": {},
   "source": [
    "Answer "
   ]
  },
  {
   "cell_type": "markdown",
   "id": "e3813214-4977-4919-b7cb-28806e312ab2",
   "metadata": {},
   "source": [
    "1. a\n",
    "2. a\n",
    "3. c\n",
    "4. c\n",
    "5. c\n",
    "6. b\n",
    "7. b \n",
    "8. a\n",
    "9. c"
   ]
  },
  {
   "cell_type": "markdown",
   "id": "7db9cb29-29a7-42b9-b4c0-31e0202d7429",
   "metadata": {},
   "source": [
    "# 10. What do you understand by the term Normal Distribution?\n",
    "Answer: A normal distribution is a probability distribution that is symmetric about the mean, \n",
    "showing that data near the mean are more frequent in occurrence than data far from the mean.\n",
    " In graph form, normal distribution will appear as a bell curve."
   ]
  },
  {
   "cell_type": "markdown",
   "id": "6418447c-4279-42e1-bea6-09e79d4b68f9",
   "metadata": {},
   "source": [
    "# 11. How do you handle missing data? What imputation techniques do you recommend?\n",
    "Answer: There are several ways to handle missing data. One of the most common ways is to use imputation techniques.\n",
    " Imputation techniques are methods used to fill in missing data points with estimated values based on other available information.\n",
    " Some of the commonly used imputation techniques are mean imputation, median imputation, mode imputation,\n",
    "regression imputation, and k-nearest neighbor imputation."
   ]
  },
  {
   "cell_type": "markdown",
   "id": "4a91f093-b1b2-4c42-bf4f-a03bf661002f",
   "metadata": {},
   "source": [
    "# 12. What is A/B testing?\n",
    "Answer: A/B testing is a statistical method used to compare two versions of a product or service to determine which one performs better.\n",
    " In A/B testing, a randomized experiment is conducted with two variants, A and B.\n",
    " Variant A is the control group and variant B is the test group.\n",
    " The performance of both variants is compared to determine which one performs better.\n"
   ]
  },
  {
   "cell_type": "markdown",
   "id": "f79cb338-0ea9-4c39-b400-6a2986b0525a",
   "metadata": {},
   "source": [
    "# 13. Is mean imputation of missing data acceptable practice?\n",
    "Answer: Linear regression is a statistical method used to model the relationship between two variables \n",
    " by fitting a linear equation to the observed data. The equation takes the form of y = mx + b, where y is the dependent variable, \n",
    " x is the independent variable, m is the slope of the line, and b is the y-intercept. \n",
    " The goal of linear regression is to find the best-fitting line through the data points.\n",
    " "
   ]
  },
  {
   "cell_type": "markdown",
   "id": "c34a019d-3546-4193-8b53-fe60e1429e44",
   "metadata": {},
   "source": [
    "# 14. What is linear regression in statistics?\n",
    "Answer: Linear regression is a statistical method used to model the relationship between two variables \n",
    " by fitting a linear equation to the observed data. The equation takes the form of y = mx + b, where y is the dependent variable, \n",
    " x is the independent variable, m is the slope of the line, and b is the y-intercept. \n",
    " The goal of linear regression is to find the best-fitting line through the data points.\n",
    " \n"
   ]
  },
  {
   "cell_type": "markdown",
   "id": "0c5be93a-4bd3-4b47-baeb-66984314f106",
   "metadata": {},
   "source": [
    "# 15. What are the various branches of statistics?\n",
    "Answer: Statistics is a broad field that encompasses many different branches. Some of the main branches of statistics include descriptive   statistics,  inferential statistics, probability theory, statistical modeling, and statistical learning. Descriptive statistics    involves summarizing and  describing data using measures such as mean, median, and standard deviation. Inferential statistics involves making inferences about a population based on a sample of data. Probability theory is the study of random events and their probabilities.  Statistical modeling involves developing models to describe relationships between variables. \n",
    "Statistical learning involves developing algorithms to make predictions or decisions based on data."
   ]
  },
  {
   "cell_type": "code",
   "execution_count": null,
   "id": "71e7b319-b416-4085-82f0-e53c57478ac5",
   "metadata": {},
   "outputs": [],
   "source": []
  }
 ],
 "metadata": {
  "kernelspec": {
   "display_name": "Python 3 (ipykernel)",
   "language": "python",
   "name": "python3"
  },
  "language_info": {
   "codemirror_mode": {
    "name": "ipython",
    "version": 3
   },
   "file_extension": ".py",
   "mimetype": "text/x-python",
   "name": "python",
   "nbconvert_exporter": "python",
   "pygments_lexer": "ipython3",
   "version": "3.10.6"
  }
 },
 "nbformat": 4,
 "nbformat_minor": 5
}
