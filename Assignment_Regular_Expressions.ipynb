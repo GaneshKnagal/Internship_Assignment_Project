{
 "cells": [
  {
   "cell_type": "markdown",
   "id": "f4f63507-5a5f-4521-873e-0745a8ffccef",
   "metadata": {},
   "source": [
    "Assignment- Regular Expressions"
   ]
  },
  {
   "cell_type": "markdown",
   "id": "b91d0ac6-03fd-4e4f-94a2-6384ef9c09f8",
   "metadata": {},
   "source": [
    "Question 1- Write a Python program to check that a string contains only a certain set of characters (in\n",
    "this case a-z, A-Z and 0-9)."
   ]
  },
  {
   "cell_type": "code",
   "execution_count": 1,
   "id": "67ae4db4-82f6-4c70-9c68-f3c602ac0b5f",
   "metadata": {},
   "outputs": [
    {
     "name": "stdin",
     "output_type": "stream",
     "text": [
      "Enter a string:  hello world!\n"
     ]
    },
    {
     "name": "stdout",
     "output_type": "stream",
     "text": [
      "The string contains invalid characters.\n"
     ]
    }
   ],
   "source": [
    "import re\n",
    "\n",
    "def contains_allowed_chars(string):\n",
    "    pattern = r'^[a-zA-Z0-9]+$'\n",
    "\n",
    "    if re.match(pattern, string):\n",
    "        return True\n",
    "    else:\n",
    "        return False\n",
    "\n",
    "test_string = input(\"Enter a string: \")\n",
    "if contains_allowed_chars(test_string):\n",
    "    print(\"The string contains only allowed characters.\")\n",
    "else:\n",
    "    print(\"The string contains invalid characters.\")\n"
   ]
  },
  {
   "cell_type": "code",
   "execution_count": 4,
   "id": "3ac96079-6531-43c5-8664-1c2471bfeae9",
   "metadata": {},
   "outputs": [
    {
     "name": "stdin",
     "output_type": "stream",
     "text": [
      "Enter a string:  helloworld\n"
     ]
    },
    {
     "name": "stdout",
     "output_type": "stream",
     "text": [
      "The string contains only allowed characters.\n"
     ]
    }
   ],
   "source": [
    "test_string = input(\"Enter a string: \")\n",
    "if contains_allowed_chars(test_string):\n",
    "    print(\"The string contains only allowed characters.\")\n",
    "else:\n",
    "    print(\"The string contains invalid characters.\")\n"
   ]
  },
  {
   "cell_type": "code",
   "execution_count": null,
   "id": "4a1707d7-091d-4e62-afe7-480e699e9fd4",
   "metadata": {},
   "outputs": [],
   "source": []
  },
  {
   "cell_type": "markdown",
   "id": "80ea4e26-1d89-46b1-a987-557f9c8d7ba3",
   "metadata": {},
   "source": [
    "Question 2- Create a function in python that matches a string that has an a followed by zero or more b's"
   ]
  },
  {
   "cell_type": "code",
   "execution_count": 5,
   "id": "8ef15f15-cfda-48e9-8a1c-6ca7dcdc1081",
   "metadata": {},
   "outputs": [
    {
     "name": "stdout",
     "output_type": "stream",
     "text": [
      "Match found: a\n",
      "Match found: ab\n",
      "Match found: abb\n",
      "Match found: abc\n",
      "Match found: abcd\n"
     ]
    }
   ],
   "source": [
    "def match_pattern(string):\n",
    "    pattern = r'.b*'  # RegEx pattern: any character followed by zero or more 'b'\n",
    "    match = re.search(pattern, string)\n",
    "    if match:\n",
    "        return True\n",
    "    else:\n",
    "        return False\n",
    "\n",
    "# Test the function\n",
    "strings = ['a', 'ab', 'abb', 'abc', 'abcd']\n",
    "for string in strings:\n",
    "    if match_pattern(string):\n",
    "        print(f\"Match found: {string}\")\n",
    "    else:\n",
    "        print(f\"No match found: {string}\")\n"
   ]
  },
  {
   "cell_type": "code",
   "execution_count": null,
   "id": "e3a71fa2-a411-41b6-9edd-28ace6991a22",
   "metadata": {},
   "outputs": [],
   "source": []
  },
  {
   "cell_type": "markdown",
   "id": "2dab8734-a4ed-4859-b595-0f1f40f48fe6",
   "metadata": {},
   "source": [
    "Question 3- Create a function in python that matches a string that has an a followed by one or more b's"
   ]
  },
  {
   "cell_type": "code",
   "execution_count": 6,
   "id": "7d12fc97-bd18-47ce-971e-4742e49eb716",
   "metadata": {},
   "outputs": [
    {
     "name": "stdout",
     "output_type": "stream",
     "text": [
      "No match found: a\n",
      "Match found: ab\n",
      "Match found: abb\n",
      "Match found: abc\n",
      "Match found: abcd\n"
     ]
    }
   ],
   "source": [
    "def match_pattern(string):\n",
    "    pattern = r'^.b+'  # RegEx pattern: any character followed by one or more 'b'\n",
    "    match = re.search(pattern, string)\n",
    "    if match:\n",
    "        return True\n",
    "    else:\n",
    "        return False\n",
    "\n",
    "# Test the function\n",
    "strings = ['a', 'ab', 'abb', 'abc', 'abcd']\n",
    "for string in strings:\n",
    "    if match_pattern(string):\n",
    "        print(f\"Match found: {string}\")\n",
    "    else:\n",
    "        print(f\"No match found: {string}\")\n"
   ]
  },
  {
   "cell_type": "code",
   "execution_count": null,
   "id": "3089bb62-c456-4e8d-b27b-ee3dca1be854",
   "metadata": {},
   "outputs": [],
   "source": []
  },
  {
   "cell_type": "markdown",
   "id": "939030dc-1b2b-4b38-8312-8d7061b0ab6e",
   "metadata": {},
   "source": [
    "Question 4- Create a function in Python and use RegEx that matches a string that has an a followed by\n",
    "zero or one 'b'."
   ]
  },
  {
   "cell_type": "code",
   "execution_count": 7,
   "id": "82f52331-1f37-4811-bb86-be79e5067236",
   "metadata": {},
   "outputs": [
    {
     "name": "stdout",
     "output_type": "stream",
     "text": [
      "Match found: a\n",
      "Match found: ab\n",
      "Match found: abb\n",
      "Match found: abc\n"
     ]
    }
   ],
   "source": [
    "def match_pattern(string):\n",
    "    pattern = r'^.+b?$'  # RegEx pattern: any character followed by zero or one 'b'\n",
    "    match = re.match(pattern, string)\n",
    "    if match:\n",
    "        return True\n",
    "    else:\n",
    "        return False\n",
    "\n",
    "# Test the function\n",
    "strings = ['a', 'ab', 'abb', 'abc']\n",
    "for string in strings:\n",
    "    if match_pattern(string):\n",
    "        print(f\"Match found: {string}\")\n",
    "    else:\n",
    "        print(f\"No match found: {string}\")\n"
   ]
  },
  {
   "cell_type": "code",
   "execution_count": null,
   "id": "029e9774-9343-4b7f-a6ec-dbcf50bc7d06",
   "metadata": {},
   "outputs": [],
   "source": []
  },
  {
   "cell_type": "markdown",
   "id": "c41212e7-9ece-42bf-abeb-fd19b30d9ec3",
   "metadata": {},
   "source": [
    "Question 5- Write a Python program that matches a string that has an a followed by three 'b'."
   ]
  },
  {
   "cell_type": "code",
   "execution_count": 3,
   "id": "b804747b-fabb-4863-a123-58a20ed421e3",
   "metadata": {},
   "outputs": [
    {
     "name": "stdout",
     "output_type": "stream",
     "text": [
      "Match found: abbb\n",
      "Match found: cdebbb\n",
      "Match found: xyz bbb\n",
      "Match found: 1234bbb\n",
      "No match found: ab\n"
     ]
    }
   ],
   "source": [
    "def match_pattern(string):\n",
    "    pattern = r'.{3}b'  # RegEx pattern: any character followed by three 'b'\n",
    "    match = re.search(pattern, string)\n",
    "    if match:\n",
    "        return True\n",
    "    else:\n",
    "        return False\n",
    "\n",
    "# Test the program\n",
    "strings = ['abbb', 'cdebbb', 'xyz bbb', '1234bbb', 'ab']\n",
    "for string in strings:\n",
    "    if match_pattern(string):\n",
    "        print(f\"Match found: {string}\")\n",
    "    else:\n",
    "        print(f\"No match found: {string}\")\n"
   ]
  },
  {
   "cell_type": "code",
   "execution_count": null,
   "id": "12369e95-2cf9-4310-9223-5bf1c18cd79f",
   "metadata": {},
   "outputs": [],
   "source": []
  },
  {
   "cell_type": "markdown",
   "id": "a1e4fbb1-b8cc-4a99-aa9b-d480d39ce1d5",
   "metadata": {},
   "source": [
    "Question 6- Write a regular expression in Python to split a string into uppercase letters."
   ]
  },
  {
   "cell_type": "code",
   "execution_count": 9,
   "id": "861dc24c-976b-4700-a71d-0a9844f50daf",
   "metadata": {},
   "outputs": [
    {
     "name": "stdout",
     "output_type": "stream",
     "text": [
      "['Hello', 'World', 'Bye']\n"
     ]
    }
   ],
   "source": [
    "string = \"HelloWorldBye\"\n",
    "# Split the string at each occurrence of an uppercase letter\n",
    "result = re.split(r\"(?=[A-Z])\", string)\n",
    "\n",
    "# Remove empty string from the resulting list\n",
    "result = [substring for substring in result if substring]\n",
    "\n",
    "print(result)\n"
   ]
  },
  {
   "cell_type": "code",
   "execution_count": 12,
   "id": "39653639-488b-4427-b9fc-2f0b624b6a3b",
   "metadata": {},
   "outputs": [
    {
     "name": "stdout",
     "output_type": "stream",
     "text": [
      "['Importance', 'Of', 'Regular', 'Expressions', 'In', 'Python']\n"
     ]
    }
   ],
   "source": [
    "# Sample text: “ImportanceOfRegularExpressionsInPython”\n",
    "string = \"ImportanceOfRegularExpressionsInPython\"\n",
    "result = re.split(r\"(?=[A-Z])\", string)\n",
    "result = [substring for substring in result if substring]\n",
    "\n",
    "print(result)"
   ]
  },
  {
   "cell_type": "code",
   "execution_count": null,
   "id": "747314e2-2f0b-4cdb-9142-930722cac812",
   "metadata": {},
   "outputs": [],
   "source": []
  },
  {
   "cell_type": "markdown",
   "id": "593ce3a7-6063-4911-a537-58fe7717ecfc",
   "metadata": {},
   "source": [
    "Question 7- Write a Python program that matches a string that has an a followed by two to three 'b'."
   ]
  },
  {
   "cell_type": "code",
   "execution_count": 13,
   "id": "fdb024d5-073b-4403-8d92-1b65993d0c1f",
   "metadata": {},
   "outputs": [
    {
     "name": "stdin",
     "output_type": "stream",
     "text": [
      "Enter a string:  Bbbb aaab aabb aaccbbb sssbbbc\n"
     ]
    },
    {
     "name": "stdout",
     "output_type": "stream",
     "text": [
      "Matches found: bbb, bb, bbb, bbb\n"
     ]
    }
   ],
   "source": [
    "def match_pattern(text):\n",
    "    pattern = r'b{2,3}'\n",
    "    matches = re.findall(pattern, text)\n",
    "    return matches\n",
    "\n",
    "# Test the program\n",
    "\n",
    "input_string = input(\"Enter a string: \")\n",
    "result = match_pattern(input_string)\n",
    "if result:\n",
    "    print(f\"Matches found: {', '.join(result)}\")\n",
    "else:\n",
    "    print(\"No matches found.\")\n"
   ]
  },
  {
   "cell_type": "code",
   "execution_count": null,
   "id": "e0e930b8-e378-436c-80f1-a08300f98a9b",
   "metadata": {},
   "outputs": [],
   "source": []
  },
  {
   "cell_type": "markdown",
   "id": "b1e91643-d114-4566-97b4-6b981b401183",
   "metadata": {},
   "source": [
    "Question 8- Write a Python program to find sequences of lowercase letters joined with a underscore."
   ]
  },
  {
   "cell_type": "code",
   "execution_count": 6,
   "id": "48daf299-e9b8-48ca-9bf7-2b630a0458e7",
   "metadata": {},
   "outputs": [
    {
     "name": "stdout",
     "output_type": "stream",
     "text": [
      "Sequences of lowercase letters joined with an underscore:\n",
      "hello_world\n",
      "this_is\n",
      "a_sequence\n",
      "ext_with\n",
      "owercase_letters\n"
     ]
    }
   ],
   "source": [
    "def lowercase_sequences_with_underscore(input_string):\n",
    "    pattern = r'[a-z]+_[a-z]+'\n",
    "    lowercase_sequences = re.findall(pattern, input_string)\n",
    "    return lowercase_sequences\n",
    "\n",
    "\n",
    "# Test the function\n",
    "text = \"hello_world this_is_a_sequence random Text_with_Lowercase_letters_only\"\n",
    "sequences = lowercase_sequences_with_underscore(text)\n",
    "print(\"Sequences of lowercase letters joined with an underscore:\")\n",
    "print(\"\\n\".join(sequences))"
   ]
  },
  {
   "cell_type": "code",
   "execution_count": null,
   "id": "43e8976e-6c98-4383-aa55-d843cecc5ae2",
   "metadata": {},
   "outputs": [],
   "source": []
  },
  {
   "cell_type": "markdown",
   "id": "dbaa52c3-fab3-46c1-a2d9-eea3f623a9e5",
   "metadata": {},
   "source": [
    "Question 9- Write a Python program that matches a string that has an 'a' followed by anything, ending in\n",
    "'b'."
   ]
  },
  {
   "cell_type": "code",
   "execution_count": 8,
   "id": "f379fa83-a07d-4cc0-8b95-099681937cf9",
   "metadata": {},
   "outputs": [
    {
     "name": "stdin",
     "output_type": "stream",
     "text": [
      "Enter a string:  abracadabra\n"
     ]
    },
    {
     "name": "stdout",
     "output_type": "stream",
     "text": [
      "The string does not match the pattern.\n"
     ]
    }
   ],
   "source": [
    "def match_pattern(input_string):\n",
    "    pattern = r'a.*b$'\n",
    "    return re.match(pattern, input_string)\n",
    "\n",
    "\n",
    "input_string = input(\"Enter a string: \")\n",
    "if match_pattern(input_string):\n",
    "    print(\"The string matches the pattern.\")\n",
    "else:\n",
    "    print(\"The string does not match the pattern.\")\n"
   ]
  },
  {
   "cell_type": "code",
   "execution_count": 9,
   "id": "e10e62e8-0c59-4f7b-8e13-9b2bdf8ffad3",
   "metadata": {},
   "outputs": [
    {
     "name": "stdin",
     "output_type": "stream",
     "text": [
      "Enter a string:  aooooccb\n"
     ]
    },
    {
     "name": "stdout",
     "output_type": "stream",
     "text": [
      "The string matches the pattern.\n"
     ]
    }
   ],
   "source": [
    "input_string = input(\"Enter a string: \")\n",
    "if match_pattern(input_string):\n",
    "    print(\"The string matches the pattern.\")\n",
    "else:\n",
    "    print(\"The string does not match the pattern.\")\n"
   ]
  },
  {
   "cell_type": "code",
   "execution_count": null,
   "id": "5a31931f-f7fc-46fe-8122-5e197010940b",
   "metadata": {},
   "outputs": [],
   "source": []
  },
  {
   "cell_type": "markdown",
   "id": "e721839a-30e8-40af-85f8-faa28facfff0",
   "metadata": {},
   "source": [
    "Question 10- Write a Python program that matches a word at the beginning of a string."
   ]
  },
  {
   "cell_type": "code",
   "execution_count": 10,
   "id": "6bc61269-ee9c-4cd4-aaf1-33a317f23c03",
   "metadata": {},
   "outputs": [
    {
     "name": "stdin",
     "output_type": "stream",
     "text": [
      "Enter a string:  hello_world\n",
      "Enter the word to match at the beginning:  hello\n"
     ]
    },
    {
     "name": "stdout",
     "output_type": "stream",
     "text": [
      "The word 'hello' matches at the beginning of the string.\n"
     ]
    }
   ],
   "source": [
    "def match_word_at_beginning(input_string, word):\n",
    "    pattern = r'^' + re.escape(word)\n",
    "    return re.match(pattern, input_string)\n",
    "\n",
    "\n",
    "input_string = input(\"Enter a string: \")\n",
    "word_to_match = input(\"Enter the word to match at the beginning: \")\n",
    "\n",
    "if match_word_at_beginning(input_string, word_to_match):\n",
    "    print(f\"The word '{word_to_match}' matches at the beginning of the string.\")\n",
    "else:\n",
    "    print(f\"The word '{word_to_match}' does not match at the beginning of the string.\")\n"
   ]
  },
  {
   "cell_type": "code",
   "execution_count": 11,
   "id": "0204083d-d9f4-43e7-b561-54c745ce578e",
   "metadata": {},
   "outputs": [
    {
     "name": "stdin",
     "output_type": "stream",
     "text": [
      "Enter a string:  python_program\n",
      "Enter the word to match at the beginning:  program\n"
     ]
    },
    {
     "name": "stdout",
     "output_type": "stream",
     "text": [
      "The word 'program' does not match at the beginning of the string.\n"
     ]
    }
   ],
   "source": [
    "input_string = input(\"Enter a string: \")\n",
    "word_to_match = input(\"Enter the word to match at the beginning: \")\n",
    "\n",
    "if match_word_at_beginning(input_string, word_to_match):\n",
    "    print(f\"The word '{word_to_match}' matches at the beginning of the string.\")\n",
    "else:\n",
    "    print(f\"The word '{word_to_match}' does not match at the beginning of the string.\")\n"
   ]
  },
  {
   "cell_type": "code",
   "execution_count": null,
   "id": "0aed75d3-0a97-4db1-b2b7-a97573d48b2f",
   "metadata": {},
   "outputs": [],
   "source": []
  },
  {
   "cell_type": "markdown",
   "id": "a56827a2-06e0-4ee0-a67f-eebc4e0f99ba",
   "metadata": {},
   "source": [
    "Question 11- Write a Python program to match a string that contains only upper and lowercase letters,\n",
    "numbers, and underscores."
   ]
  },
  {
   "cell_type": "code",
   "execution_count": 12,
   "id": "48459abb-7d13-403e-9523-4284f37ac7cf",
   "metadata": {},
   "outputs": [
    {
     "name": "stdin",
     "output_type": "stream",
     "text": [
      "Enter a string:  Hello_World123\n"
     ]
    },
    {
     "name": "stdout",
     "output_type": "stream",
     "text": [
      "The string contains only upper and lowercase letters, numbers, and underscores.\n"
     ]
    }
   ],
   "source": [
    "def match_alphanumeric_underscore(input_string):\n",
    "    pattern = r'^[a-zA-Z0-9_]+$'\n",
    "    return re.match(pattern, input_string)\n",
    "\n",
    "\n",
    "input_string = input(\"Enter a string: \")\n",
    "\n",
    "if match_alphanumeric_underscore(input_string):\n",
    "    print(\"The string contains only upper and lowercase letters, numbers, and underscores.\")\n",
    "else:\n",
    "    print(\"The string contains characters other than upper and lowercase letters, numbers, and underscores.\")\n"
   ]
  },
  {
   "cell_type": "code",
   "execution_count": 13,
   "id": "dcd89c8e-472b-48ee-9f4a-57c5670bd2d6",
   "metadata": {},
   "outputs": [
    {
     "name": "stdin",
     "output_type": "stream",
     "text": [
      "Enter a string:  Hello@World\n"
     ]
    },
    {
     "name": "stdout",
     "output_type": "stream",
     "text": [
      "The string contains characters other than upper and lowercase letters, numbers, and underscores.\n"
     ]
    }
   ],
   "source": [
    "input_string = input(\"Enter a string: \")\n",
    "\n",
    "if match_alphanumeric_underscore(input_string):\n",
    "    print(\"The string contains only upper and lowercase letters, numbers, and underscores.\")\n",
    "else:\n",
    "    print(\"The string contains characters other than upper and lowercase letters, numbers, and underscores.\")\n"
   ]
  },
  {
   "cell_type": "code",
   "execution_count": null,
   "id": "6ecc06a7-cb2b-419b-a1c1-04a68b160114",
   "metadata": {},
   "outputs": [],
   "source": []
  },
  {
   "cell_type": "markdown",
   "id": "402614a4-b982-48e0-a6fa-b4e86f40aafc",
   "metadata": {},
   "source": [
    "Question 12- Write a Python program where a string will start with a specific number."
   ]
  },
  {
   "cell_type": "code",
   "execution_count": 14,
   "id": "00dc5230-ab25-45be-9d20-8c38ae240f03",
   "metadata": {},
   "outputs": [
    {
     "name": "stdin",
     "output_type": "stream",
     "text": [
      "Enter a string:  2023_Goals\n",
      "Enter the number to check at the beginning:  2023\n"
     ]
    },
    {
     "name": "stdout",
     "output_type": "stream",
     "text": [
      "The string starts with the number 2023.\n"
     ]
    }
   ],
   "source": [
    "def starts_with_number(input_string, number):\n",
    "    return input_string.startswith(str(number))\n",
    "\n",
    "\n",
    "input_string = input(\"Enter a string: \")\n",
    "number_to_check = input(\"Enter the number to check at the beginning: \")\n",
    "\n",
    "if starts_with_number(input_string, number_to_check):\n",
    "    print(f\"The string starts with the number {number_to_check}.\")\n",
    "else:\n",
    "    print(f\"The string does not start with the number {number_to_check}.\")\n"
   ]
  },
  {
   "cell_type": "code",
   "execution_count": 15,
   "id": "7d872a8e-7abb-4306-a5db-cd07047cad83",
   "metadata": {},
   "outputs": [
    {
     "name": "stdin",
     "output_type": "stream",
     "text": [
      "Enter a string:  hello_world\n",
      "Enter the number to check at the beginning:  2023\n"
     ]
    },
    {
     "name": "stdout",
     "output_type": "stream",
     "text": [
      "The string does not start with the number 2023.\n"
     ]
    }
   ],
   "source": [
    "input_string = input(\"Enter a string: \")\n",
    "number_to_check = input(\"Enter the number to check at the beginning: \")\n",
    "\n",
    "if starts_with_number(input_string, number_to_check):\n",
    "    print(f\"The string starts with the number {number_to_check}.\")\n",
    "else:\n",
    "    print(f\"The string does not start with the number {number_to_check}.\")\n"
   ]
  },
  {
   "cell_type": "code",
   "execution_count": null,
   "id": "7ef41eb3-00f1-406e-8f30-a85dd2a88bb4",
   "metadata": {},
   "outputs": [],
   "source": []
  },
  {
   "cell_type": "markdown",
   "id": "ce1b2bd8-9d0f-448e-90c8-44426c95e25f",
   "metadata": {},
   "source": [
    "Question 13- Write a Python program to remove leading zeros from an IP address"
   ]
  },
  {
   "cell_type": "code",
   "execution_count": 1,
   "id": "02a00916-717f-4af5-b116-96a49bca27e1",
   "metadata": {},
   "outputs": [
    {
     "name": "stdin",
     "output_type": "stream",
     "text": [
      "Enter the IP address:  192.168.001.001\n"
     ]
    },
    {
     "name": "stdout",
     "output_type": "stream",
     "text": [
      "Cleaned IP address: 192.168.1.1\n"
     ]
    }
   ],
   "source": [
    "import re\n",
    "\n",
    "def remove_leading_zeros(ip_address):\n",
    "    # Define the regex pattern to match leading zeros in each component of the IP address\n",
    "    pattern = r'\\b0+(\\d+)\\b'\n",
    "\n",
    "    # Replace the leading zeros with the matched digits\n",
    "    cleaned_ip_address = re.sub(pattern, r'\\1', ip_address)\n",
    "\n",
    "    return cleaned_ip_address\n",
    "\n",
    "\n",
    "try:\n",
    "    # Get the input IP address from the user\n",
    "    input_ip = input(\"Enter the IP address: \")\n",
    "\n",
    "    # Validate the input IP address\n",
    "    components = input_ip.split('.')\n",
    "    if len(components) != 4:\n",
    "        raise ValueError(\"Invalid IP address format. It should have four components separated by dots.\")\n",
    "        \n",
    "    for component in components:\n",
    "        if not component.isdigit() or int(component) < 0 or int(component) > 255:\n",
    "            raise ValueError(\"Invalid IP address format. Each component should be an integer between 0 and 255.\")\n",
    "\n",
    "    # Remove leading zeros from the IP address using regex\n",
    "    cleaned_ip = remove_leading_zeros(input_ip)\n",
    "    print(\"Cleaned IP address:\", cleaned_ip)\n",
    "\n",
    "except ValueError as e:\n",
    "    print(\"Error:\", e)\n",
    "    "
   ]
  },
  {
   "cell_type": "code",
   "execution_count": null,
   "id": "172efb14-a226-4dce-bffc-bcddb126356e",
   "metadata": {},
   "outputs": [],
   "source": []
  },
  {
   "cell_type": "markdown",
   "id": "b4d2220d-7a66-484a-a6dc-98b9040cc524",
   "metadata": {},
   "source": [
    "Question 14- Write a regular expression in python to match a date string in the form of Month name\n",
    "followed by day number and year stored in a text file."
   ]
  },
  {
   "cell_type": "code",
   "execution_count": 21,
   "id": "86e3a874-4b19-4b56-a548-94007d9a00b3",
   "metadata": {},
   "outputs": [
    {
     "name": "stdout",
     "output_type": "stream",
     "text": [
      "Matched dates:\n",
      "July 16, 2023\n",
      "February 5, 2022\n",
      "December 25, 2021\n",
      "July 16, 2023\n"
     ]
    }
   ],
   "source": [
    "import re\n",
    "\n",
    "def extract_dates_from_file(file_path):\n",
    "    date_pattern = r'\\b(?:January|February|March|April|May|June|July|August|September|October|November|December)\\s\\d{1,2},\\s\\d{4}\\b'\n",
    "\n",
    "    with open(file_path, 'r') as file:\n",
    "        text_data = file.read()\n",
    "\n",
    "    dates_found = re.findall(date_pattern, text_data)\n",
    "    return dates_found\n",
    "\n",
    "file_path =r'C:\\Users\\ganes\\Downloads\\Internship_assignment\\data.txt'\n",
    "dates = extract_dates_from_file(file_path)\n",
    "print(\"Matched dates:\")\n",
    "for date in dates:\n",
    "    print(date)\n",
    "    \n",
    "# sample text :July 16, 2023 ,February 5, 2022,December 25, 2021,Invalid date format: 2022 May 30,Today's date is July 16, 2023."
   ]
  },
  {
   "cell_type": "code",
   "execution_count": null,
   "id": "ddf285ff-a6a7-463b-bcb5-5f08ebd1a6ae",
   "metadata": {},
   "outputs": [],
   "source": []
  },
  {
   "cell_type": "markdown",
   "id": "c5cb67e6-17b8-45f1-b5b5-d0a6778b726a",
   "metadata": {},
   "source": [
    "Question 15- Write a Python program to search some literals strings in a string. Go to the editor"
   ]
  },
  {
   "cell_type": "code",
   "execution_count": 22,
   "id": "28097aa2-da05-40d2-a06c-66a7cf98349f",
   "metadata": {},
   "outputs": [
    {
     "name": "stdout",
     "output_type": "stream",
     "text": [
      "'fox' found in the input string.\n",
      "'dog' found in the input string.\n",
      "'horse' not found in the input string.\n"
     ]
    }
   ],
   "source": [
    "import re\n",
    "\n",
    "def search_literals_in_string(input_string, literals_to_search):\n",
    "    for literal in literals_to_search:\n",
    "        if re.search(r'\\b' + re.escape(literal) + r'\\b', input_string):\n",
    "            print(f\"'{literal}' found in the input string.\")\n",
    "        else:\n",
    "            print(f\"'{literal}' not found in the input string.\")\n",
    "\n",
    "\n",
    "input_string = 'The quick brown fox jumps over the lazy dog.'\n",
    "literals_to_search = ['fox', 'dog', 'horse']\n",
    "\n",
    "search_literals_in_string(input_string, literals_to_search)\n"
   ]
  },
  {
   "cell_type": "code",
   "execution_count": null,
   "id": "4d870a4e-b0d2-475b-8223-0fa0e2174260",
   "metadata": {},
   "outputs": [],
   "source": []
  },
  {
   "cell_type": "markdown",
   "id": "44c4c51f-b532-4198-b16d-6b1ebbcd0479",
   "metadata": {},
   "source": [
    "Question 16- Write a Python program to search a literals string in a string and also find the location\n",
    "within the original string where the pattern occurs"
   ]
  },
  {
   "cell_type": "code",
   "execution_count": 23,
   "id": "226ddf46-6f4f-4fd3-ac70-ed7db68105fa",
   "metadata": {},
   "outputs": [
    {
     "name": "stdout",
     "output_type": "stream",
     "text": [
      "'sample' found in the input string at locations: [10]\n",
      "'literals' found in the input string at locations: [38]\n",
      "'Python' not found in the input string.\n",
      "'search' found in the input string at locations: [27]\n"
     ]
    }
   ],
   "source": [
    "import re\n",
    "\n",
    "def search_literals_with_locations(input_string, literals_to_search):\n",
    "    for literal in literals_to_search:\n",
    "        pattern = re.escape(literal)\n",
    "        matches = re.finditer(pattern, input_string)\n",
    "        locations = [match.start() for match in matches]\n",
    "\n",
    "        if locations:\n",
    "            print(f\"'{literal}' found in the input string at locations: {locations}\")\n",
    "        else:\n",
    "            print(f\"'{literal}' not found in the input string.\")\n",
    "\n",
    "\n",
    "input_string = \"This is a sample string to search for literals.\"\n",
    "literals_to_search = [\"sample\", \"literals\", \"Python\", \"search\"]\n",
    "\n",
    "search_literals_with_locations(input_string, literals_to_search)\n"
   ]
  },
  {
   "cell_type": "code",
   "execution_count": null,
   "id": "59cb1151-4c26-485c-996a-61a75292c3d0",
   "metadata": {},
   "outputs": [],
   "source": []
  },
  {
   "cell_type": "markdown",
   "id": "0a0b8f81-d5a6-42e7-b9c0-5537e8ec270d",
   "metadata": {},
   "source": [
    "Question 17- Write a Python program to find the substrings within a string."
   ]
  },
  {
   "cell_type": "code",
   "execution_count": 24,
   "id": "204ab916-0440-4cd4-9971-92d9992d8ddb",
   "metadata": {},
   "outputs": [
    {
     "name": "stdout",
     "output_type": "stream",
     "text": [
      "Found 'exercises' at positions: 7 - 15\n",
      "Found 'exercises' at positions: 22 - 30\n",
      "Found 'exercises' at positions: 36 - 44\n"
     ]
    }
   ],
   "source": [
    "import re\n",
    "\n",
    "def find_substrings_with_regex(input_string, pattern):\n",
    "    matches = re.finditer(pattern, input_string)\n",
    "\n",
    "    for match in matches:\n",
    "        start = match.start()\n",
    "        end = match.end()\n",
    "        substring = input_string[start:end]\n",
    "        print(f\"Found '{substring}' at positions: {start} - {end-1}\")\n",
    "\n",
    "\n",
    "input_string = 'Python exercises, PHP exercises, C# exercises'\n",
    "pattern = 'exercises'\n",
    "\n",
    "find_substrings_with_regex(input_string, pattern)\n"
   ]
  },
  {
   "cell_type": "code",
   "execution_count": null,
   "id": "824b4f2c-1988-4e67-9c38-0d69b268cf69",
   "metadata": {},
   "outputs": [],
   "source": []
  },
  {
   "cell_type": "markdown",
   "id": "469e44fc-dcfc-458e-8cfe-f3c803562277",
   "metadata": {},
   "source": [
    "Question 18- Write a Python program to find the occurrence and position of the substrings within a\n",
    "string."
   ]
  },
  {
   "cell_type": "code",
   "execution_count": 25,
   "id": "630190bf-69b5-4129-916b-7200f95cdc49",
   "metadata": {},
   "outputs": [
    {
     "name": "stdout",
     "output_type": "stream",
     "text": [
      "Occurrences and Positions:\n",
      "Found 'exercises' at positions: 7 - 15\n",
      "Found 'exercises' at positions: 22 - 30\n",
      "Found 'exercises' at positions: 36 - 44\n"
     ]
    }
   ],
   "source": [
    "import re\n",
    "\n",
    "def find_substrings_with_positions(input_string, pattern):\n",
    "    matches = list(re.finditer(pattern, input_string))\n",
    "\n",
    "    if not matches:\n",
    "        print(\"No occurrences found.\")\n",
    "        return\n",
    "\n",
    "    print(\"Occurrences and Positions:\")\n",
    "    for match in matches:\n",
    "        substring = match.group()\n",
    "        start = match.start()\n",
    "        end = match.end()\n",
    "        print(f\"Found '{substring}' at positions: {start} - {end-1}\")\n",
    "\n",
    "\n",
    "input_string = 'Python exercises, PHP exercises, C# exercises'\n",
    "pattern = 'exercises'\n",
    "\n",
    "find_substrings_with_positions(input_string, pattern)\n"
   ]
  },
  {
   "cell_type": "code",
   "execution_count": null,
   "id": "9cd4355a-bb83-42e1-be5e-fdf0765e0088",
   "metadata": {},
   "outputs": [],
   "source": []
  },
  {
   "cell_type": "markdown",
   "id": "5a885044-94c6-4a48-b03d-d25fb1c54547",
   "metadata": {},
   "source": [
    "Question 19- Write a Python program to convert a date of yyyy-mm-dd format to dd-mm-yyyy format."
   ]
  },
  {
   "cell_type": "code",
   "execution_count": 26,
   "id": "50a3c5d7-db24-4e72-b56a-38b6b2b61787",
   "metadata": {},
   "outputs": [
    {
     "name": "stdout",
     "output_type": "stream",
     "text": [
      "Converted date: 16-07-2023\n"
     ]
    }
   ],
   "source": [
    "import re\n",
    "\n",
    "def convert_date_format(input_date):\n",
    "    # Regular expression pattern to match \"yyyy-mm-dd\" format\n",
    "    date_pattern = r'(\\d{4})-(\\d{2})-(\\d{2})'\n",
    "    \n",
    "    # Replacing the matched parts with \"dd-mm-yyyy\" format\n",
    "    converted_date = re.sub(date_pattern, r'\\3-\\2-\\1', input_date)\n",
    "    \n",
    "    return converted_date\n",
    "\n",
    "\n",
    "date_to_convert = \"2023-07-16\"\n",
    "converted_date = convert_date_format(date_to_convert)\n",
    "print(\"Converted date:\", converted_date)\n"
   ]
  },
  {
   "cell_type": "code",
   "execution_count": null,
   "id": "4e859832-8876-4e97-9cbd-5294645a732e",
   "metadata": {},
   "outputs": [],
   "source": []
  },
  {
   "cell_type": "markdown",
   "id": "86593a81-39b5-4890-ab3b-88f3ca761500",
   "metadata": {},
   "source": [
    "Question 20- Write a Python program to find all words starting with 'a' or 'e' in a given string."
   ]
  },
  {
   "cell_type": "code",
   "execution_count": 27,
   "id": "7ea68ae4-8453-4c81-9b9f-55d7877b9f2a",
   "metadata": {},
   "outputs": [
    {
     "name": "stdout",
     "output_type": "stream",
     "text": [
      "Words starting with 'a' or 'e': ['Apple', 'and', 'are', 'Elephant', 'an', 'animal', 'eagle']\n"
     ]
    }
   ],
   "source": [
    "import re\n",
    "\n",
    "def find_words_starting_with_a_or_e(input_string):\n",
    "    # Regular expression pattern to match words starting with 'a' or 'e'\n",
    "    pattern = r'\\b[aAeE]\\w*\\b'\n",
    "    \n",
    "    # Finding all matches in the input string\n",
    "    matched_words = re.findall(pattern, input_string)\n",
    "    \n",
    "    return matched_words\n",
    "\n",
    "\n",
    "input_string = \"Apple and orange are fruits. Elephant is an animal. The eagle flies high.\"\n",
    "matched_words = find_words_starting_with_a_or_e(input_string)\n",
    "print(\"Words starting with 'a' or 'e':\", matched_words)\n"
   ]
  },
  {
   "cell_type": "code",
   "execution_count": null,
   "id": "19bc9a9b-7d50-4e7e-a35e-2ab4031a18d8",
   "metadata": {},
   "outputs": [],
   "source": []
  },
  {
   "cell_type": "markdown",
   "id": "899cdc32-6e51-4b33-9b88-e17839bba89b",
   "metadata": {},
   "source": [
    "Question 21- Write a Python program to separate and print the numbers and their position of a given\n",
    "string."
   ]
  },
  {
   "cell_type": "code",
   "execution_count": 28,
   "id": "ac0ac9d3-64c2-40f7-8c82-efe311614d4a",
   "metadata": {},
   "outputs": [
    {
     "name": "stdout",
     "output_type": "stream",
     "text": [
      "Numbers and Positions:\n",
      "Number '123' found at positions: 29 - 31\n",
      "Number '45' found at positions: 33 - 34\n",
      "Number '2023' found at positions: 49 - 52\n"
     ]
    }
   ],
   "source": [
    "import re\n",
    "\n",
    "def find_numbers_with_positions(input_string):\n",
    "    # Regular expression pattern to match numbers\n",
    "    number_pattern = r'\\b\\d+\\b'\n",
    "    \n",
    "    # Finding all matches in the input string\n",
    "    matches = list(re.finditer(number_pattern, input_string))\n",
    "\n",
    "    if not matches:\n",
    "        print(\"No numbers found.\")\n",
    "        return\n",
    "\n",
    "    print(\"Numbers and Positions:\")\n",
    "    for match in matches:\n",
    "        number = match.group()\n",
    "        start = match.start()\n",
    "        end = match.end()\n",
    "        print(f\"Number '{number}' found at positions: {start} - {end-1}\")\n",
    "\n",
    "\n",
    "input_string = \"The price of the product is $123.45. The year is 2023.\"\n",
    "find_numbers_with_positions(input_string)\n"
   ]
  },
  {
   "cell_type": "code",
   "execution_count": null,
   "id": "bc692f57-c2b9-4ab1-bba0-54029cec91b2",
   "metadata": {},
   "outputs": [],
   "source": []
  },
  {
   "cell_type": "markdown",
   "id": "5bb66dd9-b3dd-4a0d-8054-aca598b8e6f3",
   "metadata": {},
   "source": [
    "Question 22- Write a regular expression in python program to extract maximum numeric value from a\n",
    "string"
   ]
  },
  {
   "cell_type": "code",
   "execution_count": 29,
   "id": "bbd16e01-a4ff-46a2-8c2d-9d775a902022",
   "metadata": {},
   "outputs": [
    {
     "name": "stdout",
     "output_type": "stream",
     "text": [
      "Maximum numeric value: 2023\n"
     ]
    }
   ],
   "source": [
    "import re\n",
    "\n",
    "def extract_maximum_numeric_value(input_string):\n",
    "    # Regular expression pattern to match numeric values\n",
    "    number_pattern = r'\\b\\d+\\b'\n",
    "    \n",
    "    # Finding all numeric values in the input string\n",
    "    numeric_values = list(map(int, re.findall(number_pattern, input_string)))\n",
    "\n",
    "    if not numeric_values:\n",
    "        return None\n",
    "\n",
    "    max_value = max(numeric_values)\n",
    "    return max_value\n",
    "\n",
    "\n",
    "input_string = \"The price of the product is $123.45. The year is 2023.\"\n",
    "max_numeric_value = extract_maximum_numeric_value(input_string)\n",
    "\n",
    "if max_numeric_value is not None:\n",
    "    print(\"Maximum numeric value:\", max_numeric_value)\n",
    "else:\n",
    "    print(\"No numeric values found in the input string.\")\n"
   ]
  },
  {
   "cell_type": "code",
   "execution_count": null,
   "id": "b0ae258c-27ed-4a07-8061-543d5b1f94cb",
   "metadata": {},
   "outputs": [],
   "source": []
  },
  {
   "cell_type": "markdown",
   "id": "f6ca4242-59b7-4c8d-92c3-87e192957142",
   "metadata": {},
   "source": [
    "Question 23- Write a Regex in Python to put spaces between words starting with capital letters"
   ]
  },
  {
   "cell_type": "code",
   "execution_count": 30,
   "id": "1a9f94b9-a072-45b8-9659-467e7c21f736",
   "metadata": {},
   "outputs": [
    {
     "name": "stdout",
     "output_type": "stream",
     "text": [
      "Modified string:  The Quick Brown Fox Jumps Over The Lazy Dog\n"
     ]
    }
   ],
   "source": [
    "import re\n",
    "\n",
    "def add_spaces_between_capital_words(input_string):\n",
    "    # Regular expression pattern to match words starting with capital letters\n",
    "    pattern = r'([A-Z])'\n",
    "    \n",
    "    # Replacing the matched capital letters with spaces and the same letter\n",
    "    modified_string = re.sub(pattern, r' \\1', input_string)\n",
    "    \n",
    "    return modified_string\n",
    "\n",
    "\n",
    "input_string = \"TheQuickBrownFoxJumpsOverTheLazyDog\"\n",
    "modified_string = add_spaces_between_capital_words(input_string)\n",
    "print(\"Modified string:\", modified_string)\n"
   ]
  },
  {
   "cell_type": "code",
   "execution_count": null,
   "id": "d9e6d611-98b2-4406-b42c-db0f201eaed4",
   "metadata": {},
   "outputs": [],
   "source": []
  },
  {
   "cell_type": "markdown",
   "id": "f146860c-2202-4408-a536-f6dfb1e8bad3",
   "metadata": {},
   "source": [
    "Question 24- Python regex to find sequences of one upper case letter followed by lower case letters"
   ]
  },
  {
   "cell_type": "code",
   "execution_count": 31,
   "id": "dbb94ce4-5f12-4731-a2ae-e260fe0005f8",
   "metadata": {},
   "outputs": [
    {
     "name": "stdout",
     "output_type": "stream",
     "text": [
      "Sequences of one uppercase letter followed by lowercase letters:\n",
      "['The', 'Quick', 'Brown', 'Fox', 'Jumps', 'Over', 'The', 'Lazy', 'Dog']\n"
     ]
    }
   ],
   "source": [
    "import re\n",
    "\n",
    "def find_uppercase_lowercase_sequences(input_string):\n",
    "    # Regular expression pattern to match one uppercase letter followed by lowercase letters\n",
    "    pattern = r'[A-Z][a-z]+'\n",
    "    \n",
    "    # Finding all matches in the input string\n",
    "    matched_sequences = re.findall(pattern, input_string)\n",
    "    \n",
    "    return matched_sequences\n",
    "\n",
    "\n",
    "input_string = \"TheQuickBrownFoxJumpsOverTheLazyDog\"\n",
    "matched_sequences = find_uppercase_lowercase_sequences(input_string)\n",
    "print(\"Sequences of one uppercase letter followed by lowercase letters:\")\n",
    "print(matched_sequences)\n"
   ]
  },
  {
   "cell_type": "code",
   "execution_count": null,
   "id": "7a2eb0a5-33ea-447c-9414-176b162f58b5",
   "metadata": {},
   "outputs": [],
   "source": []
  },
  {
   "cell_type": "markdown",
   "id": "76c25d46-1921-4204-9676-abe5ba11d0e2",
   "metadata": {},
   "source": [
    "Question 25- Write a Python program to remove duplicate words from Sentence using Regular\n",
    "Expression"
   ]
  },
  {
   "cell_type": "code",
   "execution_count": 32,
   "id": "be5ed0ae-4acf-45ba-8b10-fbe5f097cb54",
   "metadata": {},
   "outputs": [
    {
     "name": "stdout",
     "output_type": "stream",
     "text": [
      "Modified sentence: This is a test sentence to remove duplicate words.\n"
     ]
    }
   ],
   "source": [
    "import re\n",
    "\n",
    "def remove_duplicate_words(input_sentence):\n",
    "    # Regular expression pattern to match duplicate words\n",
    "    pattern = r'\\b(\\w+)\\b\\s+\\b\\1\\b'\n",
    "    \n",
    "    # Removing duplicate words using re.sub()\n",
    "    modified_sentence = re.sub(pattern, r'\\1', input_sentence)\n",
    "    \n",
    "    return modified_sentence\n",
    "\n",
    "\n",
    "input_sentence = \"This is is a test test sentence to remove remove duplicate words.\"\n",
    "modified_sentence = remove_duplicate_words(input_sentence)\n",
    "print(\"Modified sentence:\", modified_sentence)\n"
   ]
  },
  {
   "cell_type": "code",
   "execution_count": null,
   "id": "618cf2d9-a57d-4fd5-b185-134ddebfe879",
   "metadata": {},
   "outputs": [],
   "source": []
  },
  {
   "cell_type": "markdown",
   "id": "6a49ba8a-139b-4007-a720-00ca3e73de23",
   "metadata": {},
   "source": [
    "Question 26- Write a python program using RegEx to accept string ending with alphanumeric character."
   ]
  },
  {
   "cell_type": "code",
   "execution_count": 33,
   "id": "b32bd745-e392-462c-bc89-f8fa83c89621",
   "metadata": {},
   "outputs": [
    {
     "name": "stdout",
     "output_type": "stream",
     "text": [
      "'Hello123' ends with an alphanumeric character: True\n",
      "'This is a test string!' ends with an alphanumeric character: False\n"
     ]
    }
   ],
   "source": [
    "import re\n",
    "\n",
    "def check_string_ending_with_alphanumeric(input_string):\n",
    "    # Regular expression pattern to match strings ending with alphanumeric character\n",
    "    pattern = r'^.*[a-zA-Z0-9]$'\n",
    "    \n",
    "    # Checking if the input string matches the pattern using re.fullmatch()\n",
    "    is_match = re.fullmatch(pattern, input_string)\n",
    "    \n",
    "    return is_match is not None\n",
    "\n",
    "\n",
    "input_string1 = \"Hello123\"\n",
    "input_string2 = \"This is a test string!\"\n",
    "    \n",
    "print(f\"'{input_string1}' ends with an alphanumeric character:\", check_string_ending_with_alphanumeric(input_string1))\n",
    "print(f\"'{input_string2}' ends with an alphanumeric character:\", check_string_ending_with_alphanumeric(input_string2))\n"
   ]
  },
  {
   "cell_type": "code",
   "execution_count": null,
   "id": "07edd8e8-7130-438f-bb0e-485f620c46ec",
   "metadata": {},
   "outputs": [],
   "source": []
  },
  {
   "cell_type": "markdown",
   "id": "165c87c5-ba7d-49de-a267-fcc50209dda6",
   "metadata": {},
   "source": [
    "Question 27-Write a python program using RegEx to extract the hashtags."
   ]
  },
  {
   "cell_type": "code",
   "execution_count": 34,
   "id": "9507dbe6-fb7d-4886-be56-15c3eda15db5",
   "metadata": {},
   "outputs": [
    {
     "name": "stdout",
     "output_type": "stream",
     "text": [
      "Extracted hashtags: ['#Doltiwal', '#xyzabc', '#Demonetization']\n"
     ]
    }
   ],
   "source": [
    "import re\n",
    "\n",
    "def extract_hashtags(input_text):\n",
    "    # Regular expression pattern to match hashtags\n",
    "    pattern = r'#\\w+'\n",
    "    \n",
    "    # Finding all matches in the input text\n",
    "    hashtags = re.findall(pattern, input_text)\n",
    "    \n",
    "    return hashtags\n",
    "\n",
    "\n",
    "input_text = 'RT @kapil_kausik: #Doltiwal I mean #xyzabc is \"hurt\" by #Demonetization as the same has rendered USELESS <ed><U+00A0><U+00BD><ed><U+00B1><U+0089> \"acquired funds\" No wo'\n",
    "extracted_hashtags = extract_hashtags(input_text)\n",
    "print(\"Extracted hashtags:\", extracted_hashtags)\n"
   ]
  },
  {
   "cell_type": "code",
   "execution_count": null,
   "id": "75caef4d-b1b9-4914-a5e1-c8f9db5d8d79",
   "metadata": {},
   "outputs": [],
   "source": []
  },
  {
   "cell_type": "markdown",
   "id": "06a2e643-3a21-4552-bc7a-933a950cb95d",
   "metadata": {},
   "source": [
    "Question 28- Write a python program using RegEx to remove <U+..> like symbols\n",
    "Check the below sample text, there are strange symbols something of the sort <U+..> all over the place.\n",
    "You need to come up with a general Regex expression that will cover all such symbols."
   ]
  },
  {
   "cell_type": "code",
   "execution_count": 35,
   "id": "ab1fb09a-a94a-42c8-b279-026db8d013ce",
   "metadata": {},
   "outputs": [
    {
     "name": "stdout",
     "output_type": "stream",
     "text": [
      "Cleaned text: @Jags123456 Bharat band on 28??<ed><ed>Those who are protesting #demonetization are all different party leaders\n"
     ]
    }
   ],
   "source": [
    "import re\n",
    "\n",
    "def remove_special_symbols(input_text):\n",
    "    # Regular expression pattern to match <U+..> like symbols\n",
    "    pattern = r'<U\\+[\\da-fA-F]{2,4}>'\n",
    "    \n",
    "    # Removing the symbols using re.sub()\n",
    "    cleaned_text = re.sub(pattern, '', input_text)\n",
    "    \n",
    "    return cleaned_text\n",
    "\n",
    "\n",
    "input_text = \"@Jags123456 Bharat band on 28??<ed><U+00A0><U+00BD><ed><U+00B8><U+0082>Those who are protesting #demonetization are all different party leaders\"\n",
    "cleaned_text = remove_special_symbols(input_text)\n",
    "print(\"Cleaned text:\", cleaned_text)\n"
   ]
  },
  {
   "cell_type": "code",
   "execution_count": null,
   "id": "5624b733-d08a-4f4b-8c70-4f891cc18d79",
   "metadata": {},
   "outputs": [],
   "source": []
  },
  {
   "cell_type": "markdown",
   "id": "9aaddbd0-773d-41dc-8be7-eacf8dc1cd5d",
   "metadata": {},
   "source": [
    "Question 29- Write a python program to extract dates from the text stored in the text file."
   ]
  },
  {
   "cell_type": "code",
   "execution_count": 37,
   "id": "f8dfd064-df87-42e9-978f-b01e50290e33",
   "metadata": {},
   "outputs": [
    {
     "name": "stdout",
     "output_type": "stream",
     "text": [
      "Extracted dates:\n",
      "12-09-1992\n",
      "15-12-1999\n"
     ]
    }
   ],
   "source": [
    "import re\n",
    "\n",
    "def extract_dates_from_text_file(file_path):\n",
    "    # Regular expression pattern to match dates in dd-mm-yyyy format\n",
    "    date_pattern = r'\\b\\d{2}-\\d{2}-\\d{4}\\b'\n",
    "    \n",
    "    with open(file_path, 'r') as file:\n",
    "        text_data = file.read()\n",
    "\n",
    "    # Finding all matches of the date pattern in the text\n",
    "    dates_found = re.findall(date_pattern, text_data)\n",
    "\n",
    "    return dates_found\n",
    "\n",
    "\n",
    "file_path = r'C:\\Users\\ganes\\Downloads\\Internship_assignment\\sample_text.txt'\n",
    "extracted_dates = extract_dates_from_text_file(file_path)\n",
    "print(\"Extracted dates:\")\n",
    "for date in extracted_dates:\n",
    "    print(date)\n"
   ]
  },
  {
   "cell_type": "code",
   "execution_count": null,
   "id": "33a7727f-13eb-45b0-9985-4c14203ff75b",
   "metadata": {},
   "outputs": [],
   "source": []
  },
  {
   "cell_type": "markdown",
   "id": "72424a1a-8d02-485d-866c-eaec0e296422",
   "metadata": {},
   "source": [
    "Question 30- Write a Python program to replace all occurrences of a space, comma, or dot with a colon."
   ]
  },
  {
   "cell_type": "code",
   "execution_count": 38,
   "id": "b69a8305-209a-4d65-bf74-df5f625a6655",
   "metadata": {},
   "outputs": [
    {
     "name": "stdout",
     "output_type": "stream",
     "text": [
      "Modified text: Python:Exercises::PHP:exercises:\n"
     ]
    }
   ],
   "source": [
    "import re\n",
    "\n",
    "def replace_spaces_commas_dots_with_colons(input_text):\n",
    "    # Regular expression pattern to match spaces, commas, and dots\n",
    "    pattern = r'[ ,.]'\n",
    "    \n",
    "    # Replacing the matched characters with colons using re.sub()\n",
    "    modified_text = re.sub(pattern, ':', input_text)\n",
    "    \n",
    "    return modified_text\n",
    "\n",
    "\n",
    "input_text = 'Python Exercises, PHP exercises.'\n",
    "modified_text = replace_spaces_commas_dots_with_colons(input_text)\n",
    "print(\"Modified text:\", modified_text)\n"
   ]
  },
  {
   "cell_type": "code",
   "execution_count": null,
   "id": "b751883c-687d-48e3-9ec6-0914da77a78c",
   "metadata": {},
   "outputs": [],
   "source": []
  },
  {
   "cell_type": "code",
   "execution_count": null,
   "id": "d64b2ae3-a8ad-408e-98de-8e5c204031b6",
   "metadata": {},
   "outputs": [],
   "source": []
  },
  {
   "cell_type": "code",
   "execution_count": null,
   "id": "57fa053a-2b2b-44fd-a473-28bc6844efc7",
   "metadata": {},
   "outputs": [],
   "source": []
  }
 ],
 "metadata": {
  "kernelspec": {
   "display_name": "Python 3 (ipykernel)",
   "language": "python",
   "name": "python3"
  },
  "language_info": {
   "codemirror_mode": {
    "name": "ipython",
    "version": 3
   },
   "file_extension": ".py",
   "mimetype": "text/x-python",
   "name": "python",
   "nbconvert_exporter": "python",
   "pygments_lexer": "ipython3",
   "version": "3.10.9"
  }
 },
 "nbformat": 4,
 "nbformat_minor": 5
}
