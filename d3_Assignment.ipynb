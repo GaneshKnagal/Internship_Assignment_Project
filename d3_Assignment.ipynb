{
 "cells": [
  {
   "cell_type": "markdown",
   "id": "9ce1f414-9304-465a-9d91-2c149ab2465e",
   "metadata": {},
   "source": [
    "Answer of d3 Assignment "
   ]
  },
  {
   "cell_type": "markdown",
   "id": "83b5ab7f-9122-464d-9f61-32a0423778bb",
   "metadata": {},
   "source": [
    "1. d \n",
    "2. b\n",
    "3. c\n",
    "4. c\n",
    "5. c\n",
    "6. c\n",
    "7. d\n",
    "8. c\n",
    "9. c\n",
    "10. d"
   ]
  },
  {
   "cell_type": "markdown",
   "id": "b4009fbc-f6ea-4442-b845-257623a9660c",
   "metadata": {},
   "source": [
    "11. c\n",
    "12. b\n",
    "13. b\n",
    "14. a\n",
    "15. b\n",
    "16. a\n",
    "17. a\n",
    "18. c\n",
    "19. b\n",
    "20. c"
   ]
  },
  {
   "cell_type": "markdown",
   "id": "9322f6e1-eea4-461f-a906-1c5ea6db3640",
   "metadata": {},
   "source": [
    "21. a\n",
    "22. d\n",
    "23. a \n",
    "24. a \n",
    "25. c\n",
    "26. c\n",
    "27. b\n",
    "28. d\n",
    "29. b\n",
    "30. b"
   ]
  },
  {
   "cell_type": "code",
   "execution_count": null,
   "id": "6c915e28-5151-4f25-9c3b-8dbc2fdeac62",
   "metadata": {},
   "outputs": [],
   "source": []
  },
  {
   "cell_type": "code",
   "execution_count": null,
   "id": "5ae3405a-96ac-49f2-a2b1-750ec89345c2",
   "metadata": {},
   "outputs": [],
   "source": []
  }
 ],
 "metadata": {
  "kernelspec": {
   "display_name": "Python 3 (ipykernel)",
   "language": "python",
   "name": "python3"
  },
  "language_info": {
   "codemirror_mode": {
    "name": "ipython",
    "version": 3
   },
   "file_extension": ".py",
   "mimetype": "text/x-python",
   "name": "python",
   "nbconvert_exporter": "python",
   "pygments_lexer": "ipython3",
   "version": "3.10.6"
  }
 },
 "nbformat": 4,
 "nbformat_minor": 5
}
