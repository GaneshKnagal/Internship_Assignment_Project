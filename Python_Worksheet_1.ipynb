{
 "cells": [
  {
   "cell_type": "markdown",
   "id": "6de64d35-4615-4d75-a363-63d59359ed5c",
   "metadata": {},
   "source": [
    "Python Worksheet 1 "
   ]
  },
  {
   "cell_type": "code",
   "execution_count": null,
   "id": "cce971b6-6043-47e1-ae93-b155a0659a45",
   "metadata": {},
   "outputs": [],
   "source": [
    "Answers "
   ]
  },
  {
   "cell_type": "markdown",
   "id": "4d7c2df6-310a-4333-8641-bf341cbd08f9",
   "metadata": {},
   "source": [
    "1. c\n",
    "2. b \n",
    "3. c\n",
    "4. a\n",
    "5. d\n",
    "6. c\n",
    "7. a\n",
    "8. c\n",
    "9. a,c\n",
    "10. d"
   ]
  },
  {
   "cell_type": "code",
   "execution_count": 1,
   "id": "eae3a105-a5cd-4549-bc1e-82504f72db7a",
   "metadata": {},
   "outputs": [
    {
     "name": "stdout",
     "output_type": "stream",
     "text": [
      "Input a number\n"
     ]
    },
    {
     "name": "stdin",
     "output_type": "stream",
     "text": [
      " 5\n"
     ]
    },
    {
     "name": "stdout",
     "output_type": "stream",
     "text": [
      "The factorial of the number is  120\n"
     ]
    }
   ],
   "source": [
    "# 11. Write a python program to find the factorial of a number.\n",
    "\n",
    "print(\"Input a number\")\n",
    "factorial = int(input())\n",
    "factor = 1\n",
    "for j in range(1, factorial+1):\n",
    "    factor = factor * j\n",
    "print(\"The factorial of the number is \", factor)\n",
    "\n"
   ]
  },
  {
   "cell_type": "code",
   "execution_count": 2,
   "id": "2d330b8b-09d3-439d-a64e-a93cfb24d29b",
   "metadata": {},
   "outputs": [
    {
     "name": "stdin",
     "output_type": "stream",
     "text": [
      "Enter any number :  7\n"
     ]
    },
    {
     "name": "stdout",
     "output_type": "stream",
     "text": [
      "7 is a prime number\n"
     ]
    }
   ],
   "source": [
    "# 12. Write a python program to find whether a number is prime or composite.\n",
    "\n",
    "num = int(input(\"Enter any number : \"))\n",
    "if num > 1:\n",
    "    for i in range(2, num):\n",
    "        if (num % i) == 0:\n",
    "            print(num, \"is not a prime number, it is a composite number\")\n",
    "            break\n",
    "    else:\n",
    "        print(num, \"is a prime number\")\n",
    "else:\n",
    "    print(num, \"is not a prime number, it is a composit number\")"
   ]
  },
  {
   "cell_type": "code",
   "execution_count": 4,
   "id": "407e38ea-77be-4c22-9655-23302b7b55f2",
   "metadata": {},
   "outputs": [
    {
     "name": "stdout",
     "output_type": "stream",
     "text": [
      "True\n"
     ]
    }
   ],
   "source": [
    "# 13. Write a python program to check whether a given string is palindrome or not.\n",
    "\n",
    "def palindrome(input_str):\n",
    "    for i in range(len(input_str) // 2):\n",
    "        if input_str[i] != input_str[-i - 1]:\n",
    "            return False\n",
    "    return True\n",
    "\n",
    "input_str = \"aabbcbbaa\"\n",
    "print(palindrome(input_str))\t\n"
   ]
  },
  {
   "cell_type": "code",
   "execution_count": 5,
   "id": "ee8d7694-267a-499a-b407-0b86e2295a2a",
   "metadata": {},
   "outputs": [
    {
     "name": "stdout",
     "output_type": "stream",
     "text": [
      "8.602325267042627\n"
     ]
    }
   ],
   "source": [
    "# 14. Write a Python program to get the third side of right-angled triangle from two given sides.\n",
    "\n",
    "import math\n",
    "\n",
    "def hypotenuse(a, b):\n",
    "    return math.sqrt(a**2 + b**2)\n",
    "\n",
    "a = 5\n",
    "b = 7\n",
    "c = hypotenuse(a, b)\n",
    "\n",
    "print(c)"
   ]
  },
  {
   "cell_type": "code",
   "execution_count": 6,
   "id": "148eb578-0256-49fd-a7df-bbc1c5317099",
   "metadata": {},
   "outputs": [
    {
     "name": "stdout",
     "output_type": "stream",
     "text": [
      "h 1\n",
      "e 1\n",
      "l 3\n",
      "o 2\n",
      "  1\n",
      "w 1\n",
      "r 1\n",
      "d 1\n"
     ]
    }
   ],
   "source": [
    "# 15. Write a python program to print the frequency of each of the characters present in a given string.\n",
    "\n",
    "def count_characters(input_str):\n",
    "    char_counts = {}\n",
    "    for char in input_str:\n",
    "        if char in char_counts:\n",
    "            char_counts[char] += 1\n",
    "        else:\n",
    "            char_counts[char] = 1\n",
    "    return char_counts\n",
    "\n",
    "input_str = \"hello world\"\n",
    "char_counts = count_characters(input_str)\n",
    "\n",
    "for char, count in char_counts.items():\n",
    "    print(char, count)\n",
    "\t"
   ]
  },
  {
   "cell_type": "code",
   "execution_count": null,
   "id": "acb4c3ee-ad4e-491b-8c5a-d7da42c72565",
   "metadata": {},
   "outputs": [],
   "source": []
  }
 ],
 "metadata": {
  "kernelspec": {
   "display_name": "Python 3 (ipykernel)",
   "language": "python",
   "name": "python3"
  },
  "language_info": {
   "codemirror_mode": {
    "name": "ipython",
    "version": 3
   },
   "file_extension": ".py",
   "mimetype": "text/x-python",
   "name": "python",
   "nbconvert_exporter": "python",
   "pygments_lexer": "ipython3",
   "version": "3.10.6"
  }
 },
 "nbformat": 4,
 "nbformat_minor": 5
}
